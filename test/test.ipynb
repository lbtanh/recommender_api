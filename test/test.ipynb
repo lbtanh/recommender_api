{
 "cells": [
  {
   "cell_type": "code",
   "execution_count": 6,
   "metadata": {},
   "outputs": [],
   "source": [
    "import sys\n",
    "sys.path.insert(0,'../FacebookCrawler')\n",
    "import time\n",
    "from facebook_graph_api import *\n",
    "import pandas as pd\n",
    "\n",
    "\n",
    "\n",
    "\n",
    "FORMAT = '%(asctime)-15s %(clientip)s %(user)-8s %(message)s'\n",
    "logging.basicConfig(level=logging.ERROR)\n",
    "LOGGER.info(\"business discovery...\")"
   ]
  },
  {
   "cell_type": "code",
   "execution_count": 12,
   "metadata": {},
   "outputs": [
    {
     "name": "stdout",
     "output_type": "stream",
     "text": [
      "D:\\atvn\\project\\code\\sw_follou\\recommender_api\\test\n"
     ]
    }
   ],
   "source": [
    "import os\n",
    "print(os.getcwd())"
   ]
  },
  {
   "cell_type": "code",
   "execution_count": 14,
   "metadata": {},
   "outputs": [
    {
     "name": "stdout",
     "output_type": "stream",
     "text": [
      "EAACLXTuiZBKkBAD9VvARSuYD5ZCWTQSiEOENThdLIWgqh9H7T7mZCbYEJg35TtTGxEEFwMzydvkb8Ymn9J0WLLk5YUIZBaA4ztFeKZCxymps6jn0AO61Ok4KTT7cq2iZC4nxQEPRrsFPF8GVoZAXr9vqAUXlgiqVBxZBhrXiaCOGsAZDZD 17841401610104138\n"
     ]
    }
   ],
   "source": [
    "token_file_path = '../FacebookCrawler/instagram_token.csv'\n",
    "\n",
    "with open(token_file_path, \"r\") as token_file:\n",
    "    for line in token_file:\n",
    "        token = line.split(\",\")[0].strip()\n",
    "        instagram_business_id = line.split(\",\")[1].strip()\n",
    "        print(token, instagram_business_id)\n",
    "#         add_token_and_ig_business_id(token, instagram_business_id)\n",
    "\n",
    "\n"
   ]
  },
  {
   "cell_type": "code",
   "execution_count": null,
   "metadata": {},
   "outputs": [],
   "source": []
  }
 ],
 "metadata": {
  "kernelspec": {
   "display_name": "Python [conda env:py27]",
   "language": "python",
   "name": "conda-env-py27-py"
  },
  "language_info": {
   "codemirror_mode": {
    "name": "ipython",
    "version": 3
   },
   "file_extension": ".py",
   "mimetype": "text/x-python",
   "name": "python",
   "nbconvert_exporter": "python",
   "pygments_lexer": "ipython3",
   "version": "3.6.6"
  },
  "widgets": {
   "state": {},
   "version": "1.1.2"
  }
 },
 "nbformat": 4,
 "nbformat_minor": 2
}
