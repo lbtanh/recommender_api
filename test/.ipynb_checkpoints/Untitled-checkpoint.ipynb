{
 "cells": [
  {
   "cell_type": "code",
   "execution_count": 150,
   "metadata": {},
   "outputs": [],
   "source": [
    "import sys\n",
    "sys.path.insert(0,'../FacebookCrawler/')\n",
    "sys.path.insert(0,'../database/')\n",
    "import time\n",
    "from facebook_graph_api import *\n",
    "import utils.constants\n",
    "import pandas as pd\n",
    "from cassandra.util import uuid_from_time\n",
    "from threading import Thread\n",
    "import models\n",
    "import db_cassandra\n",
    "from cassandra.query import dict_factory\n",
    "from cassandra.cqlengine import columns, connection\n",
    "import cassandra.util\n",
    "from datetime import datetime\n",
    "\n",
    "FORMAT = '%(asctime)-15s %(clientip)s %(user)-8s %(message)s'\n",
    "logging.basicConfig(level=logging.ERROR)\n",
    "LOGGER.info(\"business discovery...\")\n"
   ]
  },
  {
   "cell_type": "code",
   "execution_count": 153,
   "metadata": {},
   "outputs": [],
   "source": [
    "def get_influencer_profiles(begin, end, cass_session, fb_graph):\n",
    "    connection.set_session(cass_session)\n",
    "    list_business_discovery_all = []\n",
    "    # read instagram id \n",
    "#     path = join(dirname(dirname(os.path.abspath(__file__))),constants.instagram_id_path_file)\n",
    "    path = '../%s'%constants.instagram_id_path_file\n",
    "    with open(path, \"r\") as read_file:\n",
    "        list_id = read_file.read().split('\\n')\n",
    "#     f = open(writer_file, 'a')\n",
    "    i = 0\n",
    "    for instagram_id in list_id[begin:end]:\n",
    "        print('len list %s'%len(list_id[begin:end]))\n",
    "        time.sleep(2)\n",
    "        print('sleeping %s'%constants.TIME_SLEEP)\n",
    "        i = i + 1\n",
    "        print(\"====== %s ======\" %(i))\n",
    "        try:\n",
    "            business_discovery_all = fb_graph.get_business_discovery_all(media_count = constants.MAX_MEDIA, username = instagram_id)#17841401610104138, 17841407517779759\n",
    "            if 'error' not in business_discovery_all:\n",
    "                print(business_discovery_all['username'])\n",
    "                # create list to convert into df and save file\n",
    "                # list_business_discovery_all.append(self.parser_influencer_data(business_discovery_all))\n",
    "                dict_result = fb_graph.parser_influencer_data(business_discovery_all)\n",
    "                dict_result['ts'] = uuid_from_time(time.time())\n",
    "                event = models.UserBusinessDiscovery(**dict_result)\n",
    "                event.save()\n",
    "            else:\n",
    "                print('error: %s'%instagram_id)\n",
    "        except Exception as ex:\n",
    "            print(ex)\n",
    "            pass"
   ]
  },
  {
   "cell_type": "code",
   "execution_count": 154,
   "metadata": {},
   "outputs": [],
   "source": [
    "# constants.KEYSPACE_NAME = 'aify_recommend'\n",
    "constants.KEYSPACE_NAME = 'test'"
   ]
  },
  {
   "cell_type": "code",
   "execution_count": 155,
   "metadata": {},
   "outputs": [
    {
     "name": "stdout",
     "output_type": "stream",
     "text": [
      "/home/anh_lbt/atvn/sw_follou/recommender_api/test\n"
     ]
    },
    {
     "ename": "NoHostAvailable",
     "evalue": "(\"Unable to connect to any servers using keyspace 'test'\", ['172.33.47.9'])",
     "output_type": "error",
     "traceback": [
      "\u001b[0;31m-------------------------------------------------------------\u001b[0m",
      "\u001b[0;31mNoHostAvailable\u001b[0m             Traceback (most recent call last)",
      "\u001b[0;32m<ipython-input-155-e1df72e7682b>\u001b[0m in \u001b[0;36m<module>\u001b[0;34m()\u001b[0m\n\u001b[1;32m     17\u001b[0m \u001b[0;31m#     thread2 = Thread( target=thread2, args=(\"Thread-2\",fb_graph, 3000, 4000,'4000.txt' ) )\u001b[0m\u001b[0;34m\u001b[0m\u001b[0;34m\u001b[0m\u001b[0m\n\u001b[1;32m     18\u001b[0m \u001b[0;34m\u001b[0m\u001b[0m\n\u001b[0;32m---> 19\u001b[0;31m     \u001b[0mcass_db\u001b[0m \u001b[0;34m=\u001b[0m \u001b[0mdb_cassandra\u001b[0m\u001b[0;34m.\u001b[0m\u001b[0mdb_cassandra\u001b[0m\u001b[0;34m(\u001b[0m\u001b[0;34m[\u001b[0m\u001b[0;34m'172.33.47.9'\u001b[0m\u001b[0;34m]\u001b[0m\u001b[0;34m,\u001b[0m\u001b[0mdict_factory\u001b[0m\u001b[0;34m,\u001b[0m \u001b[0mport_\u001b[0m \u001b[0;34m=\u001b[0m \u001b[0;36m9042\u001b[0m\u001b[0;34m)\u001b[0m\u001b[0;34m\u001b[0m\u001b[0m\n\u001b[0m\u001b[1;32m     20\u001b[0m \u001b[0;31m#     thread1.start()\u001b[0m\u001b[0;34m\u001b[0m\u001b[0;34m\u001b[0m\u001b[0m\n",
      "\u001b[0;32m~/atvn/sw_follou/recommender_api/database/db_cassandra.py\u001b[0m in \u001b[0;36m__init__\u001b[0;34m(self, contact_points, factory, port_)\u001b[0m\n\u001b[1;32m     24\u001b[0m     \u001b[0;32mdef\u001b[0m \u001b[0m__init__\u001b[0m\u001b[0;34m(\u001b[0m\u001b[0mself\u001b[0m\u001b[0;34m,\u001b[0m \u001b[0mcontact_points\u001b[0m\u001b[0;34m,\u001b[0m \u001b[0mfactory\u001b[0m\u001b[0;34m,\u001b[0m \u001b[0mport_\u001b[0m \u001b[0;34m=\u001b[0m \u001b[0mconstants\u001b[0m\u001b[0;34m.\u001b[0m\u001b[0mPORT_CASSANDRA_RS\u001b[0m\u001b[0;34m)\u001b[0m\u001b[0;34m:\u001b[0m\u001b[0;34m\u001b[0m\u001b[0m\n\u001b[1;32m     25\u001b[0m         \u001b[0mself\u001b[0m\u001b[0;34m.\u001b[0m\u001b[0mcluster\u001b[0m \u001b[0;34m=\u001b[0m \u001b[0mCluster\u001b[0m\u001b[0;34m(\u001b[0m\u001b[0mcontact_points\u001b[0m\u001b[0;34m,\u001b[0m \u001b[0mport\u001b[0m \u001b[0;34m=\u001b[0m \u001b[0mport_\u001b[0m\u001b[0;34m)\u001b[0m \u001b[0;31m# cluster = Cluster(['172.33.47.10', '0.0.0.0'])\u001b[0m\u001b[0;34m\u001b[0m\u001b[0m\n\u001b[0;32m---> 26\u001b[0;31m         \u001b[0mself\u001b[0m\u001b[0;34m.\u001b[0m\u001b[0msession\u001b[0m \u001b[0;34m=\u001b[0m \u001b[0mself\u001b[0m\u001b[0;34m.\u001b[0m\u001b[0mcluster\u001b[0m\u001b[0;34m.\u001b[0m\u001b[0mconnect\u001b[0m\u001b[0;34m(\u001b[0m\u001b[0mconstants\u001b[0m\u001b[0;34m.\u001b[0m\u001b[0mKEYSPACE_NAME\u001b[0m\u001b[0;34m)\u001b[0m\u001b[0;34m\u001b[0m\u001b[0m\n\u001b[0m\u001b[1;32m     27\u001b[0m         \u001b[0mself\u001b[0m\u001b[0;34m.\u001b[0m\u001b[0msession\u001b[0m\u001b[0;34m.\u001b[0m\u001b[0mdefault_fetch_size\u001b[0m \u001b[0;34m=\u001b[0m \u001b[0;36m10000000\u001b[0m \u001b[0;31m#needed for large queries, otherwise driver will do pagination. Default is 50000.\u001b[0m\u001b[0;34m\u001b[0m\u001b[0m\n\u001b[1;32m     28\u001b[0m         \u001b[0mself\u001b[0m\u001b[0;34m.\u001b[0m\u001b[0msession\u001b[0m\u001b[0;34m.\u001b[0m\u001b[0mrow_factory\u001b[0m \u001b[0;34m=\u001b[0m \u001b[0mfactory\u001b[0m \u001b[0;31m# use: pandas_factory or dict_factory\u001b[0m\u001b[0;34m\u001b[0m\u001b[0m\n",
      "\u001b[0;32m~/anaconda3/envs/py36/lib/python3.6/site-packages/cassandra/cluster.cpython-36m-x86_64-linux-gnu.so\u001b[0m in \u001b[0;36mcassandra.cluster.Cluster.connect\u001b[0;34m()\u001b[0m\n",
      "\u001b[0;32m~/anaconda3/envs/py36/lib/python3.6/site-packages/cassandra/cluster.cpython-36m-x86_64-linux-gnu.so\u001b[0m in \u001b[0;36mcassandra.cluster.Cluster._new_session\u001b[0;34m()\u001b[0m\n",
      "\u001b[0;32m~/anaconda3/envs/py36/lib/python3.6/site-packages/cassandra/cluster.cpython-36m-x86_64-linux-gnu.so\u001b[0m in \u001b[0;36mcassandra.cluster.Session.__init__\u001b[0;34m()\u001b[0m\n",
      "\u001b[0;31mNoHostAvailable\u001b[0m: (\"Unable to connect to any servers using keyspace 'test'\", ['172.33.47.9'])"
     ]
    }
   ],
   "source": [
    "import facebook_graph_api\n",
    "import argparse, time\n",
    "\n",
    "\n",
    "\n",
    "def thread1(threadname,fb_graph, begin, end,file_name):\n",
    "    print('start %s....'%threadname)\n",
    "    fb_graph.get_influencer_profiles(begin, end,file_name)\n",
    "    print('finished %s....'%threadname)\n",
    "\n",
    "\n",
    "if __name__==\"__main__\":\n",
    "    fb_graph = facebook_graph_api.FacebookGraphApi('../FacebookCrawler/instagram_token.csv')\n",
    "    (fb_graph.access_token,fb_graph.user_id) = constants.TOKENS[-1] \n",
    "\n",
    "    thread1 = Thread( target=thread1, args=(\"Thread-1\",fb_graph, 2500, 3500,'3500.txt') )\n",
    "#     thread2 = Thread( target=thread2, args=(\"Thread-2\",fb_graph, 3000, 4000,'4000.txt' ) )\n",
    "\n",
    "    cass_db = db_cassandra.db_cassandra(['172.33.47.9'],dict_factory, port_ = 9042)\n",
    "#     thread1.start()"
   ]
  },
  {
   "cell_type": "code",
   "execution_count": 40,
   "metadata": {},
   "outputs": [],
   "source": [
    "# get_influencer_profiles(10, 20, cass_db.session, fb_graph)"
   ]
  },
  {
   "cell_type": "code",
   "execution_count": null,
   "metadata": {},
   "outputs": [],
   "source": []
  },
  {
   "cell_type": "code",
   "execution_count": 41,
   "metadata": {},
   "outputs": [],
   "source": [
    "# test insert into cassandra\n",
    "\n",
    "# ['id', 'biography', 'followers_count', 'media_count', 'name', 'username', 'profile_picture_url', 'comments_count', 'likes_count']\n",
    "business_discovery_all = fb_graph.get_business_discovery_all(media_count = constants.MAX_MEDIA, username = 'ludovica_ferlito')#17841401610104138, 17841407517779759\n",
    "if 'error' not in business_discovery_all:\n",
    "#     print(business_discovery_all['username'])\n",
    "    res = fb_graph.parser_influencer_data(business_discovery_all)\n",
    "#     print(res)\n"
   ]
  },
  {
   "cell_type": "code",
   "execution_count": 156,
   "metadata": {},
   "outputs": [],
   "source": [
    "from cassandra.cqlengine.models import Model\n",
    "from cassandra.cqlengine import columns, connection\n",
    "from cassandra.cluster import Cluster\n",
    "from cassandra.query import dict_factory\n",
    "from cassandra.cqlengine.columns import *\n",
    "from cassandra.cqlengine.usertype import UserType\n",
    "\n",
    "\n",
    "\n",
    "import pandas as pd\n",
    "import os\n",
    "\n",
    "def read_multi_file_to_df(dir_files = './data_api_insta/'):\n",
    "    df_inf = pd.DataFrame(index=None)\n",
    "    for file in os.listdir(dir_files):\n",
    "        if file.endswith('.txt'):\n",
    "            data = pd.read_csv(os.path.join(dir_files, file),sep='\\t', header=0)\n",
    "#             df = pd.DataFrame.from_dict(data, orient='columns')\n",
    "            df_inf= pd.concat([data, df_inf], axis=0)\n",
    "    return df_inf\n",
    "\n",
    "\n",
    "class UserBusinessDiscovery(Model):\n",
    "    __keyspace__ = constants.KEYSPACE_NAME\n",
    "    __table_name__ = \"users_business_discovery\"\n",
    "    id = columns.BigInt(primary_key=True)\n",
    "    name = columns.Text()\n",
    "    biography = columns.Text()\n",
    "    media_count = columns.Integer()\n",
    "    comments_count = columns.Integer()\n",
    "    likes_count = columns.Integer()\n",
    "    followers_count = columns.Integer()\n",
    "    username = columns.Text()\n",
    "    profile_picture_url = columns.Text()\n",
    "    updated_date = DateTime()\n",
    "#     ts = columns.UUID(primary_key=True)\n",
    "#     categories = columns.List(columns.Text())\n",
    "#     account_type = columns.Integer()\n",
    "\n",
    "    "
   ]
  },
  {
   "cell_type": "code",
   "execution_count": 43,
   "metadata": {},
   "outputs": [],
   "source": [
    "\n",
    "# #get session\n",
    "_session = Cluster(contact_points =['172.33.47.9'], port=9042).connect('aify_recommend')\n",
    "_session.row_factory = dict_factory\n",
    "connection.set_session(_session)\n",
    "constants.KEYSPACE_NAME = 'aify_recommend'\n",
    "\n",
    "# #preprocessing\n",
    "# df_api = read_avarta_urls_to_df()\n",
    "# df_api['biography']= df_api['biography'].fillna(\"\")\n",
    "# df_api['name']= df_api['name'].fillna(\"\")\n",
    "# df_api['website'] = df_api['website'].fillna(\"\")\n",
    "# #convert to dict and insert into db\n",
    "# for i in range(df_api.shape[0]):\n",
    "#     res = df_api.iloc[i].to_dict()\n",
    "#     res['ts'] = uuid_from_time(time.time())\n",
    "#     event = UserBusinessDiscovery(**res)\n",
    "#     event.save()"
   ]
  },
  {
   "cell_type": "code",
   "execution_count": 10,
   "metadata": {},
   "outputs": [],
   "source": [
    "# class Person(Model):\n",
    "#     first_name  = columns.Text(primary_key=True)\n",
    "#     last_name = columns.Text()\n",
    "\n",
    "# kevin = Person.create(first_name=\"Kevin\", last_name=\"Deldycke\")\n",
    "# dict(kevin)  # returns {'first_name': 'Kevin', 'last_name': 'Deldycke'}\n",
    "# kevin['first_name']  # returns 'Kevin'\n",
    "# kevin.keys()  # returns ['first_name', 'last_name']\n",
    "# kevin.values()  # returns ['Kevin', 'Deldycke']\n",
    "# kevin.items()  # returns [('first_name', 'Kevin'), ('last_name', 'Deldycke')]\n",
    "\n",
    "# kevin['first_name'] = 'KEVIN5000'  # changes the models first name\n",
    "\n",
    "\n",
    "# CREATE TABLE IF NOT EXISTS aify_recommend.Person (\n",
    "#     id timeuuid,\n",
    "#     user_name text,\n",
    "#     first_name text,\n",
    "#     last_name text,\n",
    "#     updated_date timestamp,\n",
    "#     PRIMARY KEY(id, user_name)\n",
    "# ) WITH CLUSTERING ORDER BY (id DESC);\n",
    "\n",
    "\n",
    "\n",
    "import time\n",
    "from cassandra.cqlengine.columns import UUID\n",
    "from cassandra.util import uuid_from_time\n",
    "#using the person model from earlier:\n",
    "class Person(Model):\n",
    "    id = columns.UUID(primary_key=True)\n",
    "    user_name = columns.Text(primary_key=True)\n",
    "    first_name  = columns.Text()\n",
    "    last_name = columns.Text()\n",
    "    updated_date = columns.DateTime()\n",
    "    \n",
    "\n",
    "# person = Person(id = uuid_from_time(time.time()),user_name = 'anhlbt', first_name='Blake', last_name='Eggleston')"
   ]
  },
  {
   "cell_type": "code",
   "execution_count": 11,
   "metadata": {},
   "outputs": [
    {
     "data": {
      "text/plain": [
       "Person(id=UUID('f84afc38-afe3-11e8-b2d9-2f4f5f9f82eb'), user_name='anhle', first_name='Anh', last_name='Le', updated_date=None)"
      ]
     },
     "execution_count": 11,
     "metadata": {},
     "output_type": "execute_result"
    }
   ],
   "source": [
    "person = Person(id = uuid_from_time(time.time()),user_name = 'anhle', first_name='Anh', last_name='Le')\n",
    "person.save()"
   ]
  },
  {
   "cell_type": "code",
   "execution_count": 12,
   "metadata": {},
   "outputs": [],
   "source": [
    "# person.objects(id='81833564-a5bd-11e8-a36c-67d94cf8123f', user_name = 'anhlbt').update(last_name='CCBBBBBBBBBBBCCC')\n",
    "person.objects(id='81833564-a5bd-11e8-a36c-67d94cf8123f', user_name = 'anhlbt').update(last_name='updatedddddddd')"
   ]
  },
  {
   "cell_type": "code",
   "execution_count": 18,
   "metadata": {},
   "outputs": [],
   "source": [
    "# _session.execute(\"CREATE INDEX ON aify_recommend.Person(first_name);\")"
   ]
  },
  {
   "cell_type": "code",
   "execution_count": null,
   "metadata": {},
   "outputs": [],
   "source": []
  },
  {
   "cell_type": "code",
   "execution_count": 50,
   "metadata": {},
   "outputs": [],
   "source": [
    "#convert OrderedMapSerializedKey to dict (from cassandra)\n",
    "from cassandra.util import OrderedMapSerializedKey\n",
    "\n",
    "def OrderedMapSerializedKeyToDict(map_data): \n",
    "    lst = []\n",
    "    for idx_value, i_value in enumerate(map_data):\n",
    "        if type(i_value) is OrderedMapSerializedKey:\n",
    "#             print(i_value) #{'follower': '15.6k', 'link': 'https://instagram.com/martilenia', 'type': 'Instagram Link Click'}\n",
    "            lst.append(dict(i_value))\n",
    "    return lst\n",
    "# OrderedMapSerializedKeyToDict(row[0])\n",
    "\n",
    "\n",
    "def map_to_dict_factory_2(dict_):\n",
    "    try:\n",
    "        for key, value in dict_.items():\n",
    "            if isinstance(value, OrderedMapSerializedKey):\n",
    "                d = dict()\n",
    "                for key2, value2 in dict(value).items():\n",
    "                    if isinstance(value2, OrderedMapSerializedKey):\n",
    "                        d[key2] = dict(value2)\n",
    "                dict_[key] = d    \n",
    "    except Exception as ex:\n",
    "        print(ex)\n",
    "        pass\n",
    "    return dict_\n",
    "\n",
    "#return list of dict\n",
    "def map_to_dict_factory_1(list_of_dict):\n",
    "    try:\n",
    "        ls_dic_re = []\n",
    "        for idx_value, i_value in enumerate(list_of_dict):\n",
    "            for key, value in i_value.items():\n",
    "                if isinstance(value, OrderedMapSerializedKey):\n",
    "                    i_value[key] = dict(value)\n",
    "            ls_dic_re.append(i_value)\n",
    "    except Exception as ex:\n",
    "        print(ex)\n",
    "        pass\n",
    "    return ls_dic_re\n",
    "\n",
    "class type_business_info(UserType):\n",
    "    id = columns.Text()\n",
    "    website = columns.Text()\n",
    "    media_count = columns.Integer()\n",
    "    followers_count = columns.Integer()\n",
    "    name = columns.Text()\n",
    "    username = columns.Text()\n",
    "    profile_picture_url = columns.Text()\n",
    "    new_post = columns.Integer(default = 0)\n",
    "\n",
    "    \n",
    "class watch_list(Model):\n",
    "    __keyspace__ = constants.KEYSPACE_NAME\n",
    "    __table_name__ = \"watch_list\"\n",
    "    user_id= columns.Text(primary_key=True)\n",
    "    watch_user_list= Map(Text(), UserDefinedType(type_business_info))\n",
    "    viewed_time =columns.DateTime()\n",
    "    updated_time =columns.DateTime()\n",
    "    \n",
    "class recommend_influencer(Model):\n",
    "    __keyspace__ = constants.KEYSPACE_NAME\n",
    "    __table_name__ = \"recommend_influencer_test\"\n",
    "    influencer_name = Text()\n",
    "    bio = Text()\n",
    "    categories = List(Text())\n",
    "    commentPerPost =Integer()\n",
    "    demographics = Text()\n",
    "    engagementRate = Text()\n",
    "    follower = Integer()\n",
    "    account_type =Integer()\n",
    "    likePerPost = Integer()\n",
    "    location = Text()\n",
    "    path =Text()\n",
    "    reach =Text()\n",
    "    website =Text()\n",
    "    posts_starting =Integer()\n",
    "    currency =Text()\n",
    "    socialAccounts = List(Map(Text(), Text()))\n",
    "    created =DateTime(default=  datetime.utcnow())\n",
    "    updated =DateTime(default=  datetime.utcnow())\n",
    "    activate =DateTime(default=  datetime.utcnow())\n",
    "    influencer_id = Integer(primary_key=True)\n",
    "    img_url = Text()\n",
    "    ts = UUID(primary_key=True)\n",
    "    "
   ]
  },
  {
   "cell_type": "markdown",
   "metadata": {},
   "source": [
    "# update table users_business_discovery"
   ]
  },
  {
   "cell_type": "code",
   "execution_count": null,
   "metadata": {},
   "outputs": [],
   "source": [
    "#"
   ]
  },
  {
   "cell_type": "code",
   "execution_count": 157,
   "metadata": {},
   "outputs": [],
   "source": [
    "# #get session\n",
    "_session = Cluster(contact_points =['172.33.47.10'], port=61003).connect('test')\n",
    "_session.row_factory = dict_factory\n",
    "connection.set_session(_session)"
   ]
  },
  {
   "cell_type": "code",
   "execution_count": null,
   "metadata": {},
   "outputs": [],
   "source": []
  },
  {
   "cell_type": "code",
   "execution_count": 196,
   "metadata": {},
   "outputs": [],
   "source": [
    "# return format dataframe when query results from cassandra\n",
    "def pandas_factory(colnames, rows):\n",
    "    return pd.DataFrame(rows, columns=colnames)\n",
    "\n",
    "\n",
    "# db = db_cassandra.db_cassandra(['172.33.47.9'], pandas_factory, port_ = 9042)\n",
    "\n",
    "constants.KEYSPACE_NAME = 'aify_db'\n",
    "db = db_cassandra.db_cassandra(['172.33.47.10'], pandas_factory, port_ = 61003)\n",
    "db.cluster.connect('aify_db')\n",
    "    \n",
    "rows = db.session.execute(\"select * from %s.recommend_influencer;\"%(constants.KEYSPACE_NAME))\n",
    "df = rows._current_rows"
   ]
  },
  {
   "cell_type": "code",
   "execution_count": 43,
   "metadata": {},
   "outputs": [],
   "source": [
    "# df.head()"
   ]
  },
  {
   "cell_type": "code",
   "execution_count": 44,
   "metadata": {},
   "outputs": [],
   "source": [
    "#\n",
    "df_c = df[['influencer_id', 'account_type', 'categories']]"
   ]
  },
  {
   "cell_type": "code",
   "execution_count": 45,
   "metadata": {},
   "outputs": [
    {
     "data": {
      "text/html": [
       "<div>\n",
       "<style scoped>\n",
       "    .dataframe tbody tr th:only-of-type {\n",
       "        vertical-align: middle;\n",
       "    }\n",
       "\n",
       "    .dataframe tbody tr th {\n",
       "        vertical-align: top;\n",
       "    }\n",
       "\n",
       "    .dataframe thead th {\n",
       "        text-align: right;\n",
       "    }\n",
       "</style>\n",
       "<table border=\"1\" class=\"dataframe\">\n",
       "  <thead>\n",
       "    <tr style=\"text-align: right;\">\n",
       "      <th></th>\n",
       "      <th>influencer_id</th>\n",
       "      <th>account_type</th>\n",
       "      <th>categories</th>\n",
       "    </tr>\n",
       "  </thead>\n",
       "  <tbody>\n",
       "    <tr>\n",
       "      <th>0</th>\n",
       "      <td>4317</td>\n",
       "      <td>0</td>\n",
       "      <td>[Fashion, Hairstyles, Makeup, Skincare, Beauty...</td>\n",
       "    </tr>\n",
       "    <tr>\n",
       "      <th>1</th>\n",
       "      <td>3372</td>\n",
       "      <td>0</td>\n",
       "      <td>[Beauty, Fashion, Fashion Brands, Makeup, Desi...</td>\n",
       "    </tr>\n",
       "    <tr>\n",
       "      <th>2</th>\n",
       "      <td>1584</td>\n",
       "      <td>1</td>\n",
       "      <td>[Fashion, Jewelry, Weddings, Free Spirit]</td>\n",
       "    </tr>\n",
       "    <tr>\n",
       "      <th>3</th>\n",
       "      <td>7034</td>\n",
       "      <td>1</td>\n",
       "      <td>[Cats, Coffee, Cosmetics]</td>\n",
       "    </tr>\n",
       "    <tr>\n",
       "      <th>4</th>\n",
       "      <td>4830</td>\n",
       "      <td>0</td>\n",
       "      <td>[Digital Marketing, Digital Media, Fashion, Ph...</td>\n",
       "    </tr>\n",
       "  </tbody>\n",
       "</table>\n",
       "</div>"
      ],
      "text/plain": [
       "   influencer_id  account_type  \\\n",
       "0           4317             0   \n",
       "1           3372             0   \n",
       "2           1584             1   \n",
       "3           7034             1   \n",
       "4           4830             0   \n",
       "\n",
       "                                          categories  \n",
       "0  [Fashion, Hairstyles, Makeup, Skincare, Beauty...  \n",
       "1  [Beauty, Fashion, Fashion Brands, Makeup, Desi...  \n",
       "2          [Fashion, Jewelry, Weddings, Free Spirit]  \n",
       "3                          [Cats, Coffee, Cosmetics]  \n",
       "4  [Digital Marketing, Digital Media, Fashion, Ph...  "
      ]
     },
     "execution_count": 45,
     "metadata": {},
     "output_type": "execute_result"
    }
   ],
   "source": [
    "df_c.head()"
   ]
  },
  {
   "cell_type": "code",
   "execution_count": 53,
   "metadata": {},
   "outputs": [],
   "source": [
    "rows = db.session.execute(\"select * from %s.users_business_discovery;\"%(constants.KEYSPACE_NAME))\n",
    "df = rows._current_rows"
   ]
  },
  {
   "cell_type": "code",
   "execution_count": 116,
   "metadata": {},
   "outputs": [
    {
     "data": {
      "text/html": [
       "<div>\n",
       "<style scoped>\n",
       "    .dataframe tbody tr th:only-of-type {\n",
       "        vertical-align: middle;\n",
       "    }\n",
       "\n",
       "    .dataframe tbody tr th {\n",
       "        vertical-align: top;\n",
       "    }\n",
       "\n",
       "    .dataframe thead th {\n",
       "        text-align: right;\n",
       "    }\n",
       "</style>\n",
       "<table border=\"1\" class=\"dataframe\">\n",
       "  <thead>\n",
       "    <tr style=\"text-align: right;\">\n",
       "      <th></th>\n",
       "      <th>id</th>\n",
       "      <th>username</th>\n",
       "      <th>biography</th>\n",
       "      <th>comments_count</th>\n",
       "      <th>followers_count</th>\n",
       "      <th>likes_count</th>\n",
       "      <th>media_count</th>\n",
       "      <th>name</th>\n",
       "      <th>profile_picture_url</th>\n",
       "      <th>updated_date</th>\n",
       "    </tr>\n",
       "  </thead>\n",
       "  <tbody>\n",
       "    <tr>\n",
       "      <th>0</th>\n",
       "      <td>17841403192351597</td>\n",
       "      <td>__twinkl</td>\n",
       "      <td>𖥸  Self Taught #MUE | 27 \\n𖥸 #beautyinfluencer...</td>\n",
       "      <td>6192</td>\n",
       "      <td>5841</td>\n",
       "      <td>57753</td>\n",
       "      <td>656</td>\n",
       "      <td>Kristen💄MUE</td>\n",
       "      <td>https://scontent.xx.fbcdn.net/v/t51.2885-15/38...</td>\n",
       "      <td>2018-08-24 15:53:21.770</td>\n",
       "    </tr>\n",
       "  </tbody>\n",
       "</table>\n",
       "</div>"
      ],
      "text/plain": [
       "                  id  username  \\\n",
       "0  17841403192351597  __twinkl   \n",
       "\n",
       "                                           biography  comments_count  \\\n",
       "0  𖥸  Self Taught #MUE | 27 \\n𖥸 #beautyinfluencer...            6192   \n",
       "\n",
       "   followers_count  likes_count  media_count         name  \\\n",
       "0             5841        57753          656  Kristen💄MUE   \n",
       "\n",
       "                                 profile_picture_url            updated_date  \n",
       "0  https://scontent.xx.fbcdn.net/v/t51.2885-15/38... 2018-08-24 15:53:21.770  "
      ]
     },
     "execution_count": 116,
     "metadata": {},
     "output_type": "execute_result"
    }
   ],
   "source": [
    "df.head(1)"
   ]
  },
  {
   "cell_type": "code",
   "execution_count": 58,
   "metadata": {},
   "outputs": [],
   "source": [
    "business_discovery_all = fb_graph.get_business_discovery_all(media_count = constants.MAX_MEDIA, username = 'sabrinamakeup')"
   ]
  },
  {
   "cell_type": "code",
   "execution_count": 60,
   "metadata": {},
   "outputs": [],
   "source": [
    "dict_result = fb_graph.parser_influencer_data(business_discovery_all)"
   ]
  },
  {
   "cell_type": "code",
   "execution_count": 61,
   "metadata": {},
   "outputs": [
    {
     "data": {
      "text/plain": [
       "{'id': '17841404101386592',\n",
       " 'biography': '🔸Make up 💄💋\\n 🔸Atendemos  em domicílio     \\n               informações: 991345989 wpp 📞',\n",
       " 'followers_count': 268,\n",
       " 'media_count': 37,\n",
       " 'name': 'Make up por Sabrina Matos 💋💄',\n",
       " 'username': 'sabrinamakeup',\n",
       " 'profile_picture_url': 'https://scontent.xx.fbcdn.net/v/t51.2885-15/28152978_221577878388720_6592099119399960576_n.jpg?_nc_cat=0&oh=2c621cbdef18387f5c8e5f746e28bba8&oe=5C2663F6',\n",
       " 'comments_count': 35,\n",
       " 'likes_count': 823}"
      ]
     },
     "execution_count": 61,
     "metadata": {},
     "output_type": "execute_result"
    }
   ],
   "source": [
    "dict_result"
   ]
  },
  {
   "cell_type": "code",
   "execution_count": 62,
   "metadata": {},
   "outputs": [
    {
     "data": {
      "text/plain": [
       "'17841404101386592'"
      ]
     },
     "execution_count": 62,
     "metadata": {},
     "output_type": "execute_result"
    }
   ],
   "source": [
    "dict_result['id']"
   ]
  },
  {
   "cell_type": "code",
   "execution_count": 55,
   "metadata": {},
   "outputs": [
    {
     "data": {
      "text/html": [
       "<div>\n",
       "<style scoped>\n",
       "    .dataframe tbody tr th:only-of-type {\n",
       "        vertical-align: middle;\n",
       "    }\n",
       "\n",
       "    .dataframe tbody tr th {\n",
       "        vertical-align: top;\n",
       "    }\n",
       "\n",
       "    .dataframe thead th {\n",
       "        text-align: right;\n",
       "    }\n",
       "</style>\n",
       "<table border=\"1\" class=\"dataframe\">\n",
       "  <thead>\n",
       "    <tr style=\"text-align: right;\">\n",
       "      <th></th>\n",
       "      <th>id</th>\n",
       "      <th>username</th>\n",
       "      <th>biography</th>\n",
       "      <th>comments_count</th>\n",
       "      <th>followers_count</th>\n",
       "      <th>likes_count</th>\n",
       "      <th>media_count</th>\n",
       "      <th>name</th>\n",
       "      <th>profile_picture_url</th>\n",
       "      <th>updated_date</th>\n",
       "    </tr>\n",
       "  </thead>\n",
       "  <tbody>\n",
       "    <tr>\n",
       "      <th>1</th>\n",
       "      <td>17841404101386592</td>\n",
       "      <td>sabrinamakeup</td>\n",
       "      <td>updated</td>\n",
       "      <td>0</td>\n",
       "      <td>0</td>\n",
       "      <td>0</td>\n",
       "      <td>0</td>\n",
       "      <td>updated</td>\n",
       "      <td></td>\n",
       "      <td>2018-09-03 15:02:20.402</td>\n",
       "    </tr>\n",
       "  </tbody>\n",
       "</table>\n",
       "</div>"
      ],
      "text/plain": [
       "                  id       username biography  comments_count  \\\n",
       "1  17841404101386592  sabrinamakeup   updated               0   \n",
       "\n",
       "   followers_count  likes_count  media_count     name profile_picture_url  \\\n",
       "1                0            0            0  updated                       \n",
       "\n",
       "             updated_date  \n",
       "1 2018-09-03 15:02:20.402  "
      ]
     },
     "execution_count": 55,
     "metadata": {},
     "output_type": "execute_result"
    }
   ],
   "source": [
    "df[df['username'] == 'sabrinamakeup']"
   ]
  },
  {
   "cell_type": "code",
   "execution_count": 63,
   "metadata": {},
   "outputs": [],
   "source": [
    "# UserBusinessDiscovery.objects(id = 17841404101386592, username = 'sabrinamakeup').update(biography='updated', comments_count=0, followers_count=0, likes_count=0, media_count = 0, name = 'updated', profile_picture_url = \"\", updated_date = datetime.now())\n",
    "\n",
    "UserBusinessDiscovery.objects(id = dict_result['id'], username = dict_result['username']).update(biography=dict_result['biography'], comments_count=dict_result['comments_count'], followers_count=dict_result['followers_count'], likes_count=dict_result['likes_count'], media_count = dict_result['media_count'], name = dict_result['name'], profile_picture_url = dict_result['profile_picture_url'], updated_date = datetime.now())"
   ]
  },
  {
   "cell_type": "code",
   "execution_count": 24,
   "metadata": {},
   "outputs": [],
   "source": [
    "UserBusinessDiscovery.objects(id = 17841404101386592,username = 'sabrinamakeup').update(account_type = 0, categories = ['Fashion','Hairstyles','Makeup','Skincare','Beauty Blogger'])\n"
   ]
  },
  {
   "cell_type": "code",
   "execution_count": 192,
   "metadata": {},
   "outputs": [],
   "source": [
    "rows = db.session.execute(\"select id, username from test.test;\")\n",
    "df = rows._current_rows"
   ]
  },
  {
   "cell_type": "code",
   "execution_count": 193,
   "metadata": {},
   "outputs": [
    {
     "data": {
      "text/html": [
       "<div>\n",
       "<style scoped>\n",
       "    .dataframe tbody tr th:only-of-type {\n",
       "        vertical-align: middle;\n",
       "    }\n",
       "\n",
       "    .dataframe tbody tr th {\n",
       "        vertical-align: top;\n",
       "    }\n",
       "\n",
       "    .dataframe thead th {\n",
       "        text-align: right;\n",
       "    }\n",
       "</style>\n",
       "<table border=\"1\" class=\"dataframe\">\n",
       "  <thead>\n",
       "    <tr style=\"text-align: right;\">\n",
       "      <th></th>\n",
       "      <th>id</th>\n",
       "      <th>username</th>\n",
       "    </tr>\n",
       "  </thead>\n",
       "  <tbody>\n",
       "  </tbody>\n",
       "</table>\n",
       "</div>"
      ],
      "text/plain": [
       "Empty DataFrame\n",
       "Columns: [id, username]\n",
       "Index: []"
      ]
     },
     "execution_count": 193,
     "metadata": {},
     "output_type": "execute_result"
    }
   ],
   "source": [
    "df.head()"
   ]
  },
  {
   "cell_type": "code",
   "execution_count": 195,
   "metadata": {},
   "outputs": [
    {
     "data": {
      "text/plain": [
       "0"
      ]
     },
     "execution_count": 195,
     "metadata": {},
     "output_type": "execute_result"
    }
   ],
   "source": [
    "df.shape[0]"
   ]
  },
  {
   "cell_type": "code",
   "execution_count": 139,
   "metadata": {},
   "outputs": [],
   "source": [
    "df.to_csv('data_users_business_discovery.csv', header=True, sep='\\t', index=False)"
   ]
  },
  {
   "cell_type": "code",
   "execution_count": 140,
   "metadata": {},
   "outputs": [],
   "source": [
    "df1 = pd.read_csv('data_users_business_discovery.csv', header=0, sep='\\t')"
   ]
  },
  {
   "cell_type": "code",
   "execution_count": 38,
   "metadata": {},
   "outputs": [
    {
     "data": {
      "text/plain": [
       "recommend_influencer(influencer_name='Nguyen Van A', bio=None, categories=['Travel', 'Foods', 'Fashion'], commentPerPost=None, demographics=None, engagementRate=None, follower=None, account_type=None, likePerPost=None, location=None, path=None, reach=None, website=None, posts_starting=None, currency=None, socialAccounts=[], created=datetime.datetime(2018, 9, 3, 7, 13, 1, 576642), updated=datetime.datetime(2018, 9, 3, 7, 13, 1, 576655), activate=datetime.datetime(2018, 9, 3, 7, 13, 1, 576663), influencer_id=112233, img_url=None, ts=UUID('28286fbc-af49-11e8-bd49-10948a00e8b7'))"
      ]
     },
     "execution_count": 38,
     "metadata": {},
     "output_type": "execute_result"
    }
   ],
   "source": [
    "rein = recommend_influencer(influencer_id=112233, ts = uuid_from_time(time.time()), influencer_name = 'Nguyen Van A', categories = ['Travel', 'Foods', 'Fashion'])\n",
    "rein.save()"
   ]
  },
  {
   "cell_type": "code",
   "execution_count": 55,
   "metadata": {},
   "outputs": [],
   "source": [
    "info_1 = fb_graph.get_business_info(username = 'emmaparkerandco')\n",
    "info_2 = fb_graph.get_business_info(username = 'natje_9999')"
   ]
  },
  {
   "cell_type": "code",
   "execution_count": 56,
   "metadata": {},
   "outputs": [],
   "source": [
    "info_1['new_post'] = 0\n",
    "info_2['new_post'] = 0"
   ]
  },
  {
   "cell_type": "code",
   "execution_count": 57,
   "metadata": {},
   "outputs": [],
   "source": [
    "a1 = type_business_info(**info_1)\n",
    "a2 = type_business_info(**info_2)"
   ]
  },
  {
   "cell_type": "code",
   "execution_count": 58,
   "metadata": {},
   "outputs": [
    {
     "data": {
      "text/plain": [
       "watch_list(user_id='anhlbt', watch_user_list={'natje_9999': <__main__.type_business_info object at 0x7fd7f74f8198>, 'emmaparkerandco': <__main__.type_business_info object at 0x7fd7f74f8d68>}, viewed_time=datetime.datetime(2018, 9, 4, 2, 5, 36, 941062), updated_time=datetime.datetime(2018, 9, 4, 2, 5, 36, 941064))"
      ]
     },
     "execution_count": 58,
     "metadata": {},
     "output_type": "execute_result"
    }
   ],
   "source": [
    "wl = watch_list(user_id = 'anhlbt',watch_user_list= {'natje_9999': a2, 'emmaparkerandco': a1}, viewed_time = datetime.utcnow(),updated_time = datetime.utcnow())\n",
    "wl.save()"
   ]
  },
  {
   "cell_type": "code",
   "execution_count": 59,
   "metadata": {},
   "outputs": [],
   "source": [
    "query_string=\"select * from %s.watch_list where user_id = 'anhlbt'\"%constants.KEYSPACE_NAME\n",
    "# query_string = 'truncate aify_recommend.watch_list_'\n",
    "re = _session.execute(query_string)\n",
    "# re.current_rows[0]"
   ]
  },
  {
   "cell_type": "code",
   "execution_count": 60,
   "metadata": {},
   "outputs": [
    {
     "data": {
      "text/plain": [
       "[{'user_id': 'anhlbt',\n",
       "  'updated_time': datetime.datetime(2018, 9, 4, 2, 5, 36, 941000),\n",
       "  'viewed_time': datetime.datetime(2018, 9, 4, 2, 5, 36, 941000),\n",
       "  'watch_user_list': OrderedMapSerializedKey([('emmaparkerandco', <__main__.type_business_info object at 0x7fd7f74f8390>), ('natje_9999', <__main__.type_business_info object at 0x7fd81c4106d8>)])}]"
      ]
     },
     "execution_count": 60,
     "metadata": {},
     "output_type": "execute_result"
    }
   ],
   "source": [
    "re.current_rows"
   ]
  },
  {
   "cell_type": "code",
   "execution_count": 173,
   "metadata": {},
   "outputs": [],
   "source": [
    "test = type_business_info(id = 'id_test',\n",
    "    website = 'link web',\n",
    "    media_count = 12,\n",
    "    followers_count = 100,\n",
    "    name = 'Tuan Anh',\n",
    "    username = 'anhlbt',\n",
    "    profile_picture_url = 'url_picture')"
   ]
  },
  {
   "cell_type": "markdown",
   "metadata": {},
   "source": [
    "# watch_list"
   ]
  },
  {
   "cell_type": "code",
   "execution_count": 61,
   "metadata": {},
   "outputs": [],
   "source": [
    "def get_wl_by_user_id(user_id):\n",
    "    result = {}\n",
    "    try:\n",
    "        query_string=\"select * from watch_list where user_id = '%s'\"%user_id\n",
    "        re = _session.execute(query_string)\n",
    "        list_dict_ = map_to_dict_factory_1(re.current_rows)#data get from db, list have only one item\n",
    "    #     list_dict_ = re.current_rows\n",
    "        result['status'] = 'True'\n",
    "        result['data'] = convert_info_objects_to_json(list_dict_[0])\n",
    "        return result\n",
    "    except Exception as ex:\n",
    "        result['status'] = 'False'\n",
    "        return result\n",
    "\n",
    "    \n",
    "def convert_info_objects_to_json(info_object):\n",
    "    tmp_dict = info_object['watch_user_list']\n",
    "    for k, v in tmp_dict.items():\n",
    "        print(k)\n",
    "        tmp_dict[k] = dict(tmp_dict[k])\n",
    "    return info_object    \n",
    "    \n",
    "def wl_add(user_id, ig_id, fb_graph):\n",
    "    result = {}\n",
    "    try:\n",
    "        wl_item = fb_graph.get_business_info(username = ig_id)\n",
    "        wl_item['new_post'] = 0\n",
    "        wl = get_wl_by_user_id(user_id)\n",
    "        print(wl)\n",
    "        if wl['status'] == 'True':\n",
    "            wl = wl['data']\n",
    "            if wl is None:\n",
    "                wl = watch_list(user_id = user_id, watch_user_list = {ig_id:type_business_info(**wl_item)}, viewed_time = datetime.utcnow(),updated_time = datetime.utcnow())\n",
    "                wl.save()\n",
    "                result['status'] = True\n",
    "                result['data'] = wl_item # try catch here\n",
    "            else:\n",
    "                if wl['watch_user_list'] is None:\n",
    "                    watch_list.objects(user_id = user_id).update(watch_user_list= {ig_id:type_business_info(**wl_item)})\n",
    "                    result['status'] = True\n",
    "                    result['data'] = wl_item\n",
    "                else:   \n",
    "                    if ig_id in wl['watch_user_list']:\n",
    "                        print(\"user %s already in watch list\"%ig_id)\n",
    "                        result['status'] = False\n",
    "                    else:\n",
    "                        wl['watch_user_list'][ig_id] = type_business_info(**wl_item)     \n",
    "                        watch_list.objects(user_id = user_id).update(watch_user_list= wl['watch_user_list'])\n",
    "                        result['status'] = True\n",
    "                        result['data'] = wl_item # try catch here\n",
    "        \n",
    "    except Exception as ex:\n",
    "        print(ex)\n",
    "        result['status'] = False\n",
    "    return result    \n",
    "\n",
    "def wl_remove(user_id, ig_id, fb_graph):\n",
    "    try:\n",
    "        wl = get_wl_by_user_id(user_id)\n",
    "        if wl is None:\n",
    "            return False\n",
    "        elif wl['watch_user_list'] is not None and ig_id in wl['watch_user_list']:\n",
    "            #print('remove %s '%ig_id)\n",
    "            del wl['watch_user_list'][ig_id]\n",
    "            watch_list.objects(user_id = user_id).update(watch_user_list= None)\n",
    "            watch_list.objects(user_id = user_id).update(watch_user_list= wl['watch_user_list'])\n",
    "            return True\n",
    "        else:\n",
    "            print('no see %s in database'%ig_id)\n",
    "            return False\n",
    "    except Exception as ex:\n",
    "        print(ex)\n",
    "        return False    \n",
    "    \n",
    "    \n",
    "\n",
    "def wl_update_new_post(user_id, fb_graph):\n",
    "#     list_infos = []\n",
    "    try:\n",
    "        wl = get_wl_by_user_id(user_id)\n",
    "        if wl is None:\n",
    "            return False\n",
    "        elif wl['watch_user_list'] is not None and (datetime.now() - wl['updated_time']).total_seconds() > constants.TOTAL_SECONDS_TO_REFRESH_WATCH_LIST:\n",
    "            for k, username in enumerate(wl['watch_user_list']):\n",
    "        #     for k, v in list_dict_[0]['watch_user_list'].items(): # iter dictionary\n",
    "                print(username)\n",
    "                request_data = fb_graph.get_business_info(username = username)\n",
    "    #             list_infos.append(request_data)viewed_time\n",
    "                #\n",
    "                num_new_post = request_data['media_count'] - int(wl['watch_user_list'][username].media_count)\n",
    "                request_data['new_post'] = num_new_post\n",
    "                if num_new_post != 0:\n",
    "                    #update db\n",
    "                    wl['watch_user_list'][username] = type_business_info(**request_data) #update item in watch list user\n",
    "                    print('you have %s new post'%num_new_post)\n",
    "                    \n",
    "        else:\n",
    "            print('no have any user in watch list or user request greater than 2 time in an hour ...')\n",
    "            return False\n",
    "                \n",
    "        watch_list.objects(user_id = user_id).update(watch_user_list= wl['watch_user_list'])      \n",
    "\n",
    "    except Exception as ex:\n",
    "        print(ex)\n",
    "        \n",
    "# watch_list.objects(user_id = 'anhlbt').update(watch_user_list= {'natje_9999': a2, 'emmaparkerandco': a2})   \n",
    "\n",
    "# update_string = \"update watch_list set watch_user_list= {'natje_9999': 'a2', 'emmaparkerandco': 'a1'} where user_id = 'anhlbt' if exists\"\n",
    "# _session.execute(update_string)\n",
    "\n",
    "# wl = watch_list(user_id = 'anhlbt3',watch_user_list= a['watch_user_list'], viewed_time = datetime.utcnow(),updated_time = datetime.utcnow())\n",
    "# wl.save()"
   ]
  },
  {
   "cell_type": "code",
   "execution_count": 158,
   "metadata": {},
   "outputs": [],
   "source": [
    "query_string=\"select * from test\"\n",
    "re = _session.execute(query_string)\n",
    "list_dict_ = map_to_dict_factory_1(re.current_rows)#data get from db, list have only one item"
   ]
  },
  {
   "cell_type": "code",
   "execution_count": 159,
   "metadata": {},
   "outputs": [
    {
     "data": {
      "text/plain": [
       "[]"
      ]
     },
     "execution_count": 159,
     "metadata": {},
     "output_type": "execute_result"
    }
   ],
   "source": [
    "list_dict_"
   ]
  },
  {
   "cell_type": "code",
   "execution_count": 163,
   "metadata": {},
   "outputs": [],
   "source": [
    "# user_id = 'anhlbt'\n",
    "# query_string=\"select * from watch_list where user_id = '%s'\"%user_id\n",
    "# re = _session.execute(query_string)\n",
    "# list_dict_ = map_to_dict_factory_1(re.current_rows)#data get from db, list have only one item\n",
    "\n",
    "\n",
    "# query_string = \"COPY test(id , biography , comments_count , followers_count , likes_count , media_count , name , profile_picture_url , updated_date , username ) FROM users_bussiness_dicsovery.csv\"\n",
    "# COPY users_business_discovery (id , biography , comments_count , followers_count , likes_count , media_count , name , profile_picture_url , updated_date , username ) FROM 'users_bussiness_dicsovery.csv'\n",
    "\n"
   ]
  },
  {
   "cell_type": "code",
   "execution_count": null,
   "metadata": {},
   "outputs": [],
   "source": [
    "COPY users_business_discovery (id , biography , comments_count , followers_count , likes_count , media_count , name , profile_picture_url , updated_date , username ) FROM 'users_bussiness_dicsovery.csv'\n"
   ]
  },
  {
   "cell_type": "code",
   "execution_count": 187,
   "metadata": {},
   "outputs": [],
   "source": [
    "a = pd.read_csv('users_business_discovery_201809051046.csv', header=0, sep = '\\t', index_col = None)"
   ]
  },
  {
   "cell_type": "code",
   "execution_count": 191,
   "metadata": {},
   "outputs": [
    {
     "name": "stdout",
     "output_type": "stream",
     "text": [
      "id <class 'numpy.int64'>\n",
      "username <class 'str'>\n",
      "biography <class 'str'>\n",
      "comments_count <class 'numpy.int64'>\n",
      "followers_count <class 'numpy.int64'>\n",
      "likes_count <class 'numpy.int64'>\n",
      "media_count <class 'numpy.int64'>\n",
      "name <class 'str'>\n",
      "profile_picture_url <class 'str'>\n",
      "updated_date <class 'str'>\n"
     ]
    }
   ],
   "source": [
    "for col in a.columns:\n",
    "    print(col, type(a.iloc[1][col]))"
   ]
  },
  {
   "cell_type": "code",
   "execution_count": 165,
   "metadata": {},
   "outputs": [],
   "source": [
    "wl_item = fb_graph.get_business_info(username = 'emmaparkerandco')"
   ]
  },
  {
   "cell_type": "code",
   "execution_count": 166,
   "metadata": {},
   "outputs": [
    {
     "data": {
      "text/plain": [
       "{'id': '17841401690883742',\n",
       " 'website': 'https://www.emmaparkerdiamonds.com/',\n",
       " 'followers_count': 649,\n",
       " 'media_count': 331,\n",
       " 'name': 'Emma Parker & Co.',\n",
       " 'username': 'emmaparkerandco',\n",
       " 'profile_picture_url': 'https://scontent.xx.fbcdn.net/v/t51.2885-15/12393747_142605859440768_1709991462_a.jpg?_nc_cat=0&_nc_ad=z-m&_nc_cid=0&oh=f2d635c5b36f4a70850d961564c3503d&oe=5BF30F51'}"
      ]
     },
     "execution_count": 166,
     "metadata": {},
     "output_type": "execute_result"
    }
   ],
   "source": [
    "wl_item"
   ]
  },
  {
   "cell_type": "code",
   "execution_count": 63,
   "metadata": {},
   "outputs": [
    {
     "name": "stdout",
     "output_type": "stream",
     "text": [
      "emmaparkerandco\n",
      "natje_9999\n"
     ]
    }
   ],
   "source": [
    "wl = get_wl_by_user_id('anhlbt')"
   ]
  },
  {
   "cell_type": "code",
   "execution_count": 18,
   "metadata": {},
   "outputs": [
    {
     "name": "stdout",
     "output_type": "stream",
     "text": [
      "emmaparkerandco\n",
      "natje_9999\n",
      "{'status': 'True', 'data': {'user_id': 'anhlbt', 'updated_time': datetime.datetime(2018, 8, 24, 7, 6, 46, 555000), 'viewed_time': datetime.datetime(2018, 8, 24, 7, 6, 46, 555000), 'watch_user_list': {'emmaparkerandco': {'id': '17841401690883742', 'website': 'https://www.emmaparkerdiamonds.com/', 'media_count': 330, 'followers_count': 647, 'name': 'Emma Parker & Co.', 'username': 'emmaparkerandco', 'profile_picture_url': 'https://scontent.xx.fbcdn.net/v/t51.2885-15/12393747_142605859440768_1709991462_a.jpg?_nc_cat=0&oh=8b7b47ecf00a2e0e865d2c0d06993e63&oe=5BF30F51', 'new_post': 0}, 'natje_9999': {'id': '17841401660142798', 'website': 'https://bit.ly/2v0yJDU', 'media_count': 805, 'followers_count': 1696, 'name': 'Nathalie Madsen', 'username': 'natje_9999', 'profile_picture_url': 'https://scontent.xx.fbcdn.net/v/t51.2885-15/33933220_493197567763039_6170514771826180096_n.jpg?_nc_cat=0&oh=4d09397c07c3f0d0667f8688d02a4e65&oe=5BF17C73', 'new_post': 0}}}}\n",
      "user natje_9999 already in watch list\n"
     ]
    },
    {
     "data": {
      "text/plain": [
       "{'status': False}"
      ]
     },
     "execution_count": 18,
     "metadata": {},
     "output_type": "execute_result"
    }
   ],
   "source": [
    "wl_add('anhlbt', 'natje_9999', fb_graph)"
   ]
  },
  {
   "cell_type": "code",
   "execution_count": 112,
   "metadata": {},
   "outputs": [
    {
     "name": "stdout",
     "output_type": "stream",
     "text": [
      "emmaparkerandco\n",
      "natje_9999\n",
      "'watch_user_list'\n"
     ]
    },
    {
     "data": {
      "text/plain": [
       "False"
      ]
     },
     "execution_count": 112,
     "metadata": {},
     "output_type": "execute_result"
    }
   ],
   "source": [
    "wl_remove('anhlbt', 'natje_9999', fb_graph)"
   ]
  },
  {
   "cell_type": "code",
   "execution_count": 75,
   "metadata": {},
   "outputs": [
    {
     "name": "stdout",
     "output_type": "stream",
     "text": [
      "emmaparkerandco\n",
      "natje_9999\n"
     ]
    }
   ],
   "source": [
    "a = get_wl_by_user_id('anhlbt')"
   ]
  },
  {
   "cell_type": "code",
   "execution_count": 76,
   "metadata": {},
   "outputs": [
    {
     "data": {
      "text/plain": [
       "{'status': 'True',\n",
       " 'data': {'user_id': 'anhlbt',\n",
       "  'updated_time': datetime.datetime(2018, 9, 4, 2, 5, 36, 941000),\n",
       "  'viewed_time': datetime.datetime(2018, 9, 4, 2, 5, 36, 941000),\n",
       "  'watch_user_list': {'emmaparkerandco': {'id': '17841401690883742',\n",
       "    'website': 'https://www.emmaparkerdiamonds.com/',\n",
       "    'media_count': 331,\n",
       "    'followers_count': 650,\n",
       "    'name': 'Emma Parker & Co.',\n",
       "    'username': 'emmaparkerandco',\n",
       "    'profile_picture_url': 'https://scontent.xx.fbcdn.net/v/t51.2885-15/12393747_142605859440768_1709991462_a.jpg?_nc_cat=0&oh=8b7b47ecf00a2e0e865d2c0d06993e63&oe=5BF30F51',\n",
       "    'new_post': -476},\n",
       "   'natje_9999': {'id': '17841401660142798',\n",
       "    'website': 'https://bit.ly/2v0yJDU',\n",
       "    'media_count': 807,\n",
       "    'followers_count': 1675,\n",
       "    'name': 'Nathalie Madsen',\n",
       "    'username': 'natje_9999',\n",
       "    'profile_picture_url': 'https://scontent.xx.fbcdn.net/v/t51.2885-15/33933220_493197567763039_6170514771826180096_n.jpg?_nc_cat=0&oh=4d09397c07c3f0d0667f8688d02a4e65&oe=5BF17C73',\n",
       "    'new_post': 0}}}}"
      ]
     },
     "execution_count": 76,
     "metadata": {},
     "output_type": "execute_result"
    }
   ],
   "source": [
    "a"
   ]
  },
  {
   "cell_type": "code",
   "execution_count": 77,
   "metadata": {},
   "outputs": [
    {
     "data": {
      "text/plain": [
       "'Nathalie Madsen'"
      ]
     },
     "execution_count": 77,
     "metadata": {},
     "output_type": "execute_result"
    }
   ],
   "source": [
    "a2.name"
   ]
  },
  {
   "cell_type": "code",
   "execution_count": 78,
   "metadata": {},
   "outputs": [
    {
     "data": {
      "text/plain": [
       "'Emma Parker & Co.'"
      ]
     },
     "execution_count": 78,
     "metadata": {},
     "output_type": "execute_result"
    }
   ],
   "source": [
    "a1.name"
   ]
  },
  {
   "cell_type": "code",
   "execution_count": 70,
   "metadata": {},
   "outputs": [],
   "source": [
    "watch_list.objects(user_id = 'anhlbt').update(watch_user_list= {'natje_9999': a2, 'emmaparkerandco': a2})   \n"
   ]
  },
  {
   "cell_type": "code",
   "execution_count": 19,
   "metadata": {},
   "outputs": [
    {
     "name": "stdout",
     "output_type": "stream",
     "text": [
      "no have any user in watch list or user request greater than 2 time in an hour, please add first...\n"
     ]
    },
    {
     "data": {
      "text/plain": [
       "False"
      ]
     },
     "execution_count": 19,
     "metadata": {},
     "output_type": "execute_result"
    }
   ],
   "source": [
    "wl_update_new_post('anhlbt', fb_graph)"
   ]
  },
  {
   "cell_type": "code",
   "execution_count": 81,
   "metadata": {},
   "outputs": [
    {
     "data": {
      "text/plain": [
       "True"
      ]
     },
     "execution_count": 81,
     "metadata": {},
     "output_type": "execute_result"
    }
   ],
   "source": [
    "(datetime.now()-a['updated_time']).total_seconds() > 3600\n"
   ]
  },
  {
   "cell_type": "code",
   "execution_count": 73,
   "metadata": {},
   "outputs": [
    {
     "data": {
      "text/plain": [
       "datetime.datetime(2018, 9, 3, 13, 38, 42, 57535)"
      ]
     },
     "execution_count": 73,
     "metadata": {},
     "output_type": "execute_result"
    }
   ],
   "source": [
    "a1"
   ]
  },
  {
   "cell_type": "code",
   "execution_count": 67,
   "metadata": {},
   "outputs": [
    {
     "data": {
      "text/plain": [
       "datetime.datetime(2018, 8, 24, 7, 6, 46, 555000)"
      ]
     },
     "execution_count": 67,
     "metadata": {},
     "output_type": "execute_result"
    }
   ],
   "source": [
    "a2"
   ]
  },
  {
   "cell_type": "code",
   "execution_count": 75,
   "metadata": {},
   "outputs": [],
   "source": [
    "a3 = a1 - a2"
   ]
  },
  {
   "cell_type": "code",
   "execution_count": 76,
   "metadata": {},
   "outputs": [
    {
     "name": "stdout",
     "output_type": "stream",
     "text": [
      "10 days, 6:31:55.502535\n"
     ]
    }
   ],
   "source": [
    "print(a3)"
   ]
  },
  {
   "cell_type": "code",
   "execution_count": 78,
   "metadata": {},
   "outputs": [
    {
     "data": {
      "text/plain": [
       "887515.502535"
      ]
     },
     "execution_count": 78,
     "metadata": {},
     "output_type": "execute_result"
    }
   ],
   "source": [
    "a3.total_seconds()\n"
   ]
  },
  {
   "cell_type": "code",
   "execution_count": 182,
   "metadata": {},
   "outputs": [
    {
     "data": {
      "text/plain": [
       "0"
      ]
     },
     "execution_count": 182,
     "metadata": {},
     "output_type": "execute_result"
    }
   ],
   "source": [
    "a['watch_user_list']['natje_9999'].new_post"
   ]
  },
  {
   "cell_type": "code",
   "execution_count": 395,
   "metadata": {},
   "outputs": [],
   "source": [
    "# prepared = _session.prepare(\"\"\"\n",
    "#         INSERT INTO aify_recommend.watch_list_ (user_id, watch_user_list, updated_time, viewed_time) \n",
    "#         VALUES(?, ?, ?, ?)\n",
    "#         \"\"\")\n",
    "\n",
    "# _session.execute(prepared.bind((\"emmaparkerandco\", {'annieverywhere':watch_list[0]}, datetime.utcnow(), datetime.utcnow() )))\n",
    "\n",
    "# _session.execute(prepared.bind((\"emmaparkerandco\", datetime.utcnow(), datetime.utcnow(),\\\n",
    "#                                 {\"natje_9999\":{\"media_count\":\"30\", \"followers_count\": \"65\"}, \"annieverywhere\":{\"media_count\":\"50\", \"followers_count\": \"65\"}})))\n",
    "\n",
    "#update map\n",
    "update_string = \"update watch_list_ set updated_time= %s, viewed_time = %s where user_id = 'emmaparkerandco' if exists\"%(datetime.utcnow(), datetime.utcnow())\n",
    "_session.execute(update_string)"
   ]
  },
  {
   "cell_type": "code",
   "execution_count": null,
   "metadata": {},
   "outputs": [],
   "source": []
  },
  {
   "cell_type": "code",
   "execution_count": 61,
   "metadata": {},
   "outputs": [
    {
     "name": "stdout",
     "output_type": "stream",
     "text": [
      "/home/anh_lbt/atvn/sw_follou/recommender_api/test\n",
      "{'id': '17841401690883742', 'website': 'https://www.emmaparkerdiamonds.com/', 'followers_count': 650, 'media_count': 330, 'name': 'Emma Parker & Co.', 'username': 'emmaparkerandco', 'profile_picture_url': 'https://scontent.xx.fbcdn.net/v/t51.2885-15/12393747_142605859440768_1709991462_a.jpg?_nc_cat=0&oh=8b7b47ecf00a2e0e865d2c0d06993e63&oe=5BF30F51'}\n",
      "0.596560001373291\n"
     ]
    }
   ],
   "source": [
    "#calculate num new post:\n",
    "#first, select from db, we have: [{'anhlbt': 19}, {'longld': 100}]\n",
    "#second, call api to get current data (up to date)\n",
    "#then, calculate new post and update db,\n",
    "fb_graph = facebook_graph_api.FacebookGraphApi('../FacebookCrawler/instagram_token.csv')\n",
    "s_time = time.time()\n",
    "test = fb_graph.get_business_info(username = 'emmaparkerandco')#17841401610104138, 17841407517779759\n",
    "print(test)\n",
    "print(time.time() - s_time)"
   ]
  },
  {
   "cell_type": "code",
   "execution_count": 53,
   "metadata": {},
   "outputs": [
    {
     "data": {
      "text/plain": [
       "330"
      ]
     },
     "execution_count": 53,
     "metadata": {},
     "output_type": "execute_result"
    }
   ],
   "source": [
    "test['media_count']"
   ]
  },
  {
   "cell_type": "code",
   "execution_count": 242,
   "metadata": {},
   "outputs": [
    {
     "data": {
      "text/plain": [
       "<cassandra.cluster.Session at 0x7f27cebb7128>"
      ]
     },
     "execution_count": 242,
     "metadata": {},
     "output_type": "execute_result"
    }
   ],
   "source": [
    "_session"
   ]
  },
  {
   "cell_type": "code",
   "execution_count": 259,
   "metadata": {},
   "outputs": [
    {
     "name": "stdout",
     "output_type": "stream",
     "text": [
      "update Person set last_name= 'Anh updated', first_name = 'Lesdfa' where id=81833564-a5bd-11e8-a36c-67d94cf8123f and user_name ='anhlbt' if exists\n"
     ]
    },
    {
     "data": {
      "text/plain": [
       "<cassandra.cluster.ResultSet at 0x7f27cebf9908>"
      ]
     },
     "execution_count": 259,
     "metadata": {},
     "output_type": "execute_result"
    }
   ],
   "source": [
    "# ['id', 'biography', 'followers_count', 'media_count', 'name', 'username', 'profile_picture_url', 'comments_count', 'likes_count']\n",
    "\n",
    "\n",
    "first_name = 'Anh updated'\n",
    "last_name = 'Lesdfa'\n",
    "table = 'Person'\n",
    "# _session.execute(\"update Person set last_name=%s, first_name =%s where id=b9595ecc-a51e-11e8-aff2-c1049a4e205f if exists\", (last_name,first_name))\n",
    "# insert_string = \"insert into Person (id, first_name, last_name) values (uuid_from_time(time.time()), 'Anh', 'le')\"\n",
    "\n",
    "update_string = \"update Person set last_name= '%s', first_name = '%s' where id=81833564-a5bd-11e8-a36c-67d94cf8123f and user_name ='anhlbt' if exists\"%(first_name, last_name)\n",
    "print(update_string)\n",
    "_session.execute(update_string)\n",
    "\n"
   ]
  },
  {
   "cell_type": "code",
   "execution_count": 14,
   "metadata": {},
   "outputs": [
    {
     "data": {
      "text/plain": [
       "\"INSERT INTO aify_recommend.watch_list (user_id, newest_num_post, viewed_time, watch_user_list) VALUES('emmaparkerandco', 0, '2018-08-22 10:47:11.309934', ?);\""
      ]
     },
     "execution_count": 14,
     "metadata": {},
     "output_type": "execute_result"
    }
   ],
   "source": [
    "insert_string"
   ]
  },
  {
   "cell_type": "code",
   "execution_count": 133,
   "metadata": {},
   "outputs": [
    {
     "data": {
      "text/plain": [
       "datetime.datetime(2018, 8, 22, 3, 34, 6, 812638)"
      ]
     },
     "execution_count": 133,
     "metadata": {},
     "output_type": "execute_result"
    }
   ],
   "source": [
    "from datetime import datetime\n",
    "datetime.utcnow()"
   ]
  },
  {
   "cell_type": "code",
   "execution_count": 107,
   "metadata": {},
   "outputs": [],
   "source": [
    "id1 = uuid_from_time(time.time())\n",
    "id2 = uuid_from_time(time.time())"
   ]
  },
  {
   "cell_type": "code",
   "execution_count": 108,
   "metadata": {},
   "outputs": [],
   "source": [
    "from cassandra.util import datetime_from_uuid1, unix_time_from_uuid1"
   ]
  },
  {
   "cell_type": "code",
   "execution_count": 110,
   "metadata": {},
   "outputs": [
    {
     "name": "stdout",
     "output_type": "stream",
     "text": [
      "1534845616.599598\n",
      "1534845616.599598\n"
     ]
    }
   ],
   "source": [
    "print(unix_time_from_uuid1(id1))\n",
    "print(unix_time_from_uuid1(id2))"
   ]
  },
  {
   "cell_type": "code",
   "execution_count": 104,
   "metadata": {},
   "outputs": [
    {
     "ename": "AttributeError",
     "evalue": "module 'cassandra.util' has no attribute 'toUnixTimestamp'",
     "output_type": "error",
     "traceback": [
      "\u001b[1;31m---------------------------------------------------------------------------\u001b[0m",
      "\u001b[1;31mAttributeError\u001b[0m                            Traceback (most recent call last)",
      "\u001b[1;32m<ipython-input-104-4f263f26d359>\u001b[0m in \u001b[0;36m<module>\u001b[1;34m()\u001b[0m\n\u001b[1;32m----> 1\u001b[1;33m \u001b[0mcassandra\u001b[0m\u001b[1;33m.\u001b[0m\u001b[0mutil\u001b[0m\u001b[1;33m.\u001b[0m\u001b[0mtoUnixTimestamp\u001b[0m\u001b[1;33m(\u001b[0m\u001b[0mtimeuuid\u001b[0m\u001b[1;33m)\u001b[0m\u001b[1;33m\u001b[0m\u001b[0m\n\u001b[0m",
      "\u001b[1;31mAttributeError\u001b[0m: module 'cassandra.util' has no attribute 'toUnixTimestamp'"
     ]
    }
   ],
   "source": [
    "toUnixTimestamp(timeuuid)"
   ]
  },
  {
   "cell_type": "code",
   "execution_count": 112,
   "metadata": {},
   "outputs": [],
   "source": [
    "rnd = random.randint(0,12)\n",
    "set_business_word = ['Entertainment', 'Fashion', 'Lifestyle', 'Food And Drinks', 'Travel And Tourism','Travel','clothing','Gym Fashion','Photography','Modeling','Fitness Photography','Comercial']\n",
    "set_business_word[rnd]"
   ]
  },
  {
   "cell_type": "code",
   "execution_count": null,
   "metadata": {},
   "outputs": [],
   "source": [
    "social_user('external_id', 'username', 'post_cnt', 'avatar_url', 'post_cnt', 'followers_cnt')\n",
    "\n",
    "user_hashtag_setting('categories')"
   ]
  },
  {
   "cell_type": "markdown",
   "metadata": {},
   "source": [
    "# onl recommend "
   ]
  },
  {
   "cell_type": "code",
   "execution_count": 243,
   "metadata": {},
   "outputs": [],
   "source": [
    "rows = db.session.execute(\"select * from %s.social_user;\"%(constants.KEYSPACE_NAME))\n",
    "rows2 = db.session.execute(\"select * from %s.user_hashtag_setting;\"%(constants.KEYSPACE_NAME))\n",
    "df1 = rows._current_rows\n",
    "df2 = rows2._current_rows"
   ]
  },
  {
   "cell_type": "code",
   "execution_count": 244,
   "metadata": {},
   "outputs": [],
   "source": [
    "df = df1.merge(df2[['owner_id','categories']],left_on='id', right_on='owner_id')\n"
   ]
  },
  {
   "cell_type": "code",
   "execution_count": 303,
   "metadata": {},
   "outputs": [
    {
     "name": "stderr",
     "output_type": "stream",
     "text": [
      "/home/anh_lbt/anaconda3/envs/py36/lib/python3.6/site-packages/ipykernel/__main__.py:1: SettingWithCopyWarning: \n",
      "A value is trying to be set on a copy of a slice from a DataFrame\n",
      "\n",
      "See the caveats in the documentation: http://pandas.pydata.org/pandas-docs/stable/indexing.html#indexing-view-versus-copy\n",
      "  if __name__ == '__main__':\n",
      "/home/anh_lbt/anaconda3/envs/py36/lib/python3.6/site-packages/ipykernel/__main__.py:2: SettingWithCopyWarning: \n",
      "A value is trying to be set on a copy of a slice from a DataFrame\n",
      "\n",
      "See the caveats in the documentation: http://pandas.pydata.org/pandas-docs/stable/indexing.html#indexing-view-versus-copy\n",
      "  from ipykernel import kernelapp as app\n",
      "/home/anh_lbt/anaconda3/envs/py36/lib/python3.6/site-packages/ipykernel/__main__.py:3: SettingWithCopyWarning: \n",
      "A value is trying to be set on a copy of a slice from a DataFrame\n",
      "\n",
      "See the caveats in the documentation: http://pandas.pydata.org/pandas-docs/stable/indexing.html#indexing-view-versus-copy\n",
      "  app.launch_new_instance()\n"
     ]
    }
   ],
   "source": [
    "df['categories'][df['id'] =='17841400363002924'] = 'Fashion, Travel, clothes'\n",
    "df['categories'][df['id'] =='17841400488056752'] = 'Fashion, Travel, Beauty'\n",
    "df['categories'][df['id'] =='17841403916959140'] = 'accessories, Beauty'"
   ]
  },
  {
   "cell_type": "code",
   "execution_count": 304,
   "metadata": {},
   "outputs": [
    {
     "data": {
      "text/html": [
       "<div>\n",
       "<style scoped>\n",
       "    .dataframe tbody tr th:only-of-type {\n",
       "        vertical-align: middle;\n",
       "    }\n",
       "\n",
       "    .dataframe tbody tr th {\n",
       "        vertical-align: top;\n",
       "    }\n",
       "\n",
       "    .dataframe thead th {\n",
       "        text-align: right;\n",
       "    }\n",
       "</style>\n",
       "<table border=\"1\" class=\"dataframe\">\n",
       "  <thead>\n",
       "    <tr style=\"text-align: right;\">\n",
       "      <th></th>\n",
       "      <th>social_type</th>\n",
       "      <th>id</th>\n",
       "      <th>access_token</th>\n",
       "      <th>account_id</th>\n",
       "      <th>profile_picture_url</th>\n",
       "      <th>created</th>\n",
       "      <th>followers_count</th>\n",
       "      <th>follows_cnt</th>\n",
       "      <th>name</th>\n",
       "      <th>id_</th>\n",
       "      <th>media_count</th>\n",
       "      <th>updated_date</th>\n",
       "      <th>username</th>\n",
       "      <th>owner_id</th>\n",
       "      <th>categories</th>\n",
       "      <th>biography</th>\n",
       "      <th>comments_count</th>\n",
       "      <th>likes_count</th>\n",
       "      <th>account_type</th>\n",
       "    </tr>\n",
       "  </thead>\n",
       "  <tbody>\n",
       "    <tr>\n",
       "      <th>0</th>\n",
       "      <td>instagram_business</td>\n",
       "      <td>17841400363002924</td>\n",
       "      <td>EAACLXTuiZBKkBADl1XmuR4gsNuSIGwQtTLaKcXUU9o34x...</td>\n",
       "      <td>nctam@atvn.com</td>\n",
       "      <td>https://scontent.xx.fbcdn.net/v/t51.2885-15/22...</td>\n",
       "      <td>2018-08-28 02:57:09</td>\n",
       "      <td>831760</td>\n",
       "      <td>10</td>\n",
       "      <td>Book Smarter</td>\n",
       "      <td>ba5ee910-aaa8-11e8-a25d-bbf697a6eaed</td>\n",
       "      <td>436</td>\n",
       "      <td>2018-08-28 02:57:09</td>\n",
       "      <td>booksmartertravel</td>\n",
       "      <td>ba5ee910-aaa8-11e8-a25d-bbf697a6eaed</td>\n",
       "      <td>Fashion, Travel, clothes</td>\n",
       "      <td></td>\n",
       "      <td></td>\n",
       "      <td></td>\n",
       "      <td></td>\n",
       "    </tr>\n",
       "    <tr>\n",
       "      <th>1</th>\n",
       "      <td>instagram_business</td>\n",
       "      <td>17841400488056752</td>\n",
       "      <td>EAACLXTuiZBKkBAIDkSQUvWSlm7ILTKMxTkpOn10T8ZB6D...</td>\n",
       "      <td>nctam@atvn.com</td>\n",
       "      <td>https://scontent.xx.fbcdn.net/v/t51.2885-15/12...</td>\n",
       "      <td>2018-08-28 02:57:09</td>\n",
       "      <td>211431</td>\n",
       "      <td>44</td>\n",
       "      <td>Luxury Travel Media</td>\n",
       "      <td>ba5f1020-aaa8-11e8-a25d-bbf697a6eaed</td>\n",
       "      <td>680</td>\n",
       "      <td>2018-08-28 02:57:09</td>\n",
       "      <td>luxwtprime</td>\n",
       "      <td>ba5f1020-aaa8-11e8-a25d-bbf697a6eaed</td>\n",
       "      <td>Fashion, Travel, Beauty</td>\n",
       "      <td></td>\n",
       "      <td></td>\n",
       "      <td></td>\n",
       "      <td></td>\n",
       "    </tr>\n",
       "    <tr>\n",
       "      <th>2</th>\n",
       "      <td>instagram_business</td>\n",
       "      <td>17841400835466221</td>\n",
       "      <td>EAACLXTuiZBKkBACTE19k2ZASZA2jKqTukG9uVMDZBqd5G...</td>\n",
       "      <td>test@test.vn</td>\n",
       "      <td>https://scontent.xx.fbcdn.net/v/t51.2885-15/18...</td>\n",
       "      <td>2018-08-30 06:21:35</td>\n",
       "      <td>89</td>\n",
       "      <td>361</td>\n",
       "      <td>Huynh Trung Thong</td>\n",
       "      <td>f1d72270-ac1c-11e8-9f0a-f5dca0620c08</td>\n",
       "      <td>6</td>\n",
       "      <td>2018-08-30 06:21:35</td>\n",
       "      <td>trungthong95d</td>\n",
       "      <td>f1d72270-ac1c-11e8-9f0a-f5dca0620c08</td>\n",
       "      <td>[\"hot great\",\"Vehicle service and accessories\"...</td>\n",
       "      <td></td>\n",
       "      <td></td>\n",
       "      <td></td>\n",
       "      <td></td>\n",
       "    </tr>\n",
       "    <tr>\n",
       "      <th>3</th>\n",
       "      <td>instagram_business</td>\n",
       "      <td>17841401610104138</td>\n",
       "      <td>EAACLXTuiZBKkBALZCbVrZBpkptC5tJHaDZCWxZAZBFSI2...</td>\n",
       "      <td>nctam@atvn.com</td>\n",
       "      <td>https://scontent.xx.fbcdn.net/v/t51.2885-15/35...</td>\n",
       "      <td>2018-08-28 02:57:09</td>\n",
       "      <td>2784507</td>\n",
       "      <td>450</td>\n",
       "      <td>Luxury Travel Community</td>\n",
       "      <td>ba54d6f0-aaa8-11e8-a25d-bbf697a6eaed</td>\n",
       "      <td>4426</td>\n",
       "      <td>2018-08-28 02:57:09</td>\n",
       "      <td>luxuryworldtraveler</td>\n",
       "      <td>ba54d6f0-aaa8-11e8-a25d-bbf697a6eaed</td>\n",
       "      <td>[\"Travel\"]</td>\n",
       "      <td></td>\n",
       "      <td></td>\n",
       "      <td></td>\n",
       "      <td></td>\n",
       "    </tr>\n",
       "    <tr>\n",
       "      <th>4</th>\n",
       "      <td>instagram_business</td>\n",
       "      <td>17841403916959140</td>\n",
       "      <td>EAACLXTuiZBKkBAKOYWdHtqJ6J3Q3eTZC3FEZCDUVUxPHZ...</td>\n",
       "      <td>john@gmail.com</td>\n",
       "      <td>https://scontent.xx.fbcdn.net/v/t51.2885-15/14...</td>\n",
       "      <td>2018-08-30 14:18:48</td>\n",
       "      <td>50</td>\n",
       "      <td>36</td>\n",
       "      <td>John Schell</td>\n",
       "      <td>9ccf9300-ac5f-11e8-80f4-eb836fc406ca</td>\n",
       "      <td>7</td>\n",
       "      <td>2018-08-30 14:18:48</td>\n",
       "      <td>schell.je</td>\n",
       "      <td>9ccf9300-ac5f-11e8-80f4-eb836fc406ca</td>\n",
       "      <td>accessories, Beauty</td>\n",
       "      <td></td>\n",
       "      <td></td>\n",
       "      <td></td>\n",
       "      <td></td>\n",
       "    </tr>\n",
       "  </tbody>\n",
       "</table>\n",
       "</div>"
      ],
      "text/plain": [
       "          social_type                 id  \\\n",
       "0  instagram_business  17841400363002924   \n",
       "1  instagram_business  17841400488056752   \n",
       "2  instagram_business  17841400835466221   \n",
       "3  instagram_business  17841401610104138   \n",
       "4  instagram_business  17841403916959140   \n",
       "\n",
       "                                        access_token      account_id  \\\n",
       "0  EAACLXTuiZBKkBADl1XmuR4gsNuSIGwQtTLaKcXUU9o34x...  nctam@atvn.com   \n",
       "1  EAACLXTuiZBKkBAIDkSQUvWSlm7ILTKMxTkpOn10T8ZB6D...  nctam@atvn.com   \n",
       "2  EAACLXTuiZBKkBACTE19k2ZASZA2jKqTukG9uVMDZBqd5G...    test@test.vn   \n",
       "3  EAACLXTuiZBKkBALZCbVrZBpkptC5tJHaDZCWxZAZBFSI2...  nctam@atvn.com   \n",
       "4  EAACLXTuiZBKkBAKOYWdHtqJ6J3Q3eTZC3FEZCDUVUxPHZ...  john@gmail.com   \n",
       "\n",
       "                                 profile_picture_url             created  \\\n",
       "0  https://scontent.xx.fbcdn.net/v/t51.2885-15/22... 2018-08-28 02:57:09   \n",
       "1  https://scontent.xx.fbcdn.net/v/t51.2885-15/12... 2018-08-28 02:57:09   \n",
       "2  https://scontent.xx.fbcdn.net/v/t51.2885-15/18... 2018-08-30 06:21:35   \n",
       "3  https://scontent.xx.fbcdn.net/v/t51.2885-15/35... 2018-08-28 02:57:09   \n",
       "4  https://scontent.xx.fbcdn.net/v/t51.2885-15/14... 2018-08-30 14:18:48   \n",
       "\n",
       "   followers_count  follows_cnt                     name  \\\n",
       "0           831760           10             Book Smarter   \n",
       "1           211431           44      Luxury Travel Media   \n",
       "2               89          361        Huynh Trung Thong   \n",
       "3          2784507          450  Luxury Travel Community   \n",
       "4               50           36              John Schell   \n",
       "\n",
       "                                    id_  media_count        updated_date  \\\n",
       "0  ba5ee910-aaa8-11e8-a25d-bbf697a6eaed          436 2018-08-28 02:57:09   \n",
       "1  ba5f1020-aaa8-11e8-a25d-bbf697a6eaed          680 2018-08-28 02:57:09   \n",
       "2  f1d72270-ac1c-11e8-9f0a-f5dca0620c08            6 2018-08-30 06:21:35   \n",
       "3  ba54d6f0-aaa8-11e8-a25d-bbf697a6eaed         4426 2018-08-28 02:57:09   \n",
       "4  9ccf9300-ac5f-11e8-80f4-eb836fc406ca            7 2018-08-30 14:18:48   \n",
       "\n",
       "              username                              owner_id  \\\n",
       "0    booksmartertravel  ba5ee910-aaa8-11e8-a25d-bbf697a6eaed   \n",
       "1           luxwtprime  ba5f1020-aaa8-11e8-a25d-bbf697a6eaed   \n",
       "2        trungthong95d  f1d72270-ac1c-11e8-9f0a-f5dca0620c08   \n",
       "3  luxuryworldtraveler  ba54d6f0-aaa8-11e8-a25d-bbf697a6eaed   \n",
       "4            schell.je  9ccf9300-ac5f-11e8-80f4-eb836fc406ca   \n",
       "\n",
       "                                          categories biography comments_count  \\\n",
       "0                           Fashion, Travel, clothes                            \n",
       "1                            Fashion, Travel, Beauty                            \n",
       "2  [\"hot great\",\"Vehicle service and accessories\"...                            \n",
       "3                                         [\"Travel\"]                            \n",
       "4                                accessories, Beauty                            \n",
       "\n",
       "  likes_count account_type  \n",
       "0                           \n",
       "1                           \n",
       "2                           \n",
       "3                           \n",
       "4                           "
      ]
     },
     "execution_count": 304,
     "metadata": {},
     "output_type": "execute_result"
    }
   ],
   "source": [
    "df.head(5)"
   ]
  },
  {
   "cell_type": "code",
   "execution_count": null,
   "metadata": {},
   "outputs": [],
   "source": []
  },
  {
   "cell_type": "code",
   "execution_count": 332,
   "metadata": {},
   "outputs": [],
   "source": [
    "from sklearn.feature_extraction.text import TfidfVectorizer\n",
    "from sklearn.metrics.pairwise import cosine_similarity\n",
    "from nltk.stem import PorterStemmer\n",
    "from nltk.corpus import stopwords\n",
    "from nltk.tokenize import word_tokenize\n",
    "stemmer = PorterStemmer()\n",
    "\n",
    "def train_matrix(df, other_format = True): #build matrix to calculate distance between vector\n",
    "        \n",
    "    list_business = list()\n",
    "    for x in range(len(df['categories'])):\n",
    "        try:\n",
    "            if len(df['categories'].iloc[x])> 0:\n",
    "                if other_format == True:\n",
    "                    list_business.append(' '.join([stemmer.stem(word) for word in df['categories'].iloc[x]]))\n",
    "                else:\n",
    "                    #column categories with type text (ex: '[\"hot great\",\"Vehicle service and accessories\",\"Toys and hobbies\",\"Sports and outdoors\",\"Vehicle sales\"]')\n",
    "                    list_business.append(' '.join([stemmer.stem(word) for word in re.sub(r'[\\[\\]\\\"]', \"\", df['categories'].iloc[x]).split(',')]))     \n",
    "            else:\n",
    "                print(len(df['categories'][x]))\n",
    "        except Exception as ex:\n",
    "            print(ex)\n",
    "            pass\n",
    "    tfidf_vectorizer = TfidfVectorizer(stop_words='english')\n",
    "    tfidf_matrix = tfidf_vectorizer.fit_transform(list_business)\n",
    "\n",
    "    return tfidf_matrix, tfidf_vectorizer, list_business"
   ]
  },
  {
   "cell_type": "code",
   "execution_count": 333,
   "metadata": {},
   "outputs": [
    {
     "name": "stdout",
     "output_type": "stream",
     "text": [
      "object of type 'NoneType' has no len()\n",
      "object of type 'NoneType' has no len()\n",
      "object of type 'NoneType' has no len()\n",
      "object of type 'NoneType' has no len()\n",
      "object of type 'NoneType' has no len()\n",
      "object of type 'NoneType' has no len()\n",
      "object of type 'NoneType' has no len()\n",
      "object of type 'NoneType' has no len()\n",
      "object of type 'NoneType' has no len()\n",
      "object of type 'NoneType' has no len()\n",
      "object of type 'NoneType' has no len()\n",
      "object of type 'NoneType' has no len()\n",
      "object of type 'NoneType' has no len()\n",
      "object of type 'NoneType' has no len()\n"
     ]
    }
   ],
   "source": [
    "tfidf_matrix, tfidf_vectorizer, list_business = train_matrix(df, False)"
   ]
  },
  {
   "cell_type": "code",
   "execution_count": 334,
   "metadata": {},
   "outputs": [
    {
     "data": {
      "text/plain": [
       "{'fashion': 3,\n",
       " 'travel': 12,\n",
       " 'cloth': 2,\n",
       " 'beauti': 1,\n",
       " 'hot': 6,\n",
       " 'great': 4,\n",
       " 'vehicle': 13,\n",
       " 'service': 9,\n",
       " 'accessori': 0,\n",
       " 'toys': 11,\n",
       " 'hobbi': 5,\n",
       " 'sports': 10,\n",
       " 'outdoor': 7,\n",
       " 'sal': 8}"
      ]
     },
     "execution_count": 334,
     "metadata": {},
     "output_type": "execute_result"
    }
   ],
   "source": [
    "tfidf_vectorizer.vocabulary_"
   ]
  },
  {
   "cell_type": "code",
   "execution_count": 367,
   "metadata": {},
   "outputs": [],
   "source": [
    "#predict \n",
    "list_business_word = 'travel'\n",
    "\n",
    "list_text = []\n",
    "list_text= [stemmer.stem(x) for x in list_business_word.split(',')]\n",
    "list_text = ' '.join(list_text)\n",
    "\n",
    "\n",
    "sentence_to_vector = tfidf_vectorizer.transform([list_text])#toarray()\n",
    "arr = cosine_similarity(sentence_to_vector, tfidf_matrix)\n",
    "preds = arr[0, 0:]\n",
    "\n",
    "sorted_inds = [i[0] for i in sorted(enumerate(-preds), key=lambda x:x[1])]"
   ]
  },
  {
   "cell_type": "code",
   "execution_count": 380,
   "metadata": {},
   "outputs": [
    {
     "data": {
      "text/plain": [
       "[3, 1, 0, 2, 4]"
      ]
     },
     "execution_count": 380,
     "metadata": {},
     "output_type": "execute_result"
    }
   ],
   "source": [
    "sorted_inds"
   ]
  },
  {
   "cell_type": "code",
   "execution_count": 381,
   "metadata": {},
   "outputs": [
    {
     "data": {
      "text/plain": [
       "[3, 1]"
      ]
     },
     "execution_count": 381,
     "metadata": {},
     "output_type": "execute_result"
    }
   ],
   "source": [
    "[item for item in sorted_inds if preds[item]> 0.5]"
   ]
  },
  {
   "cell_type": "code",
   "execution_count": 371,
   "metadata": {},
   "outputs": [
    {
     "name": "stdout",
     "output_type": "stream",
     "text": [
      "(0, -0.5062044059286201)\n",
      "(1, -1.0)\n"
     ]
    }
   ],
   "source": [
    "import numpy as np\n",
    "a = sorted(i for i in preds if i >= 0.5)\n",
    "for i in enumerate(-np.array(a)):\n",
    "    print(i)"
   ]
  },
  {
   "cell_type": "code",
   "execution_count": 373,
   "metadata": {},
   "outputs": [
    {
     "data": {
      "text/plain": [
       "array([0.4622077 , 0.50620441, 0.        , 1.        , 0.        ])"
      ]
     },
     "execution_count": 373,
     "metadata": {},
     "output_type": "execute_result"
    }
   ],
   "source": [
    "preds"
   ]
  },
  {
   "cell_type": "code",
   "execution_count": 354,
   "metadata": {},
   "outputs": [
    {
     "data": {
      "text/plain": [
       "[0.5062044059286201, 1.0]"
      ]
     },
     "execution_count": 354,
     "metadata": {},
     "output_type": "execute_result"
    }
   ],
   "source": []
  },
  {
   "cell_type": "code",
   "execution_count": 351,
   "metadata": {},
   "outputs": [
    {
     "data": {
      "text/plain": [
       "[3, 1, 0, 2, 4]"
      ]
     },
     "execution_count": 351,
     "metadata": {},
     "output_type": "execute_result"
    }
   ],
   "source": [
    "sorted_inds"
   ]
  },
  {
   "cell_type": "code",
   "execution_count": 338,
   "metadata": {},
   "outputs": [
    {
     "data": {
      "text/plain": [
       "array([False,  True, False,  True, False])"
      ]
     },
     "execution_count": 338,
     "metadata": {},
     "output_type": "execute_result"
    }
   ],
   "source": [
    "preds > 0.5"
   ]
  },
  {
   "cell_type": "code",
   "execution_count": 312,
   "metadata": {},
   "outputs": [],
   "source": [
    "tmp_df = df.iloc[sorted_inds]"
   ]
  },
  {
   "cell_type": "code",
   "execution_count": 329,
   "metadata": {},
   "outputs": [],
   "source": [
    "tmp_df = tmp_df.loc[:, tmp_df.columns !='social_type']"
   ]
  },
  {
   "cell_type": "code",
   "execution_count": 386,
   "metadata": {},
   "outputs": [
    {
     "data": {
      "text/html": [
       "<div>\n",
       "<style scoped>\n",
       "    .dataframe tbody tr th:only-of-type {\n",
       "        vertical-align: middle;\n",
       "    }\n",
       "\n",
       "    .dataframe tbody tr th {\n",
       "        vertical-align: top;\n",
       "    }\n",
       "\n",
       "    .dataframe thead th {\n",
       "        text-align: right;\n",
       "    }\n",
       "</style>\n",
       "<table border=\"1\" class=\"dataframe\">\n",
       "  <thead>\n",
       "    <tr style=\"text-align: right;\">\n",
       "      <th></th>\n",
       "      <th>id</th>\n",
       "      <th>access_token</th>\n",
       "      <th>account_id</th>\n",
       "      <th>profile_picture_url</th>\n",
       "      <th>created</th>\n",
       "      <th>followers_count</th>\n",
       "      <th>follows_cnt</th>\n",
       "      <th>name</th>\n",
       "      <th>id_</th>\n",
       "      <th>media_count</th>\n",
       "      <th>updated_date</th>\n",
       "      <th>username</th>\n",
       "      <th>owner_id</th>\n",
       "      <th>categories</th>\n",
       "      <th>biography</th>\n",
       "      <th>comments_count</th>\n",
       "      <th>likes_count</th>\n",
       "      <th>account_type</th>\n",
       "    </tr>\n",
       "  </thead>\n",
       "  <tbody>\n",
       "    <tr>\n",
       "      <th>3</th>\n",
       "      <td>17841401610104138</td>\n",
       "      <td>EAACLXTuiZBKkBALZCbVrZBpkptC5tJHaDZCWxZAZBFSI2...</td>\n",
       "      <td>nctam@atvn.com</td>\n",
       "      <td>https://scontent.xx.fbcdn.net/v/t51.2885-15/35...</td>\n",
       "      <td>2018-08-28 02:57:09</td>\n",
       "      <td>2784507</td>\n",
       "      <td>450</td>\n",
       "      <td>Luxury Travel Community</td>\n",
       "      <td>ba54d6f0-aaa8-11e8-a25d-bbf697a6eaed</td>\n",
       "      <td>4426</td>\n",
       "      <td>2018-08-28 02:57:09</td>\n",
       "      <td>luxuryworldtraveler</td>\n",
       "      <td>ba54d6f0-aaa8-11e8-a25d-bbf697a6eaed</td>\n",
       "      <td>[\"Travel\"]</td>\n",
       "      <td></td>\n",
       "      <td></td>\n",
       "      <td></td>\n",
       "      <td></td>\n",
       "    </tr>\n",
       "  </tbody>\n",
       "</table>\n",
       "</div>"
      ],
      "text/plain": [
       "                  id                                       access_token  \\\n",
       "3  17841401610104138  EAACLXTuiZBKkBALZCbVrZBpkptC5tJHaDZCWxZAZBFSI2...   \n",
       "\n",
       "       account_id                                profile_picture_url  \\\n",
       "3  nctam@atvn.com  https://scontent.xx.fbcdn.net/v/t51.2885-15/35...   \n",
       "\n",
       "              created  followers_count  follows_cnt                     name  \\\n",
       "3 2018-08-28 02:57:09          2784507          450  Luxury Travel Community   \n",
       "\n",
       "                                    id_  media_count        updated_date  \\\n",
       "3  ba54d6f0-aaa8-11e8-a25d-bbf697a6eaed         4426 2018-08-28 02:57:09   \n",
       "\n",
       "              username                              owner_id  categories  \\\n",
       "3  luxuryworldtraveler  ba54d6f0-aaa8-11e8-a25d-bbf697a6eaed  [\"Travel\"]   \n",
       "\n",
       "  biography comments_count likes_count account_type  \n",
       "3                                                    "
      ]
     },
     "execution_count": 386,
     "metadata": {},
     "output_type": "execute_result"
    }
   ],
   "source": [
    "tmp_df[:1]"
   ]
  },
  {
   "cell_type": "code",
   "execution_count": 387,
   "metadata": {},
   "outputs": [],
   "source": [
    "df = tmp_df"
   ]
  },
  {
   "cell_type": "code",
   "execution_count": 392,
   "metadata": {},
   "outputs": [],
   "source": [
    "df = df.reindex(sorted(df.columns), axis=1)"
   ]
  },
  {
   "cell_type": "code",
   "execution_count": 396,
   "metadata": {},
   "outputs": [
    {
     "data": {
      "text/plain": [
       "3    EAACLXTuiZBKkBALZCbVrZBpkptC5tJHaDZCWxZAZBFSI2...\n",
       "1    EAACLXTuiZBKkBAIDkSQUvWSlm7ILTKMxTkpOn10T8ZB6D...\n",
       "0    EAACLXTuiZBKkBADl1XmuR4gsNuSIGwQtTLaKcXUU9o34x...\n",
       "Name: access_token, dtype: object"
      ]
     },
     "execution_count": 396,
     "metadata": {},
     "output_type": "execute_result"
    }
   ],
   "source": [
    "df['access_token'][df['account_id'] == 'nctam@atvn.com'] = 'aaa'"
   ]
  },
  {
   "cell_type": "code",
   "execution_count": 276,
   "metadata": {},
   "outputs": [
    {
     "data": {
      "text/plain": [
       "array([[0.2773501, 0.2773501, 0.2773501, 0.2773501, 0.2773501, 0.2773501,\n",
       "        0.2773501, 0.2773501, 0.2773501, 0.5547002]])"
      ]
     },
     "execution_count": 276,
     "metadata": {},
     "output_type": "execute_result"
    }
   ],
   "source": [
    "tfidf_matrix.toarray()"
   ]
  },
  {
   "cell_type": "code",
   "execution_count": 331,
   "metadata": {},
   "outputs": [
    {
     "data": {
      "text/plain": [
       "True"
      ]
     },
     "execution_count": 331,
     "metadata": {},
     "output_type": "execute_result"
    }
   ],
   "source": [
    "a = [3]\n",
    "isinstance(a, list)"
   ]
  },
  {
   "cell_type": "code",
   "execution_count": 277,
   "metadata": {},
   "outputs": [
    {
     "data": {
      "text/plain": [
       "{'hot': 3,\n",
       " 'great': 1,\n",
       " 'vehicle': 9,\n",
       " 'service': 6,\n",
       " 'accessories': 0,\n",
       " 'toys': 8,\n",
       " 'hobbies': 2,\n",
       " 'sports': 7,\n",
       " 'outdoors': 4,\n",
       " 'sales': 5}"
      ]
     },
     "execution_count": 277,
     "metadata": {},
     "output_type": "execute_result"
    }
   ],
   "source": [
    "tfidf_vectorizer.vocabulary_"
   ]
  },
  {
   "cell_type": "code",
   "execution_count": 250,
   "metadata": {},
   "outputs": [
    {
     "ename": "SyntaxError",
     "evalue": "invalid syntax (<ipython-input-250-ef2cc8eff103>, line 25)",
     "output_type": "error",
     "traceback": [
      "\u001b[0;36m  File \u001b[0;32m\"<ipython-input-250-ef2cc8eff103>\"\u001b[0;36m, line \u001b[0;32m25\u001b[0m\n\u001b[0;31m    \"categories\": user_hashtag_setting.categories,\u001b[0m\n\u001b[0m               ^\u001b[0m\n\u001b[0;31mSyntaxError\u001b[0m\u001b[0;31m:\u001b[0m invalid syntax\n"
     ]
    }
   ],
   "source": [
    "\"\"\"\n",
    "id bigint,\n",
    "username text,\n",
    "biography text,\n",
    "comments_count int,\n",
    "followers_count int,\n",
    "likes_count int,\n",
    "media_count int,\n",
    "name text,\n",
    "profile_picture_url text,\n",
    "updated_date timestamp,\n",
    "\"\"\"   \n",
    "\n",
    "{\n",
    "    \"id\": social_user.external_id, \n",
    "    \"username\": social_user.username, \n",
    "    \"biography\": null, \n",
    "    \"comments_count\": null, \n",
    "    \"followers_count\": social_user.followers_cnt, \n",
    "    \"likes_count\": null, \n",
    "    \"media_count\": social_user.post_cnt, \n",
    "    \"name\": social_user.fullname, \n",
    "    \"profile_picture_url\": social_user.avatar_url, \n",
    "    \"updated_date\": 1535138885827, social_user.updated\n",
    "    \"categories\": user_hashtag_setting.categories, \n",
    "    \"instagram_id\": social_user.username, \n",
    "    \"account_type\": null\n",
    "}\n",
    "\n",
    "['id', 'username', 'biography', 'comments_count', 'followers_count',\n",
    "       'likes_count', 'media_count', 'name', 'profile_picture_url',\n",
    "       'updated_date', 'categories', 'instagram_id', 'account_type',\n",
    "       'type_resource']"
   ]
  },
  {
   "cell_type": "code",
   "execution_count": 268,
   "metadata": {},
   "outputs": [],
   "source": [
    "column_name = ['social_type', 'id', 'access_token', 'account_id',\n",
    "       'profile_picture_url', 'created', 'followers_count', 'follows_cnt', 'name',\n",
    "       'id_', 'media_count', 'updated_date', 'username', 'account_type', 'owner_id', 'categories']"
   ]
  },
  {
   "cell_type": "code",
   "execution_count": 266,
   "metadata": {},
   "outputs": [],
   "source": [
    "df.columns = column_name"
   ]
  },
  {
   "cell_type": "code",
   "execution_count": 267,
   "metadata": {},
   "outputs": [
    {
     "data": {
      "text/html": [
       "<div>\n",
       "<style scoped>\n",
       "    .dataframe tbody tr th:only-of-type {\n",
       "        vertical-align: middle;\n",
       "    }\n",
       "\n",
       "    .dataframe tbody tr th {\n",
       "        vertical-align: top;\n",
       "    }\n",
       "\n",
       "    .dataframe thead th {\n",
       "        text-align: right;\n",
       "    }\n",
       "</style>\n",
       "<table border=\"1\" class=\"dataframe\">\n",
       "  <thead>\n",
       "    <tr style=\"text-align: right;\">\n",
       "      <th></th>\n",
       "      <th>social_type</th>\n",
       "      <th>id</th>\n",
       "      <th>access_token</th>\n",
       "      <th>account_id</th>\n",
       "      <th>profile_picture_url</th>\n",
       "      <th>created</th>\n",
       "      <th>followers_count</th>\n",
       "      <th>follows_cnt</th>\n",
       "      <th>name</th>\n",
       "      <th>id_</th>\n",
       "      <th>media_count</th>\n",
       "      <th>updated_date</th>\n",
       "      <th>username</th>\n",
       "      <th>owner_id</th>\n",
       "      <th>categories</th>\n",
       "    </tr>\n",
       "  </thead>\n",
       "  <tbody>\n",
       "    <tr>\n",
       "      <th>0</th>\n",
       "      <td>instagram_business</td>\n",
       "      <td>17841400363002924</td>\n",
       "      <td>EAACLXTuiZBKkBADl1XmuR4gsNuSIGwQtTLaKcXUU9o34x...</td>\n",
       "      <td>nctam@atvn.com</td>\n",
       "      <td>https://scontent.xx.fbcdn.net/v/t51.2885-15/22...</td>\n",
       "      <td>2018-08-28 02:57:09</td>\n",
       "      <td>831760</td>\n",
       "      <td>10</td>\n",
       "      <td>Book Smarter</td>\n",
       "      <td>ba5ee910-aaa8-11e8-a25d-bbf697a6eaed</td>\n",
       "      <td>436</td>\n",
       "      <td>2018-08-28 02:57:09</td>\n",
       "      <td>booksmartertravel</td>\n",
       "      <td>ba5ee910-aaa8-11e8-a25d-bbf697a6eaed</td>\n",
       "      <td>None</td>\n",
       "    </tr>\n",
       "  </tbody>\n",
       "</table>\n",
       "</div>"
      ],
      "text/plain": [
       "          social_type                 id  \\\n",
       "0  instagram_business  17841400363002924   \n",
       "\n",
       "                                        access_token      account_id  \\\n",
       "0  EAACLXTuiZBKkBADl1XmuR4gsNuSIGwQtTLaKcXUU9o34x...  nctam@atvn.com   \n",
       "\n",
       "                                 profile_picture_url             created  \\\n",
       "0  https://scontent.xx.fbcdn.net/v/t51.2885-15/22... 2018-08-28 02:57:09   \n",
       "\n",
       "   followers_count  follows_cnt          name  \\\n",
       "0           831760           10  Book Smarter   \n",
       "\n",
       "                                    id_  media_count        updated_date  \\\n",
       "0  ba5ee910-aaa8-11e8-a25d-bbf697a6eaed          436 2018-08-28 02:57:09   \n",
       "\n",
       "            username                              owner_id categories  \n",
       "0  booksmartertravel  ba5ee910-aaa8-11e8-a25d-bbf697a6eaed       None  "
      ]
     },
     "execution_count": 267,
     "metadata": {},
     "output_type": "execute_result"
    }
   ],
   "source": [
    "df.head(1)"
   ]
  },
  {
   "cell_type": "code",
   "execution_count": 269,
   "metadata": {},
   "outputs": [],
   "source": [
    "df['biography'] = ''\n",
    "df['comments_count'] = ''\n",
    "df['likes_count'] = ''\n",
    "df['account_type'] = ''"
   ]
  },
  {
   "cell_type": "code",
   "execution_count": 320,
   "metadata": {},
   "outputs": [],
   "source": [
    "df = df[['id',\n",
    "       'profile_picture_url', 'created', 'followers_count', 'follows_cnt', 'name',\n",
    "        'media_count', 'updated_date', 'username', 'account_type', 'categories']]"
   ]
  },
  {
   "cell_type": "code",
   "execution_count": 315,
   "metadata": {},
   "outputs": [],
   "source": [
    "column_name = ['social_type', 'id', 'access_token', 'account_id',\n",
    "            'profile_picture_url', 'created', 'followers_count', 'follows_cnt', 'name',\n",
    "            'id_', 'media_count', 'updated_date', 'username', 'owner_id', 'categories']"
   ]
  },
  {
   "cell_type": "code",
   "execution_count": 316,
   "metadata": {},
   "outputs": [
    {
     "data": {
      "text/plain": [
       "['social_type',\n",
       " 'id',\n",
       " 'access_token',\n",
       " 'account_id',\n",
       " 'profile_picture_url',\n",
       " 'created',\n",
       " 'followers_count',\n",
       " 'follows_cnt',\n",
       " 'name',\n",
       " 'id_',\n",
       " 'media_count',\n",
       " 'updated_date',\n",
       " 'username',\n",
       " 'owner_id',\n",
       " 'categories']"
      ]
     },
     "execution_count": 316,
     "metadata": {},
     "output_type": "execute_result"
    }
   ],
   "source": [
    "column_name"
   ]
  },
  {
   "cell_type": "code",
   "execution_count": 317,
   "metadata": {},
   "outputs": [
    {
     "data": {
      "text/plain": [
       "15"
      ]
     },
     "execution_count": 317,
     "metadata": {},
     "output_type": "execute_result"
    }
   ],
   "source": [
    "len(column_name)"
   ]
  },
  {
   "cell_type": "code",
   "execution_count": null,
   "metadata": {},
   "outputs": [],
   "source": []
  }
 ],
 "metadata": {
  "kernelspec": {
   "display_name": "Python [conda env:py36]",
   "language": "python",
   "name": "conda-env-py36-py"
  },
  "language_info": {
   "codemirror_mode": {
    "name": "ipython",
    "version": 3
   },
   "file_extension": ".py",
   "mimetype": "text/x-python",
   "name": "python",
   "nbconvert_exporter": "python",
   "pygments_lexer": "ipython3",
   "version": "3.6.6"
  },
  "widgets": {
   "state": {},
   "version": "1.1.2"
  }
 },
 "nbformat": 4,
 "nbformat_minor": 2
}
