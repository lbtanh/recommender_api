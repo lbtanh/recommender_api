{
 "cells": [
  {
   "cell_type": "code",
   "execution_count": 1,
   "metadata": {},
   "outputs": [],
   "source": [
    "import sys\n",
    "sys.path.insert(0,'../FacebookCrawler/')\n",
    "sys.path.insert(0,'../database/')\n",
    "import time\n",
    "from facebook_graph_api import *\n",
    "import constants\n",
    "import pandas as pd\n",
    "from cassandra.util import uuid_from_time\n",
    "from threading import Thread\n",
    "import models\n",
    "import db_cassandra\n",
    "from cassandra.query import dict_factory\n",
    "from cassandra.cqlengine import columns, connection\n",
    "import cassandra.util\n",
    "from datetime import datetime\n",
    "\n",
    "FORMAT = '%(asctime)-15s %(clientip)s %(user)-8s %(message)s'\n",
    "logging.basicConfig(level=logging.ERROR)\n",
    "LOGGER.info(\"business discovery...\")\n"
   ]
  },
  {
   "cell_type": "code",
   "execution_count": 2,
   "metadata": {},
   "outputs": [],
   "source": [
    "def get_influencer_profiles(begin, end, cass_session, fb_graph):\n",
    "    connection.set_session(cass_session)\n",
    "    list_business_discovery_all = []\n",
    "    # read instagram id \n",
    "#     path = join(dirname(dirname(os.path.abspath(__file__))),constants.instagram_id_path_file)\n",
    "    path = '../%s'%constants.instagram_id_path_file\n",
    "    with open(path, \"r\") as read_file:\n",
    "        list_id = read_file.read().split('\\n')\n",
    "#     f = open(writer_file, 'a')\n",
    "    i = 0\n",
    "    for instagram_id in list_id[begin:end]:\n",
    "        print('len list %s'%len(list_id[begin:end]))\n",
    "        time.sleep(2)\n",
    "        print('sleeping %s'%constants.TIME_SLEEP)\n",
    "        i = i + 1\n",
    "        print(\"====== %s ======\" %(i))\n",
    "        try:\n",
    "            business_discovery_all = fb_graph.get_business_discovery_all(media_count = constants.MAX_MEDIA, username = instagram_id)#17841401610104138, 17841407517779759\n",
    "            if 'error' not in business_discovery_all:\n",
    "                print(business_discovery_all['username'])\n",
    "                # create list to convert into df and save file\n",
    "                # list_business_discovery_all.append(self.parser_influencer_data(business_discovery_all))\n",
    "                dict_result = fb_graph.parser_influencer_data(business_discovery_all)\n",
    "                dict_result['ts'] = uuid_from_time(time.time())\n",
    "                event = models.UserBusinessDiscovery(**dict_result)\n",
    "                event.save()\n",
    "            else:\n",
    "                print('error: %s'%instagram_id)\n",
    "        except Exception as ex:\n",
    "            print(ex)\n",
    "            pass"
   ]
  },
  {
   "cell_type": "code",
   "execution_count": null,
   "metadata": {},
   "outputs": [],
   "source": []
  },
  {
   "cell_type": "code",
   "execution_count": 3,
   "metadata": {},
   "outputs": [
    {
     "name": "stdout",
     "output_type": "stream",
     "text": [
      "/home/anh_lbt/atvn/sw_follou/recommender_api/test\n"
     ]
    }
   ],
   "source": [
    "import facebook_graph_api\n",
    "import argparse, time\n",
    "import constants\n",
    "\n",
    "\n",
    "def thread1(threadname,fb_graph, begin, end,file_name):\n",
    "    print('start %s....'%threadname)\n",
    "    fb_graph.get_influencer_profiles(begin, end,file_name)\n",
    "    print('finished %s....'%threadname)\n",
    "\n",
    "\n",
    "if __name__==\"__main__\":\n",
    "    fb_graph = facebook_graph_api.FacebookGraphApi('../FacebookCrawler/instagram_token.csv')\n",
    "    (fb_graph.access_token,fb_graph.user_id) = constants.TOKENS[-1] \n",
    "\n",
    "    thread1 = Thread( target=thread1, args=(\"Thread-1\",fb_graph, 2500, 3500,'3500.txt') )\n",
    "#     thread2 = Thread( target=thread2, args=(\"Thread-2\",fb_graph, 3000, 4000,'4000.txt' ) )\n",
    "\n",
    "    cass_db = db_cassandra.db_cassandra(['172.33.47.9'],dict_factory)\n",
    "#     thread1.start()"
   ]
  },
  {
   "cell_type": "code",
   "execution_count": 4,
   "metadata": {},
   "outputs": [],
   "source": [
    "# get_influencer_profiles(10, 20, cass_db.session, fb_graph)"
   ]
  },
  {
   "cell_type": "code",
   "execution_count": null,
   "metadata": {},
   "outputs": [],
   "source": []
  },
  {
   "cell_type": "code",
   "execution_count": 5,
   "metadata": {},
   "outputs": [],
   "source": [
    "# test insert into cassandra\n",
    "\n",
    "# ['id', 'biography', 'followers_count', 'media_count', 'name', 'username', 'profile_picture_url', 'comments_count', 'likes_count']\n",
    "business_discovery_all = fb_graph.get_business_discovery_all(media_count = constants.MAX_MEDIA, username = 'ludovica_ferlito')#17841401610104138, 17841407517779759\n",
    "if 'error' not in business_discovery_all:\n",
    "#     print(business_discovery_all['username'])\n",
    "    res = fb_graph.parser_influencer_data(business_discovery_all)\n",
    "#     print(res)\n"
   ]
  },
  {
   "cell_type": "code",
   "execution_count": 6,
   "metadata": {},
   "outputs": [],
   "source": [
    "from cassandra.cqlengine.models import Model\n",
    "from cassandra.cqlengine import columns, connection\n",
    "from cassandra.cluster import Cluster\n",
    "from cassandra.query import dict_factory\n",
    "from cassandra.cqlengine.columns import *\n",
    "from cassandra.cqlengine.usertype import UserType\n",
    "\n",
    "\n",
    "\n",
    "import pandas as pd\n",
    "import os\n",
    "\n",
    "def read_multi_file_to_df(dir_files = './data_api_insta/'):\n",
    "    df_inf = pd.DataFrame(index=None)\n",
    "    for file in os.listdir(dir_files):\n",
    "        if file.endswith('.txt'):\n",
    "            data = pd.read_csv(os.path.join(dir_files, file),sep='\\t', header=0)\n",
    "#             df = pd.DataFrame.from_dict(data, orient='columns')\n",
    "            df_inf= pd.concat([data, df_inf], axis=0)\n",
    "    return df_inf\n",
    "\n",
    "class UserBusinessDiscovery(Model):\n",
    "    __table_name__ = \"user_business_discovery\"\n",
    "\n",
    "    id = columns.BigInt(primary_key=True)\n",
    "    name = columns.Text()\n",
    "    biography = columns.Text()\n",
    "    media_count = columns.Integer()\n",
    "    comments_count = columns.Integer()\n",
    "    likes_count = columns.Integer()\n",
    "    followers_count = columns.Integer()\n",
    "    username = columns.Text()\n",
    "    profile_picture_url = columns.Text()\n",
    "    ts = columns.UUID(primary_key=True)\n",
    "\n",
    "    "
   ]
  },
  {
   "cell_type": "code",
   "execution_count": 7,
   "metadata": {},
   "outputs": [],
   "source": [
    "\n",
    "# #get session\n",
    "_session = Cluster(contact_points =['172.33.47.9'], port=9042).connect('aify_recommend')\n",
    "_session.row_factory = dict_factory\n",
    "connection.set_session(_session)\n",
    "\n",
    "# #preprocessing\n",
    "# df_api = read_avarta_urls_to_df()\n",
    "# df_api['biography']= df_api['biography'].fillna(\"\")\n",
    "# df_api['name']= df_api['name'].fillna(\"\")\n",
    "# df_api['website'] = df_api['website'].fillna(\"\")\n",
    "# #convert to dict and insert into db\n",
    "# for i in range(df_api.shape[0]):\n",
    "#     res = df_api.iloc[i].to_dict()\n",
    "#     res['ts'] = uuid_from_time(time.time())\n",
    "#     event = UserBusinessDiscovery(**res)\n",
    "#     event.save()"
   ]
  },
  {
   "cell_type": "code",
   "execution_count": null,
   "metadata": {},
   "outputs": [],
   "source": []
  },
  {
   "cell_type": "code",
   "execution_count": 8,
   "metadata": {},
   "outputs": [],
   "source": [
    "# class Person(Model):\n",
    "#     first_name  = columns.Text(primary_key=True)\n",
    "#     last_name = columns.Text()\n",
    "\n",
    "# kevin = Person.create(first_name=\"Kevin\", last_name=\"Deldycke\")\n",
    "# dict(kevin)  # returns {'first_name': 'Kevin', 'last_name': 'Deldycke'}\n",
    "# kevin['first_name']  # returns 'Kevin'\n",
    "# kevin.keys()  # returns ['first_name', 'last_name']\n",
    "# kevin.values()  # returns ['Kevin', 'Deldycke']\n",
    "# kevin.items()  # returns [('first_name', 'Kevin'), ('last_name', 'Deldycke')]\n",
    "\n",
    "# kevin['first_name'] = 'KEVIN5000'  # changes the models first name\n",
    "\n",
    "\n",
    "# CREATE TABLE IF NOT EXISTS aify_recommend.Person (\n",
    "#     id timeuuid,\n",
    "#     user_name text,\n",
    "#     first_name text,\n",
    "#     last_name text,\n",
    "#     updated_date timestamp,\n",
    "#     PRIMARY KEY(id, user_name)\n",
    "# ) WITH CLUSTERING ORDER BY (id DESC);\n",
    "\n",
    "\n",
    "\n",
    "import time\n",
    "from cassandra.cqlengine.columns import UUID\n",
    "from cassandra.util import uuid_from_time\n",
    "#using the person model from earlier:\n",
    "class Person(Model):\n",
    "    id = columns.UUID(primary_key=True)\n",
    "    user_name = columns.Text(primary_key=True)\n",
    "    first_name  = columns.Text()\n",
    "    last_name = columns.Text()\n",
    "    updated_date = columns.DateTime()\n",
    "    \n",
    "\n",
    "# person = Person(id = uuid_from_time(time.time()),user_name = 'anhlbt', first_name='Blake', last_name='Eggleston')"
   ]
  },
  {
   "cell_type": "code",
   "execution_count": 9,
   "metadata": {},
   "outputs": [
    {
     "data": {
      "text/plain": [
       "Person(id=UUID('280151aa-a76c-11e8-adec-da1ca786166d'), user_name='anhlbt', first_name='Anh', last_name='Le', updated_date=None)"
      ]
     },
     "execution_count": 9,
     "metadata": {},
     "output_type": "execute_result"
    }
   ],
   "source": [
    "person = Person(id = uuid_from_time(time.time()),user_name = 'anhlbt', first_name='Anh', last_name='Le')\n",
    "person.save()"
   ]
  },
  {
   "cell_type": "code",
   "execution_count": 10,
   "metadata": {},
   "outputs": [],
   "source": [
    "person.objects(id='81833564-a5bd-11e8-a36c-67d94cf8123f', user_name = 'anhlbt').update(last_name='CCBBBBBBBBBBBCCC')"
   ]
  },
  {
   "cell_type": "code",
   "execution_count": 11,
   "metadata": {},
   "outputs": [],
   "source": [
    "# _session.execute(\"CREATE INDEX ON aify_recommend.Person(first_name);\")"
   ]
  },
  {
   "cell_type": "code",
   "execution_count": null,
   "metadata": {},
   "outputs": [],
   "source": []
  },
  {
   "cell_type": "code",
   "execution_count": 206,
   "metadata": {},
   "outputs": [],
   "source": [
    "#convert OrderedMapSerializedKey to dict (from cassandra)\n",
    "from cassandra.util import OrderedMapSerializedKey\n",
    "\n",
    "def OrderedMapSerializedKeyToDict(map_data): \n",
    "    lst = []\n",
    "    for idx_value, i_value in enumerate(map_data):\n",
    "        if type(i_value) is OrderedMapSerializedKey:\n",
    "#             print(i_value) #{'follower': '15.6k', 'link': 'https://instagram.com/martilenia', 'type': 'Instagram Link Click'}\n",
    "            lst.append(dict(i_value))\n",
    "    return lst\n",
    "# OrderedMapSerializedKeyToDict(row[0])\n",
    "\n",
    "\n",
    "def map_to_dict_factory_2(dict_):\n",
    "    try:\n",
    "        for key, value in dict_.items():\n",
    "            if isinstance(value, OrderedMapSerializedKey):\n",
    "                d = dict()\n",
    "                for key2, value2 in dict(value).items():\n",
    "                    if isinstance(value2, OrderedMapSerializedKey):\n",
    "                        d[key2] = dict(value2)\n",
    "                dict_[key] = d    \n",
    "    except Exception as ex:\n",
    "        print(ex)\n",
    "        pass\n",
    "    return dict_\n",
    "\n",
    "#return list of dict\n",
    "def map_to_dict_factory_1(list_of_dict):\n",
    "    try:\n",
    "        ls_dic_re = []\n",
    "        for idx_value, i_value in enumerate(list_of_dict):\n",
    "            for key, value in i_value.items():\n",
    "                if isinstance(value, OrderedMapSerializedKey):\n",
    "                    i_value[key] = dict(value)\n",
    "            ls_dic_re.append(i_value)\n",
    "    except Exception as ex:\n",
    "        print(ex)\n",
    "        pass\n",
    "    return ls_dic_re\n",
    "\n",
    "class type_business_info(UserType):\n",
    "    id = columns.Text()\n",
    "    website = columns.Text()\n",
    "    media_count = columns.Integer()\n",
    "    followers_count = columns.Integer()\n",
    "    name = columns.Text()\n",
    "    username = columns.Text()\n",
    "    profile_picture_url = columns.Text()\n",
    "    new_post = columns.Integer(default = 0)\n",
    "\n",
    "    \n",
    "class watch_list(Model):\n",
    "    __keyspace__ = 'aify_recommend'\n",
    "    __table_name__ = \"watch_list\"\n",
    "    user_id= columns.Text(primary_key=True)\n",
    "    watch_user_list= Map(Text(), UserDefinedType(type_business_info))\n",
    "    viewed_time =columns.DateTime()\n",
    "    updated_time =columns.DateTime()\n",
    "    \n",
    "class recommend_influencer(Model):\n",
    "    __keyspace__ = 'aify_recommend'\n",
    "    __table_name__ = \"recommend_influencer_test\"\n",
    "    influencer_name = Text()\n",
    "    bio = Text()\n",
    "    categories = List(Text())\n",
    "    commentPerPost =Integer()\n",
    "    demographics = Text()\n",
    "    engagementRate = Text()\n",
    "    follower = Integer()\n",
    "    account_type =Integer()\n",
    "    likePerPost = Integer()\n",
    "    location = Text()\n",
    "    path =Text()\n",
    "    reach =Text()\n",
    "    website =Text()\n",
    "    posts_starting =Integer()\n",
    "    currency =Text()\n",
    "    socialAccounts = List(Map(Text(), Text()))\n",
    "    created =DateTime(default=  datetime.utcnow())\n",
    "    updated =DateTime(default=  datetime.utcnow())\n",
    "    activate =DateTime(default=  datetime.utcnow())\n",
    "    influencer_id = Integer(primary_key=True)\n",
    "    img_url = Text()\n",
    "    ts = UUID(primary_key=True)\n",
    "    "
   ]
  },
  {
   "cell_type": "code",
   "execution_count": null,
   "metadata": {},
   "outputs": [],
   "source": []
  },
  {
   "cell_type": "code",
   "execution_count": 209,
   "metadata": {},
   "outputs": [],
   "source": [
    "rein = recommend_influencer(influencer_id=112233, ts = uuid_from_time(time.time()), influencer_name = 'Nguyen Van A', categories = ['Travel', 'Foods', 'Fashion'])\n",
    "rein.save()"
   ]
  },
  {
   "cell_type": "code",
   "execution_count": 210,
   "metadata": {},
   "outputs": [
    {
     "data": {
      "text/plain": [
       "recommend_influencer(influencer_name='Nguyen Van A', bio=None, categories=['Travel', 'Foods', 'Fashion'], commentPerPost=None, demographics=None, engagementRate=None, follower=None, account_type=None, likePerPost=None, location=None, path=None, reach=None, website=None, posts_starting=None, currency=None, socialAccounts=[], created=datetime.datetime(2018, 8, 29, 10, 20, 59, 989163), updated=datetime.datetime(2018, 8, 29, 10, 20, 59, 989173), activate=datetime.datetime(2018, 8, 29, 10, 20, 59, 989182), influencer_id=112233, img_url=None, ts=UUID('bee62a8e-ab75-11e8-9ee0-4aac9e767c57'))"
      ]
     },
     "execution_count": 210,
     "metadata": {},
     "output_type": "execute_result"
    }
   ],
   "source": []
  },
  {
   "cell_type": "code",
   "execution_count": 13,
   "metadata": {},
   "outputs": [],
   "source": [
    "info_1 = fb_graph.get_business_info(username = 'emmaparkerandco')\n",
    "info_2 = fb_graph.get_business_info(username = 'natje_9999')"
   ]
  },
  {
   "cell_type": "code",
   "execution_count": 14,
   "metadata": {},
   "outputs": [],
   "source": [
    "info_1['new_post'] = 0\n",
    "info_2['new_post'] = 0"
   ]
  },
  {
   "cell_type": "code",
   "execution_count": 15,
   "metadata": {},
   "outputs": [],
   "source": [
    "a1 = type_business_info(**info_1)\n",
    "a2 = type_business_info(**info_2)"
   ]
  },
  {
   "cell_type": "code",
   "execution_count": 16,
   "metadata": {},
   "outputs": [
    {
     "data": {
      "text/plain": [
       "watch_list(user_id='anhlbt', watch_user_list={'natje_9999': <__main__.type_business_info object at 0x7f3065ebcf28>, 'emmaparkerandco': <__main__.type_business_info object at 0x7f3065ebc5f8>}, viewed_time=datetime.datetime(2018, 8, 24, 7, 6, 46, 555668), updated_time=datetime.datetime(2018, 8, 24, 7, 6, 46, 555670))"
      ]
     },
     "execution_count": 16,
     "metadata": {},
     "output_type": "execute_result"
    }
   ],
   "source": [
    "wl = watch_list(user_id = 'anhlbt',watch_user_list= {'natje_9999': a2, 'emmaparkerandco': a1}, viewed_time = datetime.utcnow(),updated_time = datetime.utcnow())\n",
    "wl.save()"
   ]
  },
  {
   "cell_type": "code",
   "execution_count": 34,
   "metadata": {},
   "outputs": [],
   "source": [
    "query_string=\"select * from aify_recommend.watch_list where user_id = 'anhlbt'\"\n",
    "# query_string = 'truncate aify_recommend.watch_list_'\n",
    "re = _session.execute(query_string)\n",
    "# re.current_rows[0]"
   ]
  },
  {
   "cell_type": "code",
   "execution_count": 35,
   "metadata": {},
   "outputs": [
    {
     "data": {
      "text/plain": [
       "[{'user_id': 'anhlbt',\n",
       "  'updated_time': datetime.datetime(2018, 8, 24, 7, 6, 46, 555000),\n",
       "  'viewed_time': datetime.datetime(2018, 8, 24, 7, 6, 46, 555000),\n",
       "  'watch_user_list': OrderedMapSerializedKey([('emmaparkerandco', <__main__.type_business_info object at 0x7f3065ec01d0>), ('natje_9999', <__main__.type_business_info object at 0x7f306c0f06a0>), ('traveling__pari', <__main__.type_business_info object at 0x7f3065eb41d0>)])}]"
      ]
     },
     "execution_count": 35,
     "metadata": {},
     "output_type": "execute_result"
    }
   ],
   "source": [
    "re.current_rows"
   ]
  },
  {
   "cell_type": "code",
   "execution_count": 173,
   "metadata": {},
   "outputs": [],
   "source": [
    "test = type_business_info(id = 'id_test',\n",
    "    website = 'link web',\n",
    "    media_count = 12,\n",
    "    followers_count = 100,\n",
    "    name = 'Tuan Anh',\n",
    "    username = 'anhlbt',\n",
    "    profile_picture_url = 'url_picture')"
   ]
  },
  {
   "cell_type": "code",
   "execution_count": null,
   "metadata": {},
   "outputs": [],
   "source": []
  },
  {
   "cell_type": "code",
   "execution_count": 186,
   "metadata": {},
   "outputs": [],
   "source": [
    "def get_wl_by_user_id(user_id):\n",
    "    try:\n",
    "        query_string=\"select * from aify_recommend.watch_list where user_id = '%s'\"%user_id\n",
    "        re = _session.execute(query_string)\n",
    "        list_dict_ = map_to_dict_factory_1(re.current_rows)#data get from db, list have only one item\n",
    "    #     list_dict_ = re.current_rows\n",
    "        return list_dict_[0]\n",
    "    except Exception as ex:\n",
    "        return None\n",
    "\n",
    "def wl_add(user_id, ig_id, fb_graph):\n",
    "    try:\n",
    "        wl_item = fb_graph.get_business_info(username = ig_id)\n",
    "        wl_item['new_post'] = 0\n",
    "        wl = get_wl_by_user_id(user_id)\n",
    "        if wl is None:\n",
    "            wl = watch_list(user_id = user_id, watch_user_list = {ig_id:type_business_info(**wl_item)}, viewed_time = datetime.utcnow(),updated_time = datetime.utcnow())\n",
    "            wl.save()\n",
    "        else:\n",
    "            if wl['watch_user_list'] is None:\n",
    "                watch_list.objects(user_id = user_id).update(watch_user_list= {ig_id:type_business_info(**wl_item)})\n",
    "            else:   \n",
    "                if ig_id in wl['watch_user_list']:\n",
    "                    print(\"user %s already in watch list\"%ig_id)\n",
    "                    return False\n",
    "                else:\n",
    "                    wl['watch_user_list'][ig_id] = type_business_info(**wl_item)     \n",
    "                    watch_list.objects(user_id = user_id).update(watch_user_list= wl['watch_user_list'])\n",
    "        return True\n",
    "        \n",
    "    except Exception as ex:\n",
    "        print(ex)\n",
    "        return False\n",
    "\n",
    "def wl_remove(user_id, ig_id, fb_graph):\n",
    "    try:\n",
    "        wl = get_wl_by_user_id(user_id)\n",
    "        if wl is None:\n",
    "            return False\n",
    "        elif wl['watch_user_list'] is not None and ig_id in wl['watch_user_list']:\n",
    "            #print('remove %s '%ig_id)\n",
    "            del wl['watch_user_list'][ig_id]\n",
    "            watch_list.objects(user_id = user_id).update(watch_user_list= None)\n",
    "            watch_list.objects(user_id = user_id).update(watch_user_list= wl['watch_user_list'])\n",
    "            return True\n",
    "        else:\n",
    "            print('no see %s in database'%ig_id)\n",
    "            return False\n",
    "    except Exception as ex:\n",
    "        print(ex)\n",
    "        return False    \n",
    "    \n",
    "    \n",
    "\n",
    "def wl_update_new_post(user_id, fb_graph):\n",
    "#     list_infos = []\n",
    "    try:\n",
    "        wl = get_wl_by_user_id(user_id)\n",
    "        if wl is None:\n",
    "            return False\n",
    "        elif wl['watch_user_list'] is not None:\n",
    "            for k, username in enumerate(wl['watch_user_list']):\n",
    "        #     for k, v in list_dict_[0]['watch_user_list'].items(): # iter dictionary\n",
    "                print(username)\n",
    "                request_data = fb_graph.get_business_info(username = username)\n",
    "    #             list_infos.append(request_data)\n",
    "                #\n",
    "                num_new_post = request_data['media_count'] - int(wl['watch_user_list'][username].media_count)\n",
    "                request_data['new_post'] = num_new_post\n",
    "                if num_new_post != 0:\n",
    "                    #update db\n",
    "                    wl['watch_user_list'][username] = type_business_info(**request_data) #update item in watch list user\n",
    "                    print('you have %s new post'%num_new_post)\n",
    "                    \n",
    "        else:\n",
    "            print('no have any user in watch list, please add first...')\n",
    "            return False\n",
    "                \n",
    "        watch_list.objects(user_id = user_id).update(watch_user_list= wl['watch_user_list'])      \n",
    "\n",
    "    except Exception as ex:\n",
    "        print(ex)\n",
    "        \n",
    "# watch_list.objects(user_id = 'anhlbt').update(watch_user_list= {'natje_9999': a2, 'emmaparkerandco': a2})   \n",
    "\n",
    "# update_string = \"update watch_list set watch_user_list= {'natje_9999': 'a2', 'emmaparkerandco': 'a1'} where user_id = 'anhlbt' if exists\"\n",
    "# _session.execute(update_string)\n",
    "\n",
    "# wl = watch_list(user_id = 'anhlbt3',watch_user_list= a['watch_user_list'], viewed_time = datetime.utcnow(),updated_time = datetime.utcnow())\n",
    "# wl.save()"
   ]
  },
  {
   "cell_type": "code",
   "execution_count": 201,
   "metadata": {},
   "outputs": [
    {
     "name": "stdout",
     "output_type": "stream",
     "text": [
      "user natje_9999 already in watch list\n"
     ]
    },
    {
     "data": {
      "text/plain": [
       "False"
      ]
     },
     "execution_count": 201,
     "metadata": {},
     "output_type": "execute_result"
    }
   ],
   "source": [
    "wl_add('anhlbt', 'natje_9999', fb_graph)"
   ]
  },
  {
   "cell_type": "code",
   "execution_count": 202,
   "metadata": {},
   "outputs": [
    {
     "data": {
      "text/plain": [
       "True"
      ]
     },
     "execution_count": 202,
     "metadata": {},
     "output_type": "execute_result"
    }
   ],
   "source": [
    "wl_remove('anhlbt', 'natje_9999', fb_graph)"
   ]
  },
  {
   "cell_type": "code",
   "execution_count": 203,
   "metadata": {},
   "outputs": [
    {
     "data": {
      "text/plain": [
       "{'user_id': 'anhlbt',\n",
       " 'updated_time': datetime.datetime(2018, 8, 24, 7, 6, 46, 555000),\n",
       " 'viewed_time': datetime.datetime(2018, 8, 24, 7, 6, 46, 555000),\n",
       " 'watch_user_list': None}"
      ]
     },
     "execution_count": 203,
     "metadata": {},
     "output_type": "execute_result"
    }
   ],
   "source": [
    "get_wl_by_user_id('anhlbt')"
   ]
  },
  {
   "cell_type": "code",
   "execution_count": 188,
   "metadata": {},
   "outputs": [],
   "source": [
    "watch_list.objects(user_id = 'anhlbt').update(watch_user_list= {'natje_9999': a2, 'emmaparkerandco': a2})   \n"
   ]
  },
  {
   "cell_type": "code",
   "execution_count": 189,
   "metadata": {},
   "outputs": [
    {
     "name": "stdout",
     "output_type": "stream",
     "text": [
      "emmaparkerandco\n",
      "you have -472 new post\n",
      "natje_9999\n"
     ]
    }
   ],
   "source": [
    "wl_update_new_post('anhlbt', fb_graph)"
   ]
  },
  {
   "cell_type": "code",
   "execution_count": 184,
   "metadata": {},
   "outputs": [
    {
     "data": {
      "text/plain": [
       "330"
      ]
     },
     "execution_count": 184,
     "metadata": {},
     "output_type": "execute_result"
    }
   ],
   "source": [
    "a['watch_user_list']['emmaparkerandco'].media_count"
   ]
  },
  {
   "cell_type": "code",
   "execution_count": 185,
   "metadata": {},
   "outputs": [
    {
     "data": {
      "text/plain": [
       "802"
      ]
     },
     "execution_count": 185,
     "metadata": {},
     "output_type": "execute_result"
    }
   ],
   "source": [
    "a['watch_user_list']['natje_9999'].media_count"
   ]
  },
  {
   "cell_type": "code",
   "execution_count": 181,
   "metadata": {},
   "outputs": [
    {
     "data": {
      "text/plain": [
       "-472"
      ]
     },
     "execution_count": 181,
     "metadata": {},
     "output_type": "execute_result"
    }
   ],
   "source": [
    "a['watch_user_list']['emmaparkerandco'].new_post"
   ]
  },
  {
   "cell_type": "code",
   "execution_count": 182,
   "metadata": {},
   "outputs": [
    {
     "data": {
      "text/plain": [
       "0"
      ]
     },
     "execution_count": 182,
     "metadata": {},
     "output_type": "execute_result"
    }
   ],
   "source": [
    "a['watch_user_list']['natje_9999'].new_post"
   ]
  },
  {
   "cell_type": "code",
   "execution_count": 395,
   "metadata": {},
   "outputs": [],
   "source": [
    "# prepared = _session.prepare(\"\"\"\n",
    "#         INSERT INTO aify_recommend.watch_list_ (user_id, watch_user_list, updated_time, viewed_time) \n",
    "#         VALUES(?, ?, ?, ?)\n",
    "#         \"\"\")\n",
    "\n",
    "# _session.execute(prepared.bind((\"emmaparkerandco\", {'annieverywhere':watch_list[0]}, datetime.utcnow(), datetime.utcnow() )))\n",
    "\n",
    "# _session.execute(prepared.bind((\"emmaparkerandco\", datetime.utcnow(), datetime.utcnow(),\\\n",
    "#                                 {\"natje_9999\":{\"media_count\":\"30\", \"followers_count\": \"65\"}, \"annieverywhere\":{\"media_count\":\"50\", \"followers_count\": \"65\"}})))\n",
    "\n",
    "#update map\n",
    "update_string = \"update watch_list_ set updated_time= %s, viewed_time = %s where user_id = 'emmaparkerandco' if exists\"%(datetime.utcnow(), datetime.utcnow())\n",
    "_session.execute(update_string)"
   ]
  },
  {
   "cell_type": "code",
   "execution_count": null,
   "metadata": {},
   "outputs": [],
   "source": []
  },
  {
   "cell_type": "code",
   "execution_count": 61,
   "metadata": {},
   "outputs": [
    {
     "name": "stdout",
     "output_type": "stream",
     "text": [
      "/home/anh_lbt/atvn/sw_follou/recommender_api/test\n",
      "{'id': '17841401690883742', 'website': 'https://www.emmaparkerdiamonds.com/', 'followers_count': 650, 'media_count': 330, 'name': 'Emma Parker & Co.', 'username': 'emmaparkerandco', 'profile_picture_url': 'https://scontent.xx.fbcdn.net/v/t51.2885-15/12393747_142605859440768_1709991462_a.jpg?_nc_cat=0&oh=8b7b47ecf00a2e0e865d2c0d06993e63&oe=5BF30F51'}\n",
      "0.596560001373291\n"
     ]
    }
   ],
   "source": [
    "#calculate num new post:\n",
    "#first, select from db, we have: [{'anhlbt': 19}, {'longld': 100}]\n",
    "#second, call api to get current data (up to date)\n",
    "#then, calculate new post and update db,\n",
    "fb_graph = facebook_graph_api.FacebookGraphApi('../FacebookCrawler/instagram_token.csv')\n",
    "s_time = time.time()\n",
    "test = fb_graph.get_business_info(username = 'emmaparkerandco')#17841401610104138, 17841407517779759\n",
    "print(test)\n",
    "print(time.time() - s_time)"
   ]
  },
  {
   "cell_type": "code",
   "execution_count": 53,
   "metadata": {},
   "outputs": [
    {
     "data": {
      "text/plain": [
       "330"
      ]
     },
     "execution_count": 53,
     "metadata": {},
     "output_type": "execute_result"
    }
   ],
   "source": [
    "test['media_count']"
   ]
  },
  {
   "cell_type": "code",
   "execution_count": 242,
   "metadata": {},
   "outputs": [
    {
     "data": {
      "text/plain": [
       "<cassandra.cluster.Session at 0x7f27cebb7128>"
      ]
     },
     "execution_count": 242,
     "metadata": {},
     "output_type": "execute_result"
    }
   ],
   "source": [
    "_session"
   ]
  },
  {
   "cell_type": "code",
   "execution_count": 259,
   "metadata": {},
   "outputs": [
    {
     "name": "stdout",
     "output_type": "stream",
     "text": [
      "update Person set last_name= 'Anh updated', first_name = 'Lesdfa' where id=81833564-a5bd-11e8-a36c-67d94cf8123f and user_name ='anhlbt' if exists\n"
     ]
    },
    {
     "data": {
      "text/plain": [
       "<cassandra.cluster.ResultSet at 0x7f27cebf9908>"
      ]
     },
     "execution_count": 259,
     "metadata": {},
     "output_type": "execute_result"
    }
   ],
   "source": [
    "# ['id', 'biography', 'followers_count', 'media_count', 'name', 'username', 'profile_picture_url', 'comments_count', 'likes_count']\n",
    "\n",
    "\n",
    "first_name = 'Anh updated'\n",
    "last_name = 'Lesdfa'\n",
    "table = 'Person'\n",
    "# _session.execute(\"update Person set last_name=%s, first_name =%s where id=b9595ecc-a51e-11e8-aff2-c1049a4e205f if exists\", (last_name,first_name))\n",
    "# insert_string = \"insert into Person (id, first_name, last_name) values (uuid_from_time(time.time()), 'Anh', 'le')\"\n",
    "\n",
    "update_string = \"update Person set last_name= '%s', first_name = '%s' where id=81833564-a5bd-11e8-a36c-67d94cf8123f and user_name ='anhlbt' if exists\"%(first_name, last_name)\n",
    "print(update_string)\n",
    "_session.execute(update_string)\n",
    "\n"
   ]
  },
  {
   "cell_type": "code",
   "execution_count": 14,
   "metadata": {},
   "outputs": [
    {
     "data": {
      "text/plain": [
       "\"INSERT INTO aify_recommend.watch_list (user_id, newest_num_post, viewed_time, watch_user_list) VALUES('emmaparkerandco', 0, '2018-08-22 10:47:11.309934', ?);\""
      ]
     },
     "execution_count": 14,
     "metadata": {},
     "output_type": "execute_result"
    }
   ],
   "source": [
    "insert_string"
   ]
  },
  {
   "cell_type": "code",
   "execution_count": 133,
   "metadata": {},
   "outputs": [
    {
     "data": {
      "text/plain": [
       "datetime.datetime(2018, 8, 22, 3, 34, 6, 812638)"
      ]
     },
     "execution_count": 133,
     "metadata": {},
     "output_type": "execute_result"
    }
   ],
   "source": [
    "from datetime import datetime\n",
    "datetime.utcnow()"
   ]
  },
  {
   "cell_type": "code",
   "execution_count": 107,
   "metadata": {},
   "outputs": [],
   "source": [
    "id1 = uuid_from_time(time.time())\n",
    "id2 = uuid_from_time(time.time())"
   ]
  },
  {
   "cell_type": "code",
   "execution_count": 108,
   "metadata": {},
   "outputs": [],
   "source": [
    "from cassandra.util import datetime_from_uuid1, unix_time_from_uuid1"
   ]
  },
  {
   "cell_type": "code",
   "execution_count": 110,
   "metadata": {},
   "outputs": [
    {
     "name": "stdout",
     "output_type": "stream",
     "text": [
      "1534845616.599598\n",
      "1534845616.599598\n"
     ]
    }
   ],
   "source": [
    "print(unix_time_from_uuid1(id1))\n",
    "print(unix_time_from_uuid1(id2))"
   ]
  },
  {
   "cell_type": "code",
   "execution_count": 104,
   "metadata": {},
   "outputs": [
    {
     "ename": "AttributeError",
     "evalue": "module 'cassandra.util' has no attribute 'toUnixTimestamp'",
     "output_type": "error",
     "traceback": [
      "\u001b[1;31m---------------------------------------------------------------------------\u001b[0m",
      "\u001b[1;31mAttributeError\u001b[0m                            Traceback (most recent call last)",
      "\u001b[1;32m<ipython-input-104-4f263f26d359>\u001b[0m in \u001b[0;36m<module>\u001b[1;34m()\u001b[0m\n\u001b[1;32m----> 1\u001b[1;33m \u001b[0mcassandra\u001b[0m\u001b[1;33m.\u001b[0m\u001b[0mutil\u001b[0m\u001b[1;33m.\u001b[0m\u001b[0mtoUnixTimestamp\u001b[0m\u001b[1;33m(\u001b[0m\u001b[0mtimeuuid\u001b[0m\u001b[1;33m)\u001b[0m\u001b[1;33m\u001b[0m\u001b[0m\n\u001b[0m",
      "\u001b[1;31mAttributeError\u001b[0m: module 'cassandra.util' has no attribute 'toUnixTimestamp'"
     ]
    }
   ],
   "source": [
    "toUnixTimestamp(timeuuid)"
   ]
  },
  {
   "cell_type": "code",
   "execution_count": null,
   "metadata": {},
   "outputs": [],
   "source": []
  }
 ],
 "metadata": {
  "kernelspec": {
   "display_name": "Python [conda env:py36]",
   "language": "python",
   "name": "conda-env-py36-py"
  },
  "language_info": {
   "codemirror_mode": {
    "name": "ipython",
    "version": 3
   },
   "file_extension": ".py",
   "mimetype": "text/x-python",
   "name": "python",
   "nbconvert_exporter": "python",
   "pygments_lexer": "ipython3",
   "version": "3.6.6"
  },
  "widgets": {
   "state": {},
   "version": "1.1.2"
  }
 },
 "nbformat": 4,
 "nbformat_minor": 2
}
