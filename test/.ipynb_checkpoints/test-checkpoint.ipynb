{
 "cells": [
  {
   "cell_type": "code",
   "execution_count": 2,
   "metadata": {},
   "outputs": [],
   "source": [
    "import sys\n",
    "sys.path.insert(0,'/home/anh_lbt/atvn/sw_follou/recommender_api/')\n",
    "import time\n",
    "\n",
    "import pandas as pd\n"
   ]
  },
  {
   "cell_type": "code",
   "execution_count": 3,
   "metadata": {},
   "outputs": [
    {
     "name": "stdout",
     "output_type": "stream",
     "text": [
      "/home/anh_lbt/atvn/sw_follou/recommender_api/test\n"
     ]
    }
   ],
   "source": [
    "import os\n",
    "print(os.getcwd())"
   ]
  },
  {
   "cell_type": "code",
   "execution_count": 4,
   "metadata": {},
   "outputs": [
    {
     "name": "stdout",
     "output_type": "stream",
     "text": [
      "/home/anh_lbt/atvn/sw_follou/recommender_api/test\n",
      "tuple indices must be integers or slices, not str\n",
      "False\n"
     ]
    }
   ],
   "source": [
    "import sys\n",
    "\n",
    "from utils import recommend_utils, constants\n",
    "from database import models\n",
    "from datetime import datetime\n",
    "import time\n",
    "from database import db_cassandra\n",
    "from cassandra.query import dict_factory\n",
    "from FacebookCrawler import facebook_graph_api\n",
    "from cassandra.cqlengine import columns, connection\n",
    "\n",
    "class watch_list():\n",
    "    def __init__(self):\n",
    "        # #get session\n",
    "        \n",
    "        self.fb_graph = facebook_graph_api.FacebookGraphApi('../FacebookCrawler/instagram_token.csv')\n",
    "        (self.fb_graph.access_token,self.fb_graph.user_id) = constants.TOKENS[4]\n",
    "        self.db = db_cassandra.db_cassandra(contact_points = ['172.33.47.10'], factory = dict_factory)\n",
    "        connection.set_session(self.db.session)\n",
    "\n",
    "\n",
    "    def get_wl_by_user_id(self, user_id):\n",
    "        try:\n",
    "            query_string=\"select * from aify_db.watch_list where user_id = '%s'\"%user_id\n",
    "            re = self.db.session.execute(query_string)\n",
    "            list_dict_ = recommend_utils.map_to_dict_factory_1(re.current_rows)#data get from db, list have only one item\n",
    "        #     list_dict_ = re.current_rows\n",
    "            a = recommend_utils.convert_info_objects_to_json(list_dict_[0])\n",
    "            return list_dict_[0], a\n",
    "        except Exception as ex:\n",
    "            return None\n",
    "\n",
    "    def wl_add(self,user_id, ig_id):\n",
    "        try:\n",
    "            wl_item = self.fb_graph.get_business_info(username = ig_id)\n",
    "            wl_item['new_post'] = 0\n",
    "            wl = self.get_wl_by_user_id(user_id)\n",
    "            if wl is None:\n",
    "                wl = models.WatchList(user_id = user_id, watch_user_list = {ig_id:models.type_business_info(**wl_item)}, viewed_time = datetime.utcnow(),updated_time = datetime.utcnow())\n",
    "                wl.save()\n",
    "            else:\n",
    "                if wl['watch_user_list'] is None:\n",
    "                    models.WatchList.objects(user_id = user_id).update(watch_user_list= {ig_id:models.type_business_info(**wl_item)})\n",
    "                else:   \n",
    "                    if ig_id in wl['watch_user_list']:\n",
    "                        print(\"user %s already in watch list\"%ig_id)\n",
    "                        return False\n",
    "                    else:\n",
    "                        wl['watch_user_list'][ig_id] = models.type_business_info(**wl_item)     \n",
    "                        models.WatchList.objects(user_id = user_id).update(watch_user_list= wl['watch_user_list'])\n",
    "            return True\n",
    "            \n",
    "        except Exception as ex:\n",
    "            print(ex)\n",
    "            return False\n",
    "\n",
    "    def wl_remove(self,user_id, ig_id):\n",
    "        try:\n",
    "            wl = self.get_wl_by_user_id(user_id)\n",
    "            if wl is None:\n",
    "                return False\n",
    "            elif wl['watch_user_list'] is not None and ig_id in wl['watch_user_list']:\n",
    "                #print('remove %s '%ig_id)\n",
    "                del wl['watch_user_list'][ig_id]\n",
    "                models.WatchList.objects(user_id = user_id).update(watch_user_list= None)\n",
    "                models.WatchList.objects(user_id = user_id).update(watch_user_list= wl['watch_user_list'])\n",
    "                return True\n",
    "            else:\n",
    "                print('no see %s in database'%ig_id)\n",
    "                return False\n",
    "        except Exception as ex:\n",
    "            print(ex)\n",
    "            return False    \n",
    "        \n",
    "        \n",
    "\n",
    "    def wl_update_new_post(self,user_id):\n",
    "    #     list_infos = []\n",
    "        try:\n",
    "            wl = self.get_wl_by_user_id(user_id)\n",
    "            if wl is None:\n",
    "                return False\n",
    "            elif wl['watch_user_list'] is not None:\n",
    "                for k, username in enumerate(wl['watch_user_list']):\n",
    "            #     for k, v in list_dict_[0]['watch_user_list'].items(): # iter dictionary\n",
    "                    print(username)\n",
    "                    request_data = self.fb_graph.get_business_info(username = username)\n",
    "        #             list_infos.append(request_data)\n",
    "                    #\n",
    "                    num_new_post = request_data['media_count'] - int(wl['watch_user_list'][username].media_count)\n",
    "                    request_data['new_post'] = num_new_post\n",
    "                    if num_new_post != 0:\n",
    "                        #update db\n",
    "                        wl['watch_user_list'][username] = models.type_business_info(**request_data) #update item in watch list user\n",
    "                        print('you have %s new post'%num_new_post)\n",
    "                        return True\n",
    "                    else:\n",
    "                        print('no changes')\n",
    "                        return False\n",
    "            else:\n",
    "                print('no have any user in watch list, please add first...')\n",
    "                return False\n",
    "                    \n",
    "            models.WatchList.objects(user_id = user_id).update(watch_user_list= wl['watch_user_list'])      \n",
    "\n",
    "        except Exception as ex:\n",
    "            print(ex)\n",
    "            \n",
    "    # watch_list.objects(user_id = 'anhlbt').update(watch_user_list= {'natje_9999': a2, 'emmaparkerandco': a2})   \n",
    "\n",
    "    # update_string = \"update watch_list set watch_user_list= {'natje_9999': 'a2', 'emmaparkerandco': 'a1'} where user_id = 'anhlbt' if exists\"\n",
    "    # _session.execute(update_string)\n",
    "\n",
    "    # wl = watch_list(user_id = 'anhlbt3',watch_user_list= a['watch_user_list'], viewed_time = datetime.utcnow(),updated_time = datetime.utcnow())\n",
    "    # wl.save()\n",
    "\n",
    "\n",
    "if __name__ == '__main__':\n",
    "    wl_inst = watch_list()\n",
    "    a = wl_inst.wl_add(user_id='anhlbt', ig_id='natje_9999')\n",
    "    print(a)\n",
    "    "
   ]
  },
  {
   "cell_type": "code",
   "execution_count": 5,
   "metadata": {},
   "outputs": [
    {
     "ename": "NameError",
     "evalue": "name 'list_dict_' is not defined",
     "output_type": "error",
     "traceback": [
      "\u001b[0;31m--------------------------------------------------------------------\u001b[0m",
      "\u001b[0;31mNameError\u001b[0m                          Traceback (most recent call last)",
      "\u001b[0;32m<ipython-input-5-ca89253eb3bf>\u001b[0m in \u001b[0;36m<module>\u001b[0;34m()\u001b[0m\n\u001b[0;32m----> 1\u001b[0;31m \u001b[0mlist_dict_\u001b[0m\u001b[0;34m[\u001b[0m\u001b[0;36m0\u001b[0m\u001b[0;34m]\u001b[0m\u001b[0;34m\u001b[0m\u001b[0m\n\u001b[0m",
      "\u001b[0;31mNameError\u001b[0m: name 'list_dict_' is not defined"
     ]
    }
   ],
   "source": [
    "list_dict_[0]"
   ]
  },
  {
   "cell_type": "code",
   "execution_count": 6,
   "metadata": {},
   "outputs": [],
   "source": [
    "user_id = 'anhlbt'\n",
    "query_string=\"select * from aify_db.watch_list where user_id = '%s'\"%user_id\n",
    "re = wl_inst.db.session.execute(query_string)\n",
    "list_dict_ = recommend_utils.map_to_dict_factory_1(re.current_rows)#data get from db, list have only one item\n",
    "#     list_dict_ = re.current_rows\n",
    "# a = recommend_utils.convert_info_objects_to_json(list_dict_[0])\n"
   ]
  },
  {
   "cell_type": "code",
   "execution_count": 7,
   "metadata": {},
   "outputs": [],
   "source": [
    "tmp_dict = {}\n",
    "for k, v in list_dict_[0]['watch_user_list'].items():\n",
    "    tmp_dict[k] = dict(**v)"
   ]
  },
  {
   "cell_type": "code",
   "execution_count": 8,
   "metadata": {},
   "outputs": [
    {
     "data": {
      "text/plain": [
       "{'natje_9999': {'id': '17841401660142798',\n",
       "  'website': 'https://lnk.bio/PKul',\n",
       "  'media_count': 813,\n",
       "  'followers_count': 1635,\n",
       "  'name': 'Nathalie Madsen',\n",
       "  'username': 'natje_9999',\n",
       "  'profile_picture_url': 'https://scontent.xx.fbcdn.net/v/t51.2885-15/33933220_493197567763039_6170514771826180096_n.jpg?_nc_cat=111&_nc_ht=scontent.xx&oh=41cebec917c003d1cab4bd2d362f7667&oe=5C409673',\n",
       "  'new_post': 0,\n",
       "  'acc_type': 2},\n",
       " 'vnbeachhotel': {'id': '17841407517779759',\n",
       "  'website': 'https://www.facebook.com/VNBeachhotel-186007725359957',\n",
       "  'media_count': 65,\n",
       "  'followers_count': 221,\n",
       "  'name': None,\n",
       "  'username': 'vnbeachhotel',\n",
       "  'profile_picture_url': 'https://scontent.xx.fbcdn.net/v/t51.2885-15/30593611_597162827301678_7047393617308024832_n.jpg?_nc_cat=109&_nc_ht=scontent.xx&oh=79c04048c423ddf2c087f7f7d0e06bb1&oe=5C7E78EF',\n",
       "  'new_post': 0,\n",
       "  'acc_type': 3}}"
      ]
     },
     "execution_count": 8,
     "metadata": {},
     "output_type": "execute_result"
    }
   ],
   "source": [
    "tmp_dict"
   ]
  },
  {
   "cell_type": "code",
   "execution_count": 9,
   "metadata": {},
   "outputs": [
    {
     "data": {
      "text/plain": [
       "{'_values': {'id': <cassandra.cqlengine.columns.BaseValueManager at 0x7fd95c390eb8>,\n",
       "  'website': <cassandra.cqlengine.columns.BaseValueManager at 0x7fd95c390e80>,\n",
       "  'media_count': <cassandra.cqlengine.columns.BaseValueManager at 0x7fd8c33f05c0>,\n",
       "  'followers_count': <cassandra.cqlengine.columns.BaseValueManager at 0x7fd8c33f0630>,\n",
       "  'name': <cassandra.cqlengine.columns.BaseValueManager at 0x7fd8c33f0668>,\n",
       "  'username': <cassandra.cqlengine.columns.BaseValueManager at 0x7fd8c33f06d8>,\n",
       "  'profile_picture_url': <cassandra.cqlengine.columns.BaseValueManager at 0x7fd8c33f06a0>,\n",
       "  'new_post': <cassandra.cqlengine.columns.BaseValueManager at 0x7fd8c33f05f8>,\n",
       "  'acc_type': <cassandra.cqlengine.columns.BaseValueManager at 0x7fd8c33f0160>}}"
      ]
     },
     "execution_count": 9,
     "metadata": {},
     "output_type": "execute_result"
    }
   ],
   "source": []
  },
  {
   "cell_type": "code",
   "execution_count": 5,
   "metadata": {},
   "outputs": [
    {
     "data": {
      "text/plain": [
       "{'natje_9999': {'id': '17841401660142798',\n",
       "  'website': 'https://lnk.bio/PKul',\n",
       "  'media_count': 813,\n",
       "  'followers_count': 1635,\n",
       "  'name': 'Nathalie Madsen',\n",
       "  'username': 'natje_9999',\n",
       "  'profile_picture_url': 'https://scontent.xx.fbcdn.net/v/t51.2885-15/33933220_493197567763039_6170514771826180096_n.jpg?_nc_cat=111&_nc_ht=scontent.xx&oh=41cebec917c003d1cab4bd2d362f7667&oe=5C409673',\n",
       "  'new_post': 0,\n",
       "  'acc_type': 2},\n",
       " 'vnbeachhotel': {'id': '17841407517779759',\n",
       "  'website': 'https://www.facebook.com/VNBeachhotel-186007725359957',\n",
       "  'media_count': 65,\n",
       "  'followers_count': 221,\n",
       "  'name': None,\n",
       "  'username': 'vnbeachhotel',\n",
       "  'profile_picture_url': 'https://scontent.xx.fbcdn.net/v/t51.2885-15/30593611_597162827301678_7047393617308024832_n.jpg?_nc_cat=109&_nc_ht=scontent.xx&oh=79c04048c423ddf2c087f7f7d0e06bb1&oe=5C7E78EF',\n",
       "  'new_post': 0,\n",
       "  'acc_type': 3}}"
      ]
     },
     "execution_count": 5,
     "metadata": {},
     "output_type": "execute_result"
    }
   ],
   "source": [
    "a"
   ]
  },
  {
   "cell_type": "code",
   "execution_count": 12,
   "metadata": {},
   "outputs": [
    {
     "data": {
      "text/plain": [
       "dict"
      ]
     },
     "execution_count": 12,
     "metadata": {},
     "output_type": "execute_result"
    }
   ],
   "source": [
    "type(re.current_rows[0]['watch_user_list']['natje_9999'])"
   ]
  },
  {
   "cell_type": "code",
   "execution_count": 22,
   "metadata": {},
   "outputs": [],
   "source": [
    "\n",
    "def convert_info_objects_to_json(info_object):\n",
    "    tmp_dict = info_object['watch_user_list']\n",
    "    for k, v in tmp_dict.items():\n",
    "        # print(k)\n",
    "        tmp_dict[k] = dict(v)\n",
    "    return tmp_dict#info_object    "
   ]
  },
  {
   "cell_type": "code",
   "execution_count": 3,
   "metadata": {},
   "outputs": [
    {
     "ename": "NameError",
     "evalue": "name 'convert_info_objects_to_json' is not defined",
     "output_type": "error",
     "traceback": [
      "\u001b[0;31m--------------------------------------------------------------------\u001b[0m",
      "\u001b[0;31mNameError\u001b[0m                          Traceback (most recent call last)",
      "\u001b[0;32m<ipython-input-3-7aa8d388b38d>\u001b[0m in \u001b[0;36m<module>\u001b[0;34m()\u001b[0m\n\u001b[0;32m----> 1\u001b[0;31m \u001b[0mconvert_info_objects_to_json\u001b[0m\u001b[0;34m(\u001b[0m\u001b[0mlist_dict_\u001b[0m\u001b[0;34m[\u001b[0m\u001b[0;36m0\u001b[0m\u001b[0;34m]\u001b[0m\u001b[0;34m)\u001b[0m\u001b[0;34m\u001b[0m\u001b[0m\n\u001b[0m",
      "\u001b[0;31mNameError\u001b[0m: name 'convert_info_objects_to_json' is not defined"
     ]
    }
   ],
   "source": [
    "convert_info_objects_to_json(list_dict_[0])"
   ]
  },
  {
   "cell_type": "code",
   "execution_count": 65,
   "metadata": {},
   "outputs": [
    {
     "data": {
      "text/plain": [
       "True"
      ]
     },
     "execution_count": 65,
     "metadata": {},
     "output_type": "execute_result"
    }
   ],
   "source": [
    "wl_inst.wl_remove(user_id = 'anhlbt', ig_id='natje_9999')"
   ]
  },
  {
   "cell_type": "code",
   "execution_count": 4,
   "metadata": {},
   "outputs": [],
   "source": [
    "a, b = wl_inst.get_wl_by_user_id(user_id='anhlbt')"
   ]
  },
  {
   "cell_type": "code",
   "execution_count": 6,
   "metadata": {},
   "outputs": [
    {
     "data": {
      "text/plain": [
       "{'user_id': 'anhlbt',\n",
       " 'updated_time': datetime.datetime(2018, 10, 30, 11, 54, 30, 27000),\n",
       " 'viewed_time': datetime.datetime(2018, 10, 30, 11, 54, 30, 27000),\n",
       " 'watch_user_list': {'natje_9999': {'id': '17841401660142798',\n",
       "   'website': 'https://lnk.bio/PKul',\n",
       "   'media_count': 813,\n",
       "   'followers_count': 1635,\n",
       "   'name': 'Nathalie Madsen',\n",
       "   'username': 'natje_9999',\n",
       "   'profile_picture_url': 'https://scontent.xx.fbcdn.net/v/t51.2885-15/33933220_493197567763039_6170514771826180096_n.jpg?_nc_cat=111&_nc_ht=scontent.xx&oh=41cebec917c003d1cab4bd2d362f7667&oe=5C409673',\n",
       "   'new_post': 0,\n",
       "   'acc_type': 2}}}"
      ]
     },
     "execution_count": 6,
     "metadata": {},
     "output_type": "execute_result"
    }
   ],
   "source": [
    "a"
   ]
  },
  {
   "cell_type": "code",
   "execution_count": 119,
   "metadata": {},
   "outputs": [
    {
     "data": {
      "text/plain": [
       "True"
      ]
     },
     "execution_count": 119,
     "metadata": {},
     "output_type": "execute_result"
    }
   ],
   "source": [
    "wl_inst.wl_add(user_id='anhlbt', ig_id='emmaparkerandco')"
   ]
  },
  {
   "cell_type": "code",
   "execution_count": 63,
   "metadata": {},
   "outputs": [
    {
     "name": "stdout",
     "output_type": "stream",
     "text": [
      "natje_9999\n",
      "no changes\n"
     ]
    },
    {
     "data": {
      "text/plain": [
       "False"
      ]
     },
     "execution_count": 63,
     "metadata": {},
     "output_type": "execute_result"
    }
   ],
   "source": [
    "wl_inst.wl_update_new_post(user_id='anhlbt')"
   ]
  },
  {
   "cell_type": "code",
   "execution_count": 121,
   "metadata": {},
   "outputs": [],
   "source": [
    "def convert_info_objects_to_json(info_object):\n",
    "    tmp_dict = info_object['watch_user_list']\n",
    "    for k, v in tmp_dict.items():\n",
    "        print(k)\n",
    "        tmp_dict[k] = dict(tmp_dict[k])\n",
    "    return info_object"
   ]
  },
  {
   "cell_type": "code",
   "execution_count": 123,
   "metadata": {},
   "outputs": [
    {
     "name": "stdout",
     "output_type": "stream",
     "text": [
      "emmaparkerandco\n",
      "natje_9999\n"
     ]
    }
   ],
   "source": [
    "b = convert_info_objects_to_json(a)"
   ]
  },
  {
   "cell_type": "code",
   "execution_count": 124,
   "metadata": {},
   "outputs": [
    {
     "data": {
      "text/plain": [
       "{'user_id': 'anhlbt',\n",
       " 'updated_time': datetime.datetime(2018, 8, 24, 7, 6, 46, 555000),\n",
       " 'viewed_time': datetime.datetime(2018, 8, 24, 7, 6, 46, 555000),\n",
       " 'watch_user_list': {'emmaparkerandco': {'id': '17841401690883742',\n",
       "   'website': 'https://www.emmaparkerdiamonds.com/',\n",
       "   'media_count': 330,\n",
       "   'followers_count': 647,\n",
       "   'name': 'Emma Parker & Co.',\n",
       "   'username': 'emmaparkerandco',\n",
       "   'profile_picture_url': 'https://scontent.xx.fbcdn.net/v/t51.2885-15/12393747_142605859440768_1709991462_a.jpg?_nc_cat=0&oh=8b7b47ecf00a2e0e865d2c0d06993e63&oe=5BF30F51',\n",
       "   'new_post': 0},\n",
       "  'natje_9999': {'id': '17841401660142798',\n",
       "   'website': 'https://bit.ly/2v0yJDU',\n",
       "   'media_count': 805,\n",
       "   'followers_count': 1696,\n",
       "   'name': 'Nathalie Madsen',\n",
       "   'username': 'natje_9999',\n",
       "   'profile_picture_url': 'https://scontent.xx.fbcdn.net/v/t51.2885-15/33933220_493197567763039_6170514771826180096_n.jpg?_nc_cat=0&oh=4d09397c07c3f0d0667f8688d02a4e65&oe=5BF17C73',\n",
       "   'new_post': 0}}}"
      ]
     },
     "execution_count": 124,
     "metadata": {},
     "output_type": "execute_result"
    }
   ],
   "source": [
    "b"
   ]
  },
  {
   "cell_type": "code",
   "execution_count": null,
   "metadata": {},
   "outputs": [],
   "source": []
  },
  {
   "cell_type": "code",
   "execution_count": 126,
   "metadata": {},
   "outputs": [],
   "source": [
    "token = 'EAACLXTuiZBKkBADGr4Q1MQ5jE3ZApPF7UDkZCYZBuaJK7X8dykZCuArdfB2dHkN3mJwwPqtV29riyQGUtcfZAwgs29axZAX20aJVp9h76NlNn9rnWJHlcWRBSSsfAFDWKY3c4pBYTvLdkaous8rhAiGIzrPzV4d6reNBOwnZAhfYpAZDZD'"
   ]
  },
  {
   "cell_type": "code",
   "execution_count": null,
   "metadata": {},
   "outputs": [],
   "source": [
    "url = '17946768844091976/insights?metric=impressions,reach,engagement,saved'\n",
    "# 17946768844091976: media_id"
   ]
  },
  {
   "cell_type": "code",
   "execution_count": 1,
   "metadata": {},
   "outputs": [
    {
     "name": "stdout",
     "output_type": "stream",
     "text": [
      "running....\n"
     ]
    },
    {
     "ename": "NameError",
     "evalue": "name '__file__' is not defined",
     "output_type": "error",
     "traceback": [
      "\u001b[0;31m--------------------------------------------------------------------\u001b[0m",
      "\u001b[0;31mNameError\u001b[0m                          Traceback (most recent call last)",
      "\u001b[0;32m<ipython-input-1-d5abf48a744f>\u001b[0m in \u001b[0;36m<module>\u001b[0;34m()\u001b[0m\n\u001b[1;32m    204\u001b[0m     \u001b[0mprint\u001b[0m\u001b[0;34m(\u001b[0m\u001b[0;34m'running....'\u001b[0m\u001b[0;34m)\u001b[0m\u001b[0;34m\u001b[0m\u001b[0m\n\u001b[1;32m    205\u001b[0m     \u001b[0;31m# pdb.set_trace()\u001b[0m\u001b[0;34m\u001b[0m\u001b[0;34m\u001b[0m\u001b[0m\n\u001b[0;32m--> 206\u001b[0;31m     \u001b[0mwl_inst\u001b[0m \u001b[0;34m=\u001b[0m \u001b[0mwatch_list\u001b[0m\u001b[0;34m(\u001b[0m\u001b[0;34m)\u001b[0m\u001b[0;34m\u001b[0m\u001b[0m\n\u001b[0m\u001b[1;32m    207\u001b[0m     \u001b[0;31m# c = wl_inst.wl_remove(user_id='anhlbt', ig_id='natje_9999')#natje_9999   traveling__pari\u001b[0m\u001b[0;34m\u001b[0m\u001b[0;34m\u001b[0m\u001b[0m\n\u001b[1;32m    208\u001b[0m     \u001b[0;31m# print(c)\u001b[0m\u001b[0;34m\u001b[0m\u001b[0;34m\u001b[0m\u001b[0m\n",
      "\u001b[0;32m<ipython-input-1-d5abf48a744f>\u001b[0m in \u001b[0;36m__init__\u001b[0;34m(self)\u001b[0m\n\u001b[1;32m     19\u001b[0m         \u001b[0;31m# #get session\u001b[0m\u001b[0;34m\u001b[0m\u001b[0;34m\u001b[0m\u001b[0m\n\u001b[1;32m     20\u001b[0m         \u001b[0;31m# pdb.set_trace()\u001b[0m\u001b[0;34m\u001b[0m\u001b[0;34m\u001b[0m\u001b[0m\n\u001b[0;32m---> 21\u001b[0;31m         \u001b[0mtoken_path\u001b[0m \u001b[0;34m=\u001b[0m \u001b[0mjoin\u001b[0m\u001b[0;34m(\u001b[0m\u001b[0mdirname\u001b[0m\u001b[0;34m(\u001b[0m\u001b[0mdirname\u001b[0m\u001b[0;34m(\u001b[0m\u001b[0mos\u001b[0m\u001b[0;34m.\u001b[0m\u001b[0mpath\u001b[0m\u001b[0;34m.\u001b[0m\u001b[0mabspath\u001b[0m\u001b[0;34m(\u001b[0m\u001b[0m__file__\u001b[0m\u001b[0;34m)\u001b[0m\u001b[0;34m)\u001b[0m\u001b[0;34m)\u001b[0m\u001b[0;34m,\u001b[0m\u001b[0;34m'FacebookCrawler/'\u001b[0m\u001b[0;34m+\u001b[0m\u001b[0mconstants\u001b[0m\u001b[0;34m.\u001b[0m\u001b[0mINSTAGRAM_TOKEN_FILE\u001b[0m\u001b[0;34m)\u001b[0m\u001b[0;34m\u001b[0m\u001b[0m\n\u001b[0m\u001b[1;32m     22\u001b[0m         \u001b[0mprint\u001b[0m\u001b[0;34m(\u001b[0m\u001b[0mtoken_path\u001b[0m\u001b[0;34m)\u001b[0m\u001b[0;34m\u001b[0m\u001b[0m\n\u001b[1;32m     23\u001b[0m         \u001b[0mself\u001b[0m\u001b[0;34m.\u001b[0m\u001b[0mfb_graph\u001b[0m \u001b[0;34m=\u001b[0m \u001b[0mfacebook_graph_api\u001b[0m\u001b[0;34m.\u001b[0m\u001b[0mFacebookGraphApi\u001b[0m\u001b[0;34m(\u001b[0m\u001b[0mtoken_path\u001b[0m\u001b[0;34m)\u001b[0m\u001b[0;34m\u001b[0m\u001b[0m\n",
      "\u001b[0;31mNameError\u001b[0m: name '__file__' is not defined"
     ]
    }
   ],
   "source": [
    "import sys\n",
    "sys.path.insert(0, \"./../../recommender_api\")\n",
    "from utils import recommend_utils, constants\n",
    "from database import models, db_cassandra\n",
    "from datetime import datetime, timedelta\n",
    "import time, os\n",
    "from os.path import dirname, join\n",
    "from cassandra.query import dict_factory\n",
    "from FacebookCrawler import facebook_graph_api\n",
    "from cassandra.cqlengine import columns, connection\n",
    "import pdb, json\n",
    "import pandas as pd\n",
    "\n",
    "def pandas_factory(colnames, rows):\n",
    "    return pd.DataFrame(rows, columns=colnames)\n",
    "\n",
    "class watch_list():\n",
    "    def __init__(self):\n",
    "        # #get session\n",
    "        # pdb.set_trace()\n",
    "        token_path = join(dirname(dirname(os.path.abspath(__file__))),'FacebookCrawler/'+constants.INSTAGRAM_TOKEN_FILE)\n",
    "        print(token_path)\n",
    "        self.fb_graph = facebook_graph_api.FacebookGraphApi(token_path)\n",
    "        (self.fb_graph.access_token,self.fb_graph.user_id) = constants.TOKENS[4]\n",
    "        self.db = db_cassandra.db_cassandra(contact_points = constants.HOST_CASSANDRA_DB, factory = dict_factory)\n",
    "        print(constants.HOST_CASSANDRA_DB)\n",
    "        connection.set_session(self.db.session)\n",
    "\n",
    "\n",
    "    def wl_get(self, user_id, convert_to_json = True, acc_type =2):\n",
    "        result = {}\n",
    "        try:\n",
    "            # t1 = time.time()\n",
    "            query_string=\"select * from watch_list where user_id = '%s'\"%user_id\n",
    "            re = self.db.session.execute(query_string)\n",
    "            list_dict_ = recommend_utils.map_to_dict_factory_1(re.current_rows)#data get from db, list have only one item\n",
    "        #     list_dict_ = re.current_rows\n",
    "            \n",
    "            if len(list_dict_) > 0 :\n",
    "                if list_dict_[0]['watch_user_list'] is None:\n",
    "                    result['status'] = 'True'\n",
    "                    result['data'] = None\n",
    "                else:    \n",
    "                    result['status'] = 'True'\n",
    "                    if convert_to_json:\n",
    "                        # pdb.set_trace()\n",
    "                        result['data'] = recommend_utils.convert_info_objects_to_json(list_dict_[0])\n",
    "                        if acc_type in [1, 2, 3, 4]:\n",
    "                            # result['data'] = self.convert_info_objects_to_json(list_dict_[0])\n",
    "                            # if acc_type == 0 or acc_type == 1:\n",
    "                            result['daa']['watch_user_list'] = {k: v for k, v in result['data']['watch_user_list'].items() if v['acc_type']==acc_type}\n",
    "                    else:    \n",
    "                        result['data'] = list_dict_[0]\n",
    "                    # result['data'] = self.convert_info_objects_to_json(list_dict_[0])\n",
    "            else:\n",
    "                result['status'] = 'True'\n",
    "                \n",
    "                result['data'] = None\n",
    "        except Exception as ex:\n",
    "            result['status'] = 'False'\n",
    "            result['message'] = ex\n",
    "        return result\n",
    "\n",
    "    def wl_add(self,user_id, ig_id, acc_type = 2):\n",
    "        result = {}\n",
    "        # pdb.set_trace()\n",
    "        try:\n",
    "            wl_item = self.fb_graph.get_business_info(username = ig_id)\n",
    "            if 'error' in wl_item:\n",
    "                result['status'] = 'False'\n",
    "                result['message'] = \"Can't get data from user %s: \"%ig_id\n",
    "                return result\n",
    "            wl_item['new_post'] = 0#wl_item['media_count']#\n",
    "            wl_item['acc_type'] = acc_type#acc_type: # 0: influencer, 1: branch, 2: all\n",
    "            wl = self.wl_get(user_id, False)\n",
    "            if wl['status'] == 'True':\n",
    "                wl = wl['data']\n",
    "                if wl is None:\n",
    "                    wl = models.WatchList(user_id = user_id, watch_user_list = {ig_id:models.type_business_info(**wl_item)}, viewed_time = datetime.utcnow(),updated_time = datetime.utcnow())\n",
    "                    wl.save()\n",
    "                    result['status'] = 'True'\n",
    "                    result['data'] = wl_item # try catch here\n",
    "\n",
    "                else:\n",
    "                    if wl['watch_user_list'] is None:\n",
    "                        models.WatchList.objects(user_id = user_id).update(watch_user_list= {ig_id:models.type_business_info(**wl_item)})\n",
    "                        result['status'] = 'True'\n",
    "                        result['data'] = wl_item\n",
    "                    else:   \n",
    "                        if ig_id in wl['watch_user_list']:\n",
    "                            result['status'] = 'False'\n",
    "                            result['data']= \"user %s already in watch list\"%ig_id\n",
    "                        else:\n",
    "                            wl['watch_user_list'][ig_id] = models.type_business_info(**wl_item)     \n",
    "                            models.WatchList.objects(user_id = user_id).update(watch_user_list= wl['watch_user_list'])\n",
    "                            result['status'] = 'True'\n",
    "                            result['data'] = wl_item\n",
    "            else:\n",
    "                 result['status'] = 'False' \n",
    "                 result['message'] = 'can not get data %s'% user_id        \n",
    "        except Exception as ex:\n",
    "            print(ex)\n",
    "            result['status'] = 'False'\n",
    "            result['message'] = ex\n",
    "        return result    \n",
    "\n",
    "    def wl_remove(self,user_id, ig_id):\n",
    "        result = {}\n",
    "        try:\n",
    "            wl = self.wl_get(user_id, False)\n",
    "            if wl['status'] == 'True':\n",
    "                wl = wl['data']\n",
    "                if wl is None:\n",
    "                    result['status'] = 'False'\n",
    "\n",
    "                elif wl['watch_user_list'] is not None and ig_id in wl['watch_user_list']:\n",
    "                    #print('remove %s '%ig_id)\n",
    "                    del wl['watch_user_list'][ig_id]\n",
    "                    models.WatchList.objects(user_id = user_id).update(watch_user_list= None)\n",
    "                    models.WatchList.objects(user_id = user_id).update(watch_user_list= wl['watch_user_list'])\n",
    "                    result['status'] = 'True'\n",
    "                else:\n",
    "                    print('no see %s in database'%ig_id)\n",
    "                    result['status'] = 'False'\n",
    "        except Exception as ex:\n",
    "            print(ex)\n",
    "            result['message'] = ex\n",
    "            result['status'] = 'False'\n",
    "        return result     \n",
    "        \n",
    "    def convert_info_objects_to_json(self,info_object):\n",
    "        tmp_dict = info_object['watch_user_list']\n",
    "        for k, v in tmp_dict.items():\n",
    "            # print(k)\n",
    "            tmp_dict[k] = dict(tmp_dict[k])\n",
    "        return tmp_dict#info_object\n",
    "\n",
    "\n",
    "    def wl_update_new_post(self,user_id, acc_type):\n",
    "        list_infos = []\n",
    "        result = {}\n",
    "        new_post = False\n",
    "        try:\n",
    "            wl = self.wl_get(user_id)\n",
    "            if wl['status'] == 'True':\n",
    "                wl = wl['data']\n",
    "                if wl is None:\n",
    "                    result['status'] = 'False'\n",
    "                elif wl['watch_user_list'] is not None and (datetime.now() - wl['updated_time']).total_seconds() > constants.TOTAL_SECONDS_TO_REFRESH_WATCH_LIST:\n",
    "                    # for k, username in enumerate(wl['watch_user_list']):\n",
    "                    for username, v in wl['watch_user_list'].items(): # iter dictionary    \n",
    "                        if v['acc_type'] == acc_type :\n",
    "\n",
    "                            request_data = self.fb_graph.get_business_info(username = username)\n",
    "                #             list_infos.append(request_data)\n",
    "                            #\n",
    "                            num_new_post = request_data['media_count'] - int(wl['watch_user_list'][username]['media_count'])\n",
    "                            request_data['new_post'] = num_new_post\n",
    "                            if num_new_post != 0:\n",
    "                                new_post = True\n",
    "                                list_infos.append(request_data)\n",
    "                                \n",
    "                                #update db\n",
    "                            wl['watch_user_list'][username] = models.type_business_info(**request_data) #update item in watch list user\n",
    "                        \n",
    "                    if new_post: \n",
    "                        models.WatchList.objects(user_id = user_id).update(updated_time= datetime.utcnow(), watch_user_list= wl['watch_user_list'])        \n",
    "                        result['status'] = 'True'\n",
    "                        # result['data'] = wl['watch_user_list']\n",
    "                        result['data'] = list_infos\n",
    "                    else:\n",
    "                        result['status'] = 'False'\n",
    "                        result['message'] = 'no new post'\n",
    "                else:\n",
    "                    result['message']='no have any user in watch list, please add first...'\n",
    "                    result['status'] = 'False'\n",
    "        except Exception as ex:\n",
    "            print(ex)\n",
    "            result['status'] = 'False'\n",
    "        return result    \n",
    "    # watch_list.objects(user_id = 'anhlbt').update(watch_user_list= {'natje_9999': a2, 'emmaparkerandco': a2})   \n",
    "\n",
    "    # update_string = \"update watch_list set watch_user_list= {'natje_9999': 'a2', 'emmaparkerandco': 'a1'} where user_id = 'anhlbt' if exists\"\n",
    "    # _session.execute(update_string)\n",
    "\n",
    "    # wl = watch_list(user_id = 'anhlbt3',watch_user_list= a['watch_user_list'], viewed_time = datetime.utcnow(),updated_time = datetime.utcnow())\n",
    "    # wl.save()\n",
    "\n",
    "    def get_user_insight_day_history(self, social_id, from_timestamp =datetime.timestamp(datetime.now() - timedelta(days=10)) , until_timestamp = datetime.timestamp(datetime.now())):\n",
    "        try:\n",
    "            self.db.session.row_factory = pandas_factory\n",
    "            rows = self.db.session.execute(\"select * from aify_db.user_insight_days_history where owner_id = %s\"%social_id)\n",
    "            df = rows._current_rows\n",
    "            df = df[(df['day']>= datetime.utcfromtimestamp(from_timestamp)) & (df['day']<= datetime.utcfromtimestamp(until_timestamp))]\n",
    "            df['owner_id']= df.loc[:,'owner_id'].apply(lambda x: str(x))\n",
    "            js = df.to_json(orient='index', force_ascii = True) #'index=False' is only valid when 'orient' is 'split' or 'table'\n",
    "            return json.loads(js), df\n",
    "        except Exception as ex:\n",
    "            print(ex)\n",
    "            recommend_utils.bug_info()\n",
    "            pass\n",
    "\n",
    "if __name__ == '__main__':\n",
    "    print('running....')\n",
    "    # pdb.set_trace()\n",
    "    wl_inst = watch_list()\n",
    "    # c = wl_inst.wl_remove(user_id='anhlbt', ig_id='natje_9999')#natje_9999   traveling__pari\n",
    "    # print(c)\n",
    "    # a = wl_inst.wl_add(user_id='anhlbta', ig_id='traveling__pari')\n",
    "    # print(a)\n",
    "    # b = wl_inst.wl_get(user_id = 'anhlbta')\n",
    "    # print(b)\n",
    "    # pdb.set_trace()\n",
    "    # d = wl_inst.wl_update_new_post(user_id = 'anhlbt')\n",
    "    # print(d)\n",
    "\n",
    "    # e = wl_inst.fb_graph.get_business_info(username = 'annieverywhere')\n",
    "    # print(e)\n",
    "\n",
    "    js, df = wl_inst.get_user_insight_day_history('9c88c600-ac5f-11e8-80f4-eb836fc406ca',1531686400)\n",
    "    print(js)\n",
    "    "
   ]
  },
  {
   "cell_type": "code",
   "execution_count": 1,
   "metadata": {},
   "outputs": [
    {
     "name": "stdout",
     "output_type": "stream",
     "text": [
      "<cyfunction dict_factory at 0x7f00a9be68e8>\n",
      "{'status': 'True', 'data': {'natje_9999': type_business_info(id='17841401660142798', website='https://lnk.bio/PKul', media_count=813, followers_count=1635, name='Nathalie Madsen', username='natje_9999', profile_picture_url='https://scontent.xx.fbcdn.net/v/t51.2885-15/33933220_493197567763039_6170514771826180096_n.jpg?_nc_cat=111&_nc_ht=scontent.xx&oh=41cebec917c003d1cab4bd2d362f7667&oe=5C409673', new_post=0, acc_type=2), 'vnbeachhotel': type_business_info(id='17841407517779759', website='https://www.facebook.com/VNBeachhotel-186007725359957', media_count=65, followers_count=221, name=None, username='vnbeachhotel', profile_picture_url='https://scontent.xx.fbcdn.net/v/t51.2885-15/30593611_597162827301678_7047393617308024832_n.jpg?_nc_cat=109&_nc_ht=scontent.xx&oh=79c04048c423ddf2c087f7f7d0e06bb1&oe=5C7E78EF', new_post=0, acc_type=3)}}\n"
     ]
    }
   ],
   "source": [
    "\"\"\"\n",
    "@author: anhlbt\n",
    "created: 08/07/2018\n",
    "\"\"\"\n",
    "import sys\n",
    "sys.path.insert(0, \"./../../recommender_api\")\n",
    "from sklearn.feature_extraction.text import TfidfVectorizer\n",
    "from sklearn.metrics.pairwise import cosine_similarity\n",
    "from nltk.stem import PorterStemmer\n",
    "from nltk.corpus import stopwords\n",
    "from nltk.tokenize import word_tokenize\n",
    "import json\n",
    "import pandas as pd\n",
    "import numpy as np\n",
    "import os\n",
    "from database import db_cassandra\n",
    "from utils import constants, recommend_utils\n",
    "import pdb\n",
    "import random, re\n",
    "from cassandra.query import dict_factory\n",
    "\n",
    "stemmer = PorterStemmer()\n",
    "\n",
    "def pandas_factory(colnames, rows):\n",
    "    return pd.DataFrame(rows, columns=colnames)\n",
    "\n",
    "class similar_influencer():\n",
    "    def __init__(self):\n",
    "        try:\n",
    "            self.db = db_cassandra.db_cassandra(contact_points = constants.HOST_CASSANDRA_DB,port_= constants.PORT_CASSANDRA_RS ,factory =dict_factory) # pandas_factory\n",
    "        except Exception as ex:\n",
    "            print(ex)\n",
    "    \n",
    "\n",
    "\n",
    "    # copy from watch list\n",
    "    def wl_get(self, user_id, convert_to_json = True, acc_type =2):\n",
    "        result = {}\n",
    "        try:\n",
    "            # t1 = time.time()\n",
    "            print(self.db.session.row_factory)\n",
    "            query_string=\"select * from %s.watch_list where user_id = '%s';\"%(constants.KEYSPACE_NAME, user_id)\n",
    "            re = self.db.session.execute(query_string)\n",
    "            # print(re)\n",
    "            list_dict_ = recommend_utils.map_to_dict_factory_1(re.current_rows)#data get from db, list have only one item\n",
    "        #     list_dict_ = re.current_rows\n",
    "            \n",
    "            if len(list_dict_) > 0 :\n",
    "                if list_dict_[0]['watch_user_list'] is None:\n",
    "                    result['status'] = 'True'\n",
    "                    result['data'] = None\n",
    "                else:    \n",
    "                    result['status'] = 'True'\n",
    "                    if convert_to_json:\n",
    "                        # pdb.set_trace()\n",
    "                        result['data'] = recommend_utils.convert_info_objects_to_json(list_dict_[0])\n",
    "                        if acc_type in [1, 2, 3, 4]:\n",
    "                            # result['data'] = self.convert_info_objects_to_json(list_dict_[0])\n",
    "                            # if acc_type == 0 or acc_type == 1:\n",
    "                            result['data']['watch_user_list'] = {k: v for k, v in result['data']['watch_user_list'].items() if v['acc_type']==acc_type}\n",
    "                    else:    \n",
    "                        result['data'] = list_dict_[0]\n",
    "                    # result['data'] = self.convert_info_objects_to_json(list_dict_[0])\n",
    "            else:\n",
    "                result['status'] = 'True'\n",
    "                \n",
    "                result['data'] = None\n",
    "        except Exception as ex:\n",
    "            result['status'] = 'False'\n",
    "            result['message'] = ex\n",
    "        return result        \n",
    "        \n",
    "\n",
    "\n",
    "\n",
    "\n",
    "if __name__==\"__main__\":\n",
    "\n",
    "    sim_inf2 = similar_influencer()\n",
    "    sim_inf2.db.session.row_factory = dict_factory\n",
    "    res_wl = sim_inf2.wl_get('anhlbt', convert_to_json = True, acc_type =0)\n",
    "    print(res_wl)\n",
    "\n",
    "\n",
    "\n"
   ]
  },
  {
   "cell_type": "code",
   "execution_count": null,
   "metadata": {},
   "outputs": [],
   "source": []
  },
  {
   "cell_type": "code",
   "execution_count": 1,
   "metadata": {},
   "outputs": [],
   "source": [
    "import logging\n",
    "from os.path import join, dirname, exists\n",
    "def get_logger(log_file = 'rs_log.log'):\n",
    "    try:\n",
    "        directory = join(dirname(os.getcwd()), 'logs')\n",
    "        file_path = join(directory, log_file)\n",
    "        if not exists(directory):\n",
    "            os.makedirs(directory)\n",
    "        if not os.path.isfile(file_path):\n",
    "            file = open(file_path, 'w+')\n",
    "            # file.close()\n",
    "        # if(os.access(file_path, os.W_OK)):\n",
    "        #         print(file_path + \" is writable.\") \n",
    "\n",
    "        logging.basicConfig(filename=file_path, level=logging.INFO,\n",
    "        format = '[%(filename)s:%(lineno)s - %(funcName)s %(asctime)s;%(levelname)s] %(message)s',\n",
    "        datefmt = '%a, %d %b %Y %H:%M:%S'\n",
    "        )\n",
    "        loggers = logging.getLogger('rs_log')\n",
    "        return loggers\n",
    "    except Exception as ex:\n",
    "        print(ex)   "
   ]
  },
  {
   "cell_type": "code",
   "execution_count": 13,
   "metadata": {},
   "outputs": [],
   "source": [
    "loggers = get_logger()"
   ]
  },
  {
   "cell_type": "code",
   "execution_count": 18,
   "metadata": {},
   "outputs": [],
   "source": [
    "loggers.info('log test from notebook')"
   ]
  },
  {
   "cell_type": "code",
   "execution_count": 4,
   "metadata": {},
   "outputs": [],
   "source": [
    "logging.basicConfig(filename= 'log.log', level=logging.INFO,\n",
    "        format = '[%(filename)s:%(lineno)s - %(funcName)s %(asctime)s;%(levelname)s] %(message)s',\n",
    "        datefmt = '%a, %d %b %Y %H:%M:%S'\n",
    "        )\n",
    "loggers = logging.getLogger('rs_log')"
   ]
  },
  {
   "cell_type": "code",
   "execution_count": 6,
   "metadata": {},
   "outputs": [],
   "source": [
    "loggers.info(\"test\")"
   ]
  },
  {
   "cell_type": "code",
   "execution_count": 16,
   "metadata": {},
   "outputs": [],
   "source": [
    "def log():\n",
    " \n",
    "    # Create the Logger\n",
    "    logger = logging.getLogger(__name__)\n",
    "    logger.setLevel(logging.WARNING)\n",
    " \n",
    "    # Create the Handler for logging data to a file\n",
    "    logger_handler = logging.FileHandler('python_logging.log')\n",
    "    logger_handler.setLevel(logging.WARNING)\n",
    " \n",
    "    # Create a Formatter for formatting the log messages\n",
    "    logger_formatter = logging.Formatter('%(name)s - %(levelname)s - %(message)s')\n",
    " \n",
    "    # Add the Formatter to the Handler\n",
    "    logger_handler.setFormatter(logger_formatter)\n",
    " \n",
    "    # Add the Handler to the Logger\n",
    "    logger.addHandler(logger_handler)\n",
    "    logger.info('Completed configuring logger()!')\n",
    "    \n",
    "    return logger"
   ]
  },
  {
   "cell_type": "code",
   "execution_count": 17,
   "metadata": {},
   "outputs": [],
   "source": [
    "l = log()"
   ]
  },
  {
   "cell_type": "code",
   "execution_count": 11,
   "metadata": {},
   "outputs": [],
   "source": [
    "l.error('Completed configuring logger()!')"
   ]
  },
  {
   "cell_type": "code",
   "execution_count": null,
   "metadata": {},
   "outputs": [],
   "source": []
  }
 ],
 "metadata": {
  "kernelspec": {
   "display_name": "Python [conda env:py36]",
   "language": "python",
   "name": "conda-env-py36-py"
  },
  "language_info": {
   "codemirror_mode": {
    "name": "ipython",
    "version": 3
   },
   "file_extension": ".py",
   "mimetype": "text/x-python",
   "name": "python",
   "nbconvert_exporter": "python",
   "pygments_lexer": "ipython3",
   "version": "3.6.6"
  },
  "widgets": {
   "state": {},
   "version": "1.1.2"
  }
 },
 "nbformat": 4,
 "nbformat_minor": 2
}
