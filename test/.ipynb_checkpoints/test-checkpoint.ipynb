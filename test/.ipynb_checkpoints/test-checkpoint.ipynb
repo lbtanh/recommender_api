{
 "cells": [
  {
   "cell_type": "code",
   "execution_count": 6,
   "metadata": {},
   "outputs": [],
   "source": [
    "import sys\n",
    "sys.path.insert(0,'../FacebookCrawler')\n",
    "import time\n",
    "from facebook_graph_api import *\n",
    "import pandas as pd\n",
    "\n",
    "\n",
    "\n",
    "\n",
    "FORMAT = '%(asctime)-15s %(clientip)s %(user)-8s %(message)s'\n",
    "logging.basicConfig(level=logging.ERROR)\n",
    "LOGGER.info(\"business discovery...\")"
   ]
  },
  {
   "cell_type": "code",
   "execution_count": 8,
   "metadata": {},
   "outputs": [
    {
     "ename": "IndentationError",
     "evalue": "expected an indented block (<ipython-input-8-5131295de8ed>, line 4)",
     "output_type": "error",
     "traceback": [
      "\u001b[1;36m  File \u001b[1;32m\"<ipython-input-8-5131295de8ed>\"\u001b[1;36m, line \u001b[1;32m4\u001b[0m\n\u001b[1;33m    for line in token_file:\u001b[0m\n\u001b[1;37m      ^\u001b[0m\n\u001b[1;31mIndentationError\u001b[0m\u001b[1;31m:\u001b[0m expected an indented block\n"
     ]
    }
   ],
   "source": [
    "token_file_path = './instagram_token.csv'\n",
    "\n",
    "with open(token_file_path, \"r\") as token_file:\n",
    "    for line in token_file:\n",
    "        token = line.split(\",\")[0].strip()\n",
    "        instagram_business_id = line.split(\",\")[1].strip()\n",
    "        self.add_token_and_ig_business_id(token, instagram_business_id)\n",
    "\n",
    "\n"
   ]
  },
  {
   "cell_type": "code",
   "execution_count": null,
   "metadata": {},
   "outputs": [],
   "source": []
  }
 ],
 "metadata": {
  "kernelspec": {
   "display_name": "Python [conda env:py27]",
   "language": "python",
   "name": "conda-env-py27-py"
  },
  "language_info": {
   "codemirror_mode": {
    "name": "ipython",
    "version": 3
   },
   "file_extension": ".py",
   "mimetype": "text/x-python",
   "name": "python",
   "nbconvert_exporter": "python",
   "pygments_lexer": "ipython3",
   "version": "3.6.6"
  },
  "widgets": {
   "state": {},
   "version": "1.1.2"
  }
 },
 "nbformat": 4,
 "nbformat_minor": 2
}
