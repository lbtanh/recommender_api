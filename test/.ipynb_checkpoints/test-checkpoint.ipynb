{
 "cells": [
  {
   "cell_type": "code",
   "execution_count": 3,
   "metadata": {},
   "outputs": [],
   "source": [
    "import sys\n",
    "sys.path.insert(0,'../../')\n",
    "import time\n",
    "from facebook_graph_api import *\n",
    "import pandas as pd\n",
    "\n",
    "\n",
    "\n",
    "\n",
    "FORMAT = '%(asctime)-15s %(clientip)s %(user)-8s %(message)s'\n",
    "logging.basicConfig(level=logging.ERROR)\n",
    "LOGGER.info(\"business discovery...\")"
   ]
  },
  {
   "cell_type": "code",
   "execution_count": 4,
   "metadata": {},
   "outputs": [
    {
     "name": "stdout",
     "output_type": "stream",
     "text": [
      "/home/anh_lbt/atvn/sw_follou/recommender_api/test\n"
     ]
    }
   ],
   "source": [
    "import os\n",
    "print(os.getcwd())"
   ]
  },
  {
   "cell_type": "code",
   "execution_count": 62,
   "metadata": {},
   "outputs": [
    {
     "name": "stdout",
     "output_type": "stream",
     "text": [
      "/home/anh_lbt/atvn/sw_follou/recommender_api/test\n",
      "user natje_9999 already in watch list\n",
      "False\n"
     ]
    }
   ],
   "source": [
    "from recommend_utils import recommend_utils, constants\n",
    "from database import models\n",
    "from datetime import datetime\n",
    "import time\n",
    "from database import db_cassandra\n",
    "from cassandra.query import dict_factory\n",
    "from FacebookCrawler import facebook_graph_api\n",
    "from cassandra.cqlengine import columns, connection\n",
    "\n",
    "class watch_list():\n",
    "    def __init__(self):\n",
    "        # #get session\n",
    "        \n",
    "        self.fb_graph = facebook_graph_api.FacebookGraphApi('../FacebookCrawler/instagram_token.csv')\n",
    "        (self.fb_graph.access_token,self.fb_graph.user_id) = constants.TOKENS[4]\n",
    "        self.db = db_cassandra.db_cassandra(contact_points = ['172.33.47.9'], factory = dict_factory)\n",
    "        connection.set_session(self.db.session)\n",
    "\n",
    "\n",
    "    def get_wl_by_user_id(self, user_id):\n",
    "        try:\n",
    "            query_string=\"select * from aify_recommend.watch_list where user_id = '%s'\"%user_id\n",
    "            re = self.db.session.execute(query_string)\n",
    "            list_dict_ = recommend_utils.map_to_dict_factory_1(re.current_rows)#data get from db, list have only one item\n",
    "        #     list_dict_ = re.current_rows\n",
    "            return list_dict_[0]\n",
    "        except Exception as ex:\n",
    "            return None\n",
    "\n",
    "    def wl_add(self,user_id, ig_id):\n",
    "        try:\n",
    "            wl_item = self.fb_graph.get_business_info(username = ig_id)\n",
    "            wl_item['new_post'] = 0\n",
    "            wl = self.get_wl_by_user_id(user_id)\n",
    "            if wl is None:\n",
    "                wl = models.WatchList(user_id = user_id, watch_user_list = {ig_id:models.type_business_info(**wl_item)}, viewed_time = datetime.utcnow(),updated_time = datetime.utcnow())\n",
    "                wl.save()\n",
    "            else:\n",
    "                if wl['watch_user_list'] is None:\n",
    "                    models.WatchList.objects(user_id = user_id).update(watch_user_list= {ig_id:models.type_business_info(**wl_item)})\n",
    "                else:   \n",
    "                    if ig_id in wl['watch_user_list']:\n",
    "                        print(\"user %s already in watch list\"%ig_id)\n",
    "                        return False\n",
    "                    else:\n",
    "                        wl['watch_user_list'][ig_id] = models.type_business_info(**wl_item)     \n",
    "                        models.WatchList.objects(user_id = user_id).update(watch_user_list= wl['watch_user_list'])\n",
    "            return True\n",
    "            \n",
    "        except Exception as ex:\n",
    "            print(ex)\n",
    "            return False\n",
    "\n",
    "    def wl_remove(self,user_id, ig_id):\n",
    "        try:\n",
    "            wl = self.get_wl_by_user_id(user_id)\n",
    "            if wl is None:\n",
    "                return False\n",
    "            elif wl['watch_user_list'] is not None and ig_id in wl['watch_user_list']:\n",
    "                #print('remove %s '%ig_id)\n",
    "                del wl['watch_user_list'][ig_id]\n",
    "                models.WatchList.objects(user_id = user_id).update(watch_user_list= None)\n",
    "                models.WatchList.objects(user_id = user_id).update(watch_user_list= wl['watch_user_list'])\n",
    "                return True\n",
    "            else:\n",
    "                print('no see %s in database'%ig_id)\n",
    "                return False\n",
    "        except Exception as ex:\n",
    "            print(ex)\n",
    "            return False    \n",
    "        \n",
    "        \n",
    "\n",
    "    def wl_update_new_post(self,user_id):\n",
    "    #     list_infos = []\n",
    "        try:\n",
    "            wl = self.get_wl_by_user_id(user_id)\n",
    "            if wl is None:\n",
    "                return False\n",
    "            elif wl['watch_user_list'] is not None:\n",
    "                for k, username in enumerate(wl['watch_user_list']):\n",
    "            #     for k, v in list_dict_[0]['watch_user_list'].items(): # iter dictionary\n",
    "                    print(username)\n",
    "                    request_data = self.fb_graph.get_business_info(username = username)\n",
    "        #             list_infos.append(request_data)\n",
    "                    #\n",
    "                    num_new_post = request_data['media_count'] - int(wl['watch_user_list'][username].media_count)\n",
    "                    request_data['new_post'] = num_new_post\n",
    "                    if num_new_post != 0:\n",
    "                        #update db\n",
    "                        wl['watch_user_list'][username] = models.type_business_info(**request_data) #update item in watch list user\n",
    "                        print('you have %s new post'%num_new_post)\n",
    "                        return True\n",
    "                    else:\n",
    "                        print('no changes')\n",
    "                        return False\n",
    "            else:\n",
    "                print('no have any user in watch list, please add first...')\n",
    "                return False\n",
    "                    \n",
    "            models.WatchList.objects(user_id = user_id).update(watch_user_list= wl['watch_user_list'])      \n",
    "\n",
    "        except Exception as ex:\n",
    "            print(ex)\n",
    "            \n",
    "    # watch_list.objects(user_id = 'anhlbt').update(watch_user_list= {'natje_9999': a2, 'emmaparkerandco': a2})   \n",
    "\n",
    "    # update_string = \"update watch_list set watch_user_list= {'natje_9999': 'a2', 'emmaparkerandco': 'a1'} where user_id = 'anhlbt' if exists\"\n",
    "    # _session.execute(update_string)\n",
    "\n",
    "    # wl = watch_list(user_id = 'anhlbt3',watch_user_list= a['watch_user_list'], viewed_time = datetime.utcnow(),updated_time = datetime.utcnow())\n",
    "    # wl.save()\n",
    "\n",
    "\n",
    "if __name__ == '__main__':\n",
    "    wl_inst = watch_list()\n",
    "    a = wl_inst.wl_add(user_id='anhlbt', ig_id='natje_9999')\n",
    "    print(a)\n",
    "    "
   ]
  },
  {
   "cell_type": "code",
   "execution_count": 65,
   "metadata": {},
   "outputs": [
    {
     "data": {
      "text/plain": [
       "True"
      ]
     },
     "execution_count": 65,
     "metadata": {},
     "output_type": "execute_result"
    }
   ],
   "source": [
    "wl_inst.wl_remove(user_id = 'anhlbt', ig_id='natje_9999')"
   ]
  },
  {
   "cell_type": "code",
   "execution_count": 120,
   "metadata": {},
   "outputs": [],
   "source": [
    "a = wl_inst.get_wl_by_user_id(user_id='anhlbt')"
   ]
  },
  {
   "cell_type": "code",
   "execution_count": 119,
   "metadata": {},
   "outputs": [
    {
     "data": {
      "text/plain": [
       "True"
      ]
     },
     "execution_count": 119,
     "metadata": {},
     "output_type": "execute_result"
    }
   ],
   "source": [
    "wl_inst.wl_add(user_id='anhlbt', ig_id='emmaparkerandco')"
   ]
  },
  {
   "cell_type": "code",
   "execution_count": 63,
   "metadata": {},
   "outputs": [
    {
     "name": "stdout",
     "output_type": "stream",
     "text": [
      "natje_9999\n",
      "no changes\n"
     ]
    },
    {
     "data": {
      "text/plain": [
       "False"
      ]
     },
     "execution_count": 63,
     "metadata": {},
     "output_type": "execute_result"
    }
   ],
   "source": [
    "wl_inst.wl_update_new_post(user_id='anhlbt')"
   ]
  },
  {
   "cell_type": "code",
   "execution_count": 121,
   "metadata": {},
   "outputs": [],
   "source": [
    "def convert_info_objects_to_json(info_object):\n",
    "    tmp_dict = info_object['watch_user_list']\n",
    "    for k, v in tmp_dict.items():\n",
    "        print(k)\n",
    "        tmp_dict[k] = dict(tmp_dict[k])\n",
    "    return info_object"
   ]
  },
  {
   "cell_type": "code",
   "execution_count": 123,
   "metadata": {},
   "outputs": [
    {
     "name": "stdout",
     "output_type": "stream",
     "text": [
      "emmaparkerandco\n",
      "natje_9999\n"
     ]
    }
   ],
   "source": [
    "b = convert_info_objects_to_json(a)"
   ]
  },
  {
   "cell_type": "code",
   "execution_count": 124,
   "metadata": {},
   "outputs": [
    {
     "data": {
      "text/plain": [
       "{'user_id': 'anhlbt',\n",
       " 'updated_time': datetime.datetime(2018, 8, 24, 7, 6, 46, 555000),\n",
       " 'viewed_time': datetime.datetime(2018, 8, 24, 7, 6, 46, 555000),\n",
       " 'watch_user_list': {'emmaparkerandco': {'id': '17841401690883742',\n",
       "   'website': 'https://www.emmaparkerdiamonds.com/',\n",
       "   'media_count': 330,\n",
       "   'followers_count': 647,\n",
       "   'name': 'Emma Parker & Co.',\n",
       "   'username': 'emmaparkerandco',\n",
       "   'profile_picture_url': 'https://scontent.xx.fbcdn.net/v/t51.2885-15/12393747_142605859440768_1709991462_a.jpg?_nc_cat=0&oh=8b7b47ecf00a2e0e865d2c0d06993e63&oe=5BF30F51',\n",
       "   'new_post': 0},\n",
       "  'natje_9999': {'id': '17841401660142798',\n",
       "   'website': 'https://bit.ly/2v0yJDU',\n",
       "   'media_count': 805,\n",
       "   'followers_count': 1696,\n",
       "   'name': 'Nathalie Madsen',\n",
       "   'username': 'natje_9999',\n",
       "   'profile_picture_url': 'https://scontent.xx.fbcdn.net/v/t51.2885-15/33933220_493197567763039_6170514771826180096_n.jpg?_nc_cat=0&oh=4d09397c07c3f0d0667f8688d02a4e65&oe=5BF17C73',\n",
       "   'new_post': 0}}}"
      ]
     },
     "execution_count": 124,
     "metadata": {},
     "output_type": "execute_result"
    }
   ],
   "source": [
    "b"
   ]
  },
  {
   "cell_type": "code",
   "execution_count": null,
   "metadata": {},
   "outputs": [],
   "source": []
  }
 ],
 "metadata": {
  "kernelspec": {
   "display_name": "Python [conda env:py36]",
   "language": "python",
   "name": "conda-env-py36-py"
  },
  "language_info": {
   "codemirror_mode": {
    "name": "ipython",
    "version": 3
   },
   "file_extension": ".py",
   "mimetype": "text/x-python",
   "name": "python",
   "nbconvert_exporter": "python",
   "pygments_lexer": "ipython3",
   "version": "3.6.6"
  },
  "widgets": {
   "state": {},
   "version": "1.1.2"
  }
 },
 "nbformat": 4,
 "nbformat_minor": 2
}
