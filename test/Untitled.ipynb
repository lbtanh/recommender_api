{
 "cells": [
  {
   "cell_type": "code",
   "execution_count": 1,
   "metadata": {},
   "outputs": [],
   "source": [
    "import sys\n",
    "sys.path.insert(0,'../FacebookCrawler/')\n",
    "sys.path.insert(0,'../database/')\n",
    "import time\n",
    "from facebook_graph_api import *\n",
    "import utils.constants\n",
    "import pandas as pd\n",
    "from cassandra.util import uuid_from_time\n",
    "from threading import Thread\n",
    "import models\n",
    "import db_cassandra\n",
    "from cassandra.query import dict_factory\n",
    "from cassandra.cqlengine import columns, connection\n",
    "import cassandra.util\n",
    "from datetime import datetime\n",
    "\n",
    "FORMAT = '%(asctime)-15s %(clientip)s %(user)-8s %(message)s'\n",
    "logging.basicConfig(level=logging.ERROR)\n",
    "LOGGER.info(\"business discovery...\")\n"
   ]
  },
  {
   "cell_type": "code",
   "execution_count": 2,
   "metadata": {},
   "outputs": [],
   "source": [
    "def get_influencer_profiles(begin, end, cass_session, fb_graph):\n",
    "    connection.set_session(cass_session)\n",
    "    list_business_discovery_all = []\n",
    "    # read instagram id \n",
    "#     path = join(dirname(dirname(os.path.abspath(__file__))),constants.instagram_id_path_file)\n",
    "    path = '../%s'%constants.instagram_id_path_file\n",
    "    with open(path, \"r\") as read_file:\n",
    "        list_id = read_file.read().split('\\n')\n",
    "#     f = open(writer_file, 'a')\n",
    "    i = 0\n",
    "    for instagram_id in list_id[begin:end]:\n",
    "        print('len list %s'%len(list_id[begin:end]))\n",
    "        time.sleep(2)\n",
    "        print('sleeping %s'%constants.TIME_SLEEP)\n",
    "        i = i + 1\n",
    "        print(\"====== %s ======\" %(i))\n",
    "        try:\n",
    "            business_discovery_all = fb_graph.get_business_discovery_all(media_count = constants.MAX_MEDIA, username = instagram_id)#17841401610104138, 17841407517779759\n",
    "            if 'error' not in business_discovery_all:\n",
    "                print(business_discovery_all['username'])\n",
    "                # create list to convert into df and save file\n",
    "                # list_business_discovery_all.append(self.parser_influencer_data(business_discovery_all))\n",
    "                dict_result = fb_graph.parser_influencer_data(business_discovery_all)\n",
    "                dict_result['ts'] = uuid_from_time(time.time())\n",
    "                event = models.UserBusinessDiscovery(**dict_result)\n",
    "                event.save()\n",
    "            else:\n",
    "                print('error: %s'%instagram_id)\n",
    "        except Exception as ex:\n",
    "            print(ex)\n",
    "            pass"
   ]
  },
  {
   "cell_type": "code",
   "execution_count": 3,
   "metadata": {},
   "outputs": [],
   "source": [
    "# constants.KEYSPACE_NAME = 'aify_recommend'\n",
    "constants.KEYSPACE_NAME = 'test'"
   ]
  },
  {
   "cell_type": "code",
   "execution_count": 155,
   "metadata": {},
   "outputs": [
    {
     "name": "stdout",
     "output_type": "stream",
     "text": [
      "/home/anh_lbt/atvn/sw_follou/recommender_api/test\n"
     ]
    },
    {
     "ename": "NoHostAvailable",
     "evalue": "(\"Unable to connect to any servers using keyspace 'test'\", ['172.33.47.9'])",
     "output_type": "error",
     "traceback": [
      "\u001b[0;31m-------------------------------------------------------------\u001b[0m",
      "\u001b[0;31mNoHostAvailable\u001b[0m             Traceback (most recent call last)",
      "\u001b[0;32m<ipython-input-155-e1df72e7682b>\u001b[0m in \u001b[0;36m<module>\u001b[0;34m()\u001b[0m\n\u001b[1;32m     17\u001b[0m \u001b[0;31m#     thread2 = Thread( target=thread2, args=(\"Thread-2\",fb_graph, 3000, 4000,'4000.txt' ) )\u001b[0m\u001b[0;34m\u001b[0m\u001b[0;34m\u001b[0m\u001b[0m\n\u001b[1;32m     18\u001b[0m \u001b[0;34m\u001b[0m\u001b[0m\n\u001b[0;32m---> 19\u001b[0;31m     \u001b[0mcass_db\u001b[0m \u001b[0;34m=\u001b[0m \u001b[0mdb_cassandra\u001b[0m\u001b[0;34m.\u001b[0m\u001b[0mdb_cassandra\u001b[0m\u001b[0;34m(\u001b[0m\u001b[0;34m[\u001b[0m\u001b[0;34m'172.33.47.9'\u001b[0m\u001b[0;34m]\u001b[0m\u001b[0;34m,\u001b[0m\u001b[0mdict_factory\u001b[0m\u001b[0;34m,\u001b[0m \u001b[0mport_\u001b[0m \u001b[0;34m=\u001b[0m \u001b[0;36m9042\u001b[0m\u001b[0;34m)\u001b[0m\u001b[0;34m\u001b[0m\u001b[0m\n\u001b[0m\u001b[1;32m     20\u001b[0m \u001b[0;31m#     thread1.start()\u001b[0m\u001b[0;34m\u001b[0m\u001b[0;34m\u001b[0m\u001b[0m\n",
      "\u001b[0;32m~/atvn/sw_follou/recommender_api/database/db_cassandra.py\u001b[0m in \u001b[0;36m__init__\u001b[0;34m(self, contact_points, factory, port_)\u001b[0m\n\u001b[1;32m     24\u001b[0m     \u001b[0;32mdef\u001b[0m \u001b[0m__init__\u001b[0m\u001b[0;34m(\u001b[0m\u001b[0mself\u001b[0m\u001b[0;34m,\u001b[0m \u001b[0mcontact_points\u001b[0m\u001b[0;34m,\u001b[0m \u001b[0mfactory\u001b[0m\u001b[0;34m,\u001b[0m \u001b[0mport_\u001b[0m \u001b[0;34m=\u001b[0m \u001b[0mconstants\u001b[0m\u001b[0;34m.\u001b[0m\u001b[0mPORT_CASSANDRA_RS\u001b[0m\u001b[0;34m)\u001b[0m\u001b[0;34m:\u001b[0m\u001b[0;34m\u001b[0m\u001b[0m\n\u001b[1;32m     25\u001b[0m         \u001b[0mself\u001b[0m\u001b[0;34m.\u001b[0m\u001b[0mcluster\u001b[0m \u001b[0;34m=\u001b[0m \u001b[0mCluster\u001b[0m\u001b[0;34m(\u001b[0m\u001b[0mcontact_points\u001b[0m\u001b[0;34m,\u001b[0m \u001b[0mport\u001b[0m \u001b[0;34m=\u001b[0m \u001b[0mport_\u001b[0m\u001b[0;34m)\u001b[0m \u001b[0;31m# cluster = Cluster(['172.33.47.10', '0.0.0.0'])\u001b[0m\u001b[0;34m\u001b[0m\u001b[0m\n\u001b[0;32m---> 26\u001b[0;31m         \u001b[0mself\u001b[0m\u001b[0;34m.\u001b[0m\u001b[0msession\u001b[0m \u001b[0;34m=\u001b[0m \u001b[0mself\u001b[0m\u001b[0;34m.\u001b[0m\u001b[0mcluster\u001b[0m\u001b[0;34m.\u001b[0m\u001b[0mconnect\u001b[0m\u001b[0;34m(\u001b[0m\u001b[0mconstants\u001b[0m\u001b[0;34m.\u001b[0m\u001b[0mKEYSPACE_NAME\u001b[0m\u001b[0;34m)\u001b[0m\u001b[0;34m\u001b[0m\u001b[0m\n\u001b[0m\u001b[1;32m     27\u001b[0m         \u001b[0mself\u001b[0m\u001b[0;34m.\u001b[0m\u001b[0msession\u001b[0m\u001b[0;34m.\u001b[0m\u001b[0mdefault_fetch_size\u001b[0m \u001b[0;34m=\u001b[0m \u001b[0;36m10000000\u001b[0m \u001b[0;31m#needed for large queries, otherwise driver will do pagination. Default is 50000.\u001b[0m\u001b[0;34m\u001b[0m\u001b[0m\n\u001b[1;32m     28\u001b[0m         \u001b[0mself\u001b[0m\u001b[0;34m.\u001b[0m\u001b[0msession\u001b[0m\u001b[0;34m.\u001b[0m\u001b[0mrow_factory\u001b[0m \u001b[0;34m=\u001b[0m \u001b[0mfactory\u001b[0m \u001b[0;31m# use: pandas_factory or dict_factory\u001b[0m\u001b[0;34m\u001b[0m\u001b[0m\n",
      "\u001b[0;32m~/anaconda3/envs/py36/lib/python3.6/site-packages/cassandra/cluster.cpython-36m-x86_64-linux-gnu.so\u001b[0m in \u001b[0;36mcassandra.cluster.Cluster.connect\u001b[0;34m()\u001b[0m\n",
      "\u001b[0;32m~/anaconda3/envs/py36/lib/python3.6/site-packages/cassandra/cluster.cpython-36m-x86_64-linux-gnu.so\u001b[0m in \u001b[0;36mcassandra.cluster.Cluster._new_session\u001b[0;34m()\u001b[0m\n",
      "\u001b[0;32m~/anaconda3/envs/py36/lib/python3.6/site-packages/cassandra/cluster.cpython-36m-x86_64-linux-gnu.so\u001b[0m in \u001b[0;36mcassandra.cluster.Session.__init__\u001b[0;34m()\u001b[0m\n",
      "\u001b[0;31mNoHostAvailable\u001b[0m: (\"Unable to connect to any servers using keyspace 'test'\", ['172.33.47.9'])"
     ]
    }
   ],
   "source": [
    "import facebook_graph_api\n",
    "import argparse, time\n",
    "\n",
    "\n",
    "\n",
    "def thread1(threadname,fb_graph, begin, end,file_name):\n",
    "    print('start %s....'%threadname)\n",
    "    fb_graph.get_influencer_profiles(begin, end,file_name)\n",
    "    print('finished %s....'%threadname)\n",
    "\n",
    "\n",
    "if __name__==\"__main__\":\n",
    "    fb_graph = facebook_graph_api.FacebookGraphApi('../FacebookCrawler/instagram_token.csv')\n",
    "    (fb_graph.access_token,fb_graph.user_id) = constants.TOKENS[-1] \n",
    "\n",
    "    thread1 = Thread( target=thread1, args=(\"Thread-1\",fb_graph, 2500, 3500,'3500.txt') )\n",
    "#     thread2 = Thread( target=thread2, args=(\"Thread-2\",fb_graph, 3000, 4000,'4000.txt' ) )\n",
    "\n",
    "    cass_db = db_cassandra.db_cassandra(['172.33.47.9'],dict_factory, port_ = 9042)\n",
    "#     thread1.start()"
   ]
  },
  {
   "cell_type": "code",
   "execution_count": 40,
   "metadata": {},
   "outputs": [],
   "source": [
    "# get_influencer_profiles(10, 20, cass_db.session, fb_graph)"
   ]
  },
  {
   "cell_type": "code",
   "execution_count": null,
   "metadata": {},
   "outputs": [],
   "source": []
  },
  {
   "cell_type": "code",
   "execution_count": 41,
   "metadata": {},
   "outputs": [],
   "source": [
    "# test insert into cassandra\n",
    "\n",
    "# ['id', 'biography', 'followers_count', 'media_count', 'name', 'username', 'profile_picture_url', 'comments_count', 'likes_count']\n",
    "business_discovery_all = fb_graph.get_business_discovery_all(media_count = constants.MAX_MEDIA, username = 'ludovica_ferlito')#17841401610104138, 17841407517779759\n",
    "if 'error' not in business_discovery_all:\n",
    "#     print(business_discovery_all['username'])\n",
    "    res = fb_graph.parser_influencer_data(business_discovery_all)\n",
    "#     print(res)\n"
   ]
  },
  {
   "cell_type": "code",
   "execution_count": 156,
   "metadata": {},
   "outputs": [],
   "source": [
    "from cassandra.cqlengine.models import Model\n",
    "from cassandra.cqlengine import columns, connection\n",
    "from cassandra.cluster import Cluster\n",
    "from cassandra.query import dict_factory\n",
    "from cassandra.cqlengine.columns import *\n",
    "from cassandra.cqlengine.usertype import UserType\n",
    "\n",
    "\n",
    "\n",
    "import pandas as pd\n",
    "import os\n",
    "\n",
    "def read_multi_file_to_df(dir_files = './data_api_insta/'):\n",
    "    df_inf = pd.DataFrame(index=None)\n",
    "    for file in os.listdir(dir_files):\n",
    "        if file.endswith('.txt'):\n",
    "            data = pd.read_csv(os.path.join(dir_files, file),sep='\\t', header=0)\n",
    "#             df = pd.DataFrame.from_dict(data, orient='columns')\n",
    "            df_inf= pd.concat([data, df_inf], axis=0)\n",
    "    return df_inf\n",
    "\n",
    "\n",
    "class UserBusinessDiscovery(Model):\n",
    "    __keyspace__ = constants.KEYSPACE_NAME\n",
    "    __table_name__ = \"users_business_discovery\"\n",
    "    id = columns.BigInt(primary_key=True)\n",
    "    name = columns.Text()\n",
    "    biography = columns.Text()\n",
    "    media_count = columns.Integer()\n",
    "    comments_count = columns.Integer()\n",
    "    likes_count = columns.Integer()\n",
    "    followers_count = columns.Integer()\n",
    "    username = columns.Text()\n",
    "    profile_picture_url = columns.Text()\n",
    "    updated_date = DateTime()\n",
    "#     ts = columns.UUID(primary_key=True)\n",
    "#     categories = columns.List(columns.Text())\n",
    "#     account_type = columns.Integer()\n",
    "\n",
    "    "
   ]
  },
  {
   "cell_type": "code",
   "execution_count": 43,
   "metadata": {},
   "outputs": [],
   "source": [
    "\n",
    "# #get session\n",
    "_session = Cluster(contact_points =['172.33.47.9'], port=9042).connect('aify_recommend')\n",
    "_session.row_factory = dict_factory\n",
    "connection.set_session(_session)\n",
    "constants.KEYSPACE_NAME = 'aify_recommend'\n",
    "\n",
    "# #preprocessing\n",
    "# df_api = read_avarta_urls_to_df()\n",
    "# df_api['biography']= df_api['biography'].fillna(\"\")\n",
    "# df_api['name']= df_api['name'].fillna(\"\")\n",
    "# df_api['website'] = df_api['website'].fillna(\"\")\n",
    "# #convert to dict and insert into db\n",
    "# for i in range(df_api.shape[0]):\n",
    "#     res = df_api.iloc[i].to_dict()\n",
    "#     res['ts'] = uuid_from_time(time.time())\n",
    "#     event = UserBusinessDiscovery(**res)\n",
    "#     event.save()"
   ]
  },
  {
   "cell_type": "code",
   "execution_count": 10,
   "metadata": {},
   "outputs": [],
   "source": [
    "# class Person(Model):\n",
    "#     first_name  = columns.Text(primary_key=True)\n",
    "#     last_name = columns.Text()\n",
    "\n",
    "# kevin = Person.create(first_name=\"Kevin\", last_name=\"Deldycke\")\n",
    "# dict(kevin)  # returns {'first_name': 'Kevin', 'last_name': 'Deldycke'}\n",
    "# kevin['first_name']  # returns 'Kevin'\n",
    "# kevin.keys()  # returns ['first_name', 'last_name']\n",
    "# kevin.values()  # returns ['Kevin', 'Deldycke']\n",
    "# kevin.items()  # returns [('first_name', 'Kevin'), ('last_name', 'Deldycke')]\n",
    "\n",
    "# kevin['first_name'] = 'KEVIN5000'  # changes the models first name\n",
    "\n",
    "\n",
    "# CREATE TABLE IF NOT EXISTS aify_recommend.Person (\n",
    "#     id timeuuid,\n",
    "#     user_name text,\n",
    "#     first_name text,\n",
    "#     last_name text,\n",
    "#     updated_date timestamp,\n",
    "#     PRIMARY KEY(id, user_name)\n",
    "# ) WITH CLUSTERING ORDER BY (id DESC);\n",
    "\n",
    "\n",
    "\n",
    "import time\n",
    "from cassandra.cqlengine.columns import UUID\n",
    "from cassandra.util import uuid_from_time\n",
    "#using the person model from earlier:\n",
    "class Person(Model):\n",
    "    id = columns.UUID(primary_key=True)\n",
    "    user_name = columns.Text(primary_key=True)\n",
    "    first_name  = columns.Text()\n",
    "    last_name = columns.Text()\n",
    "    updated_date = columns.DateTime()\n",
    "    \n",
    "\n",
    "# person = Person(id = uuid_from_time(time.time()),user_name = 'anhlbt', first_name='Blake', last_name='Eggleston')"
   ]
  },
  {
   "cell_type": "code",
   "execution_count": 11,
   "metadata": {},
   "outputs": [
    {
     "data": {
      "text/plain": [
       "Person(id=UUID('f84afc38-afe3-11e8-b2d9-2f4f5f9f82eb'), user_name='anhle', first_name='Anh', last_name='Le', updated_date=None)"
      ]
     },
     "execution_count": 11,
     "metadata": {},
     "output_type": "execute_result"
    }
   ],
   "source": [
    "person = Person(id = uuid_from_time(time.time()),user_name = 'anhle', first_name='Anh', last_name='Le')\n",
    "person.save()"
   ]
  },
  {
   "cell_type": "code",
   "execution_count": 12,
   "metadata": {},
   "outputs": [],
   "source": [
    "# person.objects(id='81833564-a5bd-11e8-a36c-67d94cf8123f', user_name = 'anhlbt').update(last_name='CCBBBBBBBBBBBCCC')\n",
    "person.objects(id='81833564-a5bd-11e8-a36c-67d94cf8123f', user_name = 'anhlbt').update(last_name='updatedddddddd')"
   ]
  },
  {
   "cell_type": "code",
   "execution_count": 18,
   "metadata": {},
   "outputs": [],
   "source": [
    "# _session.execute(\"CREATE INDEX ON aify_recommend.Person(first_name);\")"
   ]
  },
  {
   "cell_type": "code",
   "execution_count": null,
   "metadata": {},
   "outputs": [],
   "source": []
  },
  {
   "cell_type": "code",
   "execution_count": 4,
   "metadata": {},
   "outputs": [
    {
     "ename": "NameError",
     "evalue": "name 'UserType' is not defined",
     "output_type": "error",
     "traceback": [
      "\u001b[0;31m--------------------------------------------------------------------\u001b[0m",
      "\u001b[0;31mNameError\u001b[0m                          Traceback (most recent call last)",
      "\u001b[0;32m<ipython-input-4-c5522b29571b>\u001b[0m in \u001b[0;36m<module>\u001b[0;34m()\u001b[0m\n\u001b[1;32m     40\u001b[0m     \u001b[0;32mreturn\u001b[0m \u001b[0mls_dic_re\u001b[0m\u001b[0;34m\u001b[0m\u001b[0m\n\u001b[1;32m     41\u001b[0m \u001b[0;34m\u001b[0m\u001b[0m\n\u001b[0;32m---> 42\u001b[0;31m \u001b[0;32mclass\u001b[0m \u001b[0mtype_business_info\u001b[0m\u001b[0;34m(\u001b[0m\u001b[0mUserType\u001b[0m\u001b[0;34m)\u001b[0m\u001b[0;34m:\u001b[0m\u001b[0;34m\u001b[0m\u001b[0m\n\u001b[0m\u001b[1;32m     43\u001b[0m     \u001b[0mid\u001b[0m \u001b[0;34m=\u001b[0m \u001b[0mcolumns\u001b[0m\u001b[0;34m.\u001b[0m\u001b[0mText\u001b[0m\u001b[0;34m(\u001b[0m\u001b[0;34m)\u001b[0m\u001b[0;34m\u001b[0m\u001b[0m\n\u001b[1;32m     44\u001b[0m     \u001b[0mwebsite\u001b[0m \u001b[0;34m=\u001b[0m \u001b[0mcolumns\u001b[0m\u001b[0;34m.\u001b[0m\u001b[0mText\u001b[0m\u001b[0;34m(\u001b[0m\u001b[0;34m)\u001b[0m\u001b[0;34m\u001b[0m\u001b[0m\n",
      "\u001b[0;31mNameError\u001b[0m: name 'UserType' is not defined"
     ]
    }
   ],
   "source": [
    "#convert OrderedMapSerializedKey to dict (from cassandra)\n",
    "from cassandra.util import OrderedMapSerializedKey\n",
    "\n",
    "def OrderedMapSerializedKeyToDict(map_data): \n",
    "    lst = []\n",
    "    for idx_value, i_value in enumerate(map_data):\n",
    "        if type(i_value) is OrderedMapSerializedKey:\n",
    "#             print(i_value) #{'follower': '15.6k', 'link': 'https://instagram.com/martilenia', 'type': 'Instagram Link Click'}\n",
    "            lst.append(dict(i_value))\n",
    "    return lst\n",
    "# OrderedMapSerializedKeyToDict(row[0])\n",
    "\n",
    "\n",
    "def map_to_dict_factory_2(dict_):\n",
    "    try:\n",
    "        for key, value in dict_.items():\n",
    "            if isinstance(value, OrderedMapSerializedKey):\n",
    "                d = dict()\n",
    "                for key2, value2 in dict(value).items():\n",
    "                    if isinstance(value2, OrderedMapSerializedKey):\n",
    "                        d[key2] = dict(value2)\n",
    "                dict_[key] = d    \n",
    "    except Exception as ex:\n",
    "        print(ex)\n",
    "        pass\n",
    "    return dict_\n",
    "\n",
    "#return list of dict\n",
    "def map_to_dict_factory_1(list_of_dict):\n",
    "    try:\n",
    "        ls_dic_re = []\n",
    "        for idx_value, i_value in enumerate(list_of_dict):\n",
    "            for key, value in i_value.items():\n",
    "                if isinstance(value, OrderedMapSerializedKey):\n",
    "                    i_value[key] = dict(value)\n",
    "            ls_dic_re.append(i_value)\n",
    "    except Exception as ex:\n",
    "        print(ex)\n",
    "        pass\n",
    "    return ls_dic_re\n",
    "\n",
    "class type_business_info(UserType):\n",
    "    id = columns.Text()\n",
    "    website = columns.Text()\n",
    "    media_count = columns.Integer()\n",
    "    followers_count = columns.Integer()\n",
    "    name = columns.Text()\n",
    "    username = columns.Text()\n",
    "    profile_picture_url = columns.Text()\n",
    "    new_post = columns.Integer(default = 0)\n",
    "\n",
    "    \n",
    "class watch_list(Model):\n",
    "    __keyspace__ = constants.KEYSPACE_NAME\n",
    "    __table_name__ = \"watch_list\"\n",
    "    user_id= columns.Text(primary_key=True)\n",
    "    watch_user_list= Map(Text(), UserDefinedType(type_business_info))\n",
    "    viewed_time =columns.DateTime()\n",
    "    updated_time =columns.DateTime()\n",
    "    \n",
    "class recommend_influencer(Model):\n",
    "    __keyspace__ = constants.KEYSPACE_NAME\n",
    "    __table_name__ = \"recommend_influencer_test\"\n",
    "    influencer_name = Text()\n",
    "    bio = Text()\n",
    "    categories = List(Text())\n",
    "    commentPerPost =Integer()\n",
    "    demographics = Text()\n",
    "    engagementRate = Text()\n",
    "    follower = Integer()\n",
    "    account_type =Integer()\n",
    "    likePerPost = Integer()\n",
    "    location = Text()\n",
    "    path =Text()\n",
    "    reach =Text()\n",
    "    website =Text()\n",
    "    posts_starting =Integer()\n",
    "    currency =Text()\n",
    "    socialAccounts = List(Map(Text(), Text()))\n",
    "    created =DateTime(default=  datetime.utcnow())\n",
    "    updated =DateTime(default=  datetime.utcnow())\n",
    "    activate =DateTime(default=  datetime.utcnow())\n",
    "    influencer_id = Integer(primary_key=True)\n",
    "    img_url = Text()\n",
    "    ts = UUID(primary_key=True)\n",
    "    "
   ]
  },
  {
   "cell_type": "markdown",
   "metadata": {},
   "source": [
    "# update table users_business_discovery"
   ]
  },
  {
   "cell_type": "code",
   "execution_count": null,
   "metadata": {},
   "outputs": [],
   "source": [
    "#"
   ]
  },
  {
   "cell_type": "code",
   "execution_count": 157,
   "metadata": {},
   "outputs": [],
   "source": [
    "# #get session\n",
    "_session = Cluster(contact_points =['172.33.47.10'], port=61003).connect('test')\n",
    "_session.row_factory = dict_factory\n",
    "connection.set_session(_session)"
   ]
  },
  {
   "cell_type": "code",
   "execution_count": null,
   "metadata": {},
   "outputs": [],
   "source": []
  },
  {
   "cell_type": "code",
   "execution_count": 196,
   "metadata": {},
   "outputs": [],
   "source": [
    "# return format dataframe when query results from cassandra\n",
    "def pandas_factory(colnames, rows):\n",
    "    return pd.DataFrame(rows, columns=colnames)\n",
    "\n",
    "\n",
    "# db = db_cassandra.db_cassandra(['172.33.47.9'], pandas_factory, port_ = 9042)\n",
    "\n",
    "constants.KEYSPACE_NAME = 'aify_db'\n",
    "db = db_cassandra.db_cassandra(['172.33.47.10'], pandas_factory, port_ = 61003)\n",
    "db.cluster.connect('aify_db')\n",
    "    \n",
    "rows = db.session.execute(\"select * from %s.recommend_influencer;\"%(constants.KEYSPACE_NAME))\n",
    "df = rows._current_rows"
   ]
  },
  {
   "cell_type": "code",
   "execution_count": 43,
   "metadata": {},
   "outputs": [],
   "source": [
    "# df.head()"
   ]
  },
  {
   "cell_type": "code",
   "execution_count": 44,
   "metadata": {},
   "outputs": [],
   "source": [
    "#\n",
    "df_c = df[['influencer_id', 'account_type', 'categories']]"
   ]
  },
  {
   "cell_type": "code",
   "execution_count": 45,
   "metadata": {},
   "outputs": [
    {
     "data": {
      "text/html": [
       "<div>\n",
       "<style scoped>\n",
       "    .dataframe tbody tr th:only-of-type {\n",
       "        vertical-align: middle;\n",
       "    }\n",
       "\n",
       "    .dataframe tbody tr th {\n",
       "        vertical-align: top;\n",
       "    }\n",
       "\n",
       "    .dataframe thead th {\n",
       "        text-align: right;\n",
       "    }\n",
       "</style>\n",
       "<table border=\"1\" class=\"dataframe\">\n",
       "  <thead>\n",
       "    <tr style=\"text-align: right;\">\n",
       "      <th></th>\n",
       "      <th>influencer_id</th>\n",
       "      <th>account_type</th>\n",
       "      <th>categories</th>\n",
       "    </tr>\n",
       "  </thead>\n",
       "  <tbody>\n",
       "    <tr>\n",
       "      <th>0</th>\n",
       "      <td>4317</td>\n",
       "      <td>0</td>\n",
       "      <td>[Fashion, Hairstyles, Makeup, Skincare, Beauty...</td>\n",
       "    </tr>\n",
       "    <tr>\n",
       "      <th>1</th>\n",
       "      <td>3372</td>\n",
       "      <td>0</td>\n",
       "      <td>[Beauty, Fashion, Fashion Brands, Makeup, Desi...</td>\n",
       "    </tr>\n",
       "    <tr>\n",
       "      <th>2</th>\n",
       "      <td>1584</td>\n",
       "      <td>1</td>\n",
       "      <td>[Fashion, Jewelry, Weddings, Free Spirit]</td>\n",
       "    </tr>\n",
       "    <tr>\n",
       "      <th>3</th>\n",
       "      <td>7034</td>\n",
       "      <td>1</td>\n",
       "      <td>[Cats, Coffee, Cosmetics]</td>\n",
       "    </tr>\n",
       "    <tr>\n",
       "      <th>4</th>\n",
       "      <td>4830</td>\n",
       "      <td>0</td>\n",
       "      <td>[Digital Marketing, Digital Media, Fashion, Ph...</td>\n",
       "    </tr>\n",
       "  </tbody>\n",
       "</table>\n",
       "</div>"
      ],
      "text/plain": [
       "   influencer_id  account_type  \\\n",
       "0           4317             0   \n",
       "1           3372             0   \n",
       "2           1584             1   \n",
       "3           7034             1   \n",
       "4           4830             0   \n",
       "\n",
       "                                          categories  \n",
       "0  [Fashion, Hairstyles, Makeup, Skincare, Beauty...  \n",
       "1  [Beauty, Fashion, Fashion Brands, Makeup, Desi...  \n",
       "2          [Fashion, Jewelry, Weddings, Free Spirit]  \n",
       "3                          [Cats, Coffee, Cosmetics]  \n",
       "4  [Digital Marketing, Digital Media, Fashion, Ph...  "
      ]
     },
     "execution_count": 45,
     "metadata": {},
     "output_type": "execute_result"
    }
   ],
   "source": [
    "df_c.head()"
   ]
  },
  {
   "cell_type": "code",
   "execution_count": 414,
   "metadata": {},
   "outputs": [],
   "source": [
    "rows = db.session.execute(\"select * from %s.users_business_discovery;\"%(constants.KEYSPACE_NAME))\n",
    "df = rows._current_rows"
   ]
  },
  {
   "cell_type": "code",
   "execution_count": 415,
   "metadata": {},
   "outputs": [
    {
     "data": {
      "text/html": [
       "<div>\n",
       "<style scoped>\n",
       "    .dataframe tbody tr th:only-of-type {\n",
       "        vertical-align: middle;\n",
       "    }\n",
       "\n",
       "    .dataframe tbody tr th {\n",
       "        vertical-align: top;\n",
       "    }\n",
       "\n",
       "    .dataframe thead th {\n",
       "        text-align: right;\n",
       "    }\n",
       "</style>\n",
       "<table border=\"1\" class=\"dataframe\">\n",
       "  <thead>\n",
       "    <tr style=\"text-align: right;\">\n",
       "      <th></th>\n",
       "      <th>id</th>\n",
       "      <th>username</th>\n",
       "      <th>biography</th>\n",
       "      <th>comments_count</th>\n",
       "      <th>followers_count</th>\n",
       "      <th>likes_count</th>\n",
       "      <th>media_count</th>\n",
       "      <th>name</th>\n",
       "      <th>profile_picture_url</th>\n",
       "      <th>updated_date</th>\n",
       "    </tr>\n",
       "  </thead>\n",
       "  <tbody>\n",
       "    <tr>\n",
       "      <th>0</th>\n",
       "      <td>17841403192351597</td>\n",
       "      <td>__twinkl</td>\n",
       "      <td>𖥸  Self Taught #MUE | 27 \\n𖥸 #beautyinfluencer...</td>\n",
       "      <td>6331</td>\n",
       "      <td>5712</td>\n",
       "      <td>59383</td>\n",
       "      <td>675</td>\n",
       "      <td>Kristen💄MUE</td>\n",
       "      <td>https://scontent.xx.fbcdn.net/v/t51.2885-15/39...</td>\n",
       "      <td>2018-09-04 22:19:55</td>\n",
       "    </tr>\n",
       "  </tbody>\n",
       "</table>\n",
       "</div>"
      ],
      "text/plain": [
       "                  id  username  \\\n",
       "0  17841403192351597  __twinkl   \n",
       "\n",
       "                                           biography  comments_count  \\\n",
       "0  𖥸  Self Taught #MUE | 27 \\n𖥸 #beautyinfluencer...            6331   \n",
       "\n",
       "   followers_count  likes_count  media_count         name  \\\n",
       "0             5712        59383          675  Kristen💄MUE   \n",
       "\n",
       "                                 profile_picture_url        updated_date  \n",
       "0  https://scontent.xx.fbcdn.net/v/t51.2885-15/39... 2018-09-04 22:19:55  "
      ]
     },
     "execution_count": 415,
     "metadata": {},
     "output_type": "execute_result"
    }
   ],
   "source": [
    "df.head(1)"
   ]
  },
  {
   "cell_type": "code",
   "execution_count": 416,
   "metadata": {},
   "outputs": [],
   "source": [
    "def calculate_engagement(followers_count, likes_count, comments_count):\n",
    "    try:\n",
    "        if followers_count > 0:\n",
    "            return (followers_count + likes_count)/comments_count * 1.0\n",
    "    except Exception as ex:\n",
    "        print(ex)     "
   ]
  },
  {
   "cell_type": "code",
   "execution_count": 419,
   "metadata": {},
   "outputs": [
    {
     "name": "stdout",
     "output_type": "stream",
     "text": [
      "division by zero\n",
      "division by zero\n",
      "division by zero\n",
      "division by zero\n",
      "division by zero\n",
      "division by zero\n",
      "division by zero\n",
      "division by zero\n"
     ]
    }
   ],
   "source": [
    "df['engagement'] = list(map(calculate_engagement, df.followers_count, df.likes_count, df.comments_count))"
   ]
  },
  {
   "cell_type": "code",
   "execution_count": 420,
   "metadata": {},
   "outputs": [
    {
     "data": {
      "text/html": [
       "<div>\n",
       "<style scoped>\n",
       "    .dataframe tbody tr th:only-of-type {\n",
       "        vertical-align: middle;\n",
       "    }\n",
       "\n",
       "    .dataframe tbody tr th {\n",
       "        vertical-align: top;\n",
       "    }\n",
       "\n",
       "    .dataframe thead th {\n",
       "        text-align: right;\n",
       "    }\n",
       "</style>\n",
       "<table border=\"1\" class=\"dataframe\">\n",
       "  <thead>\n",
       "    <tr style=\"text-align: right;\">\n",
       "      <th></th>\n",
       "      <th>id</th>\n",
       "      <th>username</th>\n",
       "      <th>biography</th>\n",
       "      <th>comments_count</th>\n",
       "      <th>followers_count</th>\n",
       "      <th>likes_count</th>\n",
       "      <th>media_count</th>\n",
       "      <th>name</th>\n",
       "      <th>profile_picture_url</th>\n",
       "      <th>updated_date</th>\n",
       "      <th>engagement</th>\n",
       "    </tr>\n",
       "  </thead>\n",
       "  <tbody>\n",
       "    <tr>\n",
       "      <th>0</th>\n",
       "      <td>17841403192351597</td>\n",
       "      <td>__twinkl</td>\n",
       "      <td>𖥸  Self Taught #MUE | 27 \\n𖥸 #beautyinfluencer...</td>\n",
       "      <td>6331</td>\n",
       "      <td>5712</td>\n",
       "      <td>59383</td>\n",
       "      <td>675</td>\n",
       "      <td>Kristen💄MUE</td>\n",
       "      <td>https://scontent.xx.fbcdn.net/v/t51.2885-15/39...</td>\n",
       "      <td>2018-09-04 22:19:55</td>\n",
       "      <td>10.281946</td>\n",
       "    </tr>\n",
       "    <tr>\n",
       "      <th>1</th>\n",
       "      <td>17841404101386592</td>\n",
       "      <td>sabrinamakeup</td>\n",
       "      <td>🔸Make up 💄💋\\n 🔸Atendemos  em domicílio     \\n ...</td>\n",
       "      <td>35</td>\n",
       "      <td>268</td>\n",
       "      <td>823</td>\n",
       "      <td>37</td>\n",
       "      <td>Make up por Sabrina Matos 💋💄</td>\n",
       "      <td>https://scontent.xx.fbcdn.net/v/t51.2885-15/28...</td>\n",
       "      <td>2018-09-04 22:19:58</td>\n",
       "      <td>31.171429</td>\n",
       "    </tr>\n",
       "    <tr>\n",
       "      <th>2</th>\n",
       "      <td>17841401557150231</td>\n",
       "      <td>asylumstar</td>\n",
       "      <td>Pro MUA. Performer. Cosplayer. Content Creator...</td>\n",
       "      <td>5164</td>\n",
       "      <td>3868</td>\n",
       "      <td>133686</td>\n",
       "      <td>2639</td>\n",
       "      <td>N O T  U R  W A I F U  🎀</td>\n",
       "      <td>https://scontent.xx.fbcdn.net/v/t51.2885-15/35...</td>\n",
       "      <td>2018-09-04 22:20:02</td>\n",
       "      <td>26.637103</td>\n",
       "    </tr>\n",
       "    <tr>\n",
       "      <th>3</th>\n",
       "      <td>17841400793636038</td>\n",
       "      <td>bonjour_beauty2020</td>\n",
       "      <td>See What's Within \\nNC 👒 GA\\nCosmetologist| Ma...</td>\n",
       "      <td>353</td>\n",
       "      <td>613</td>\n",
       "      <td>3909</td>\n",
       "      <td>131</td>\n",
       "      <td>Diamond</td>\n",
       "      <td>https://scontent.xx.fbcdn.net/v/t51.2885-15/27...</td>\n",
       "      <td>2018-09-04 22:20:05</td>\n",
       "      <td>12.810198</td>\n",
       "    </tr>\n",
       "    <tr>\n",
       "      <th>4</th>\n",
       "      <td>17841402159001280</td>\n",
       "      <td>hanskincarecosmetics</td>\n",
       "      <td>🌿 HAN: Healthy And Natural. \\n💄 Helping you lo...</td>\n",
       "      <td>6130</td>\n",
       "      <td>7092</td>\n",
       "      <td>90044</td>\n",
       "      <td>873</td>\n",
       "      <td>HAN SKIN CARE COSMETICS</td>\n",
       "      <td>https://scontent.xx.fbcdn.net/v/t51.2885-15/17...</td>\n",
       "      <td>2018-09-04 22:20:27</td>\n",
       "      <td>15.846003</td>\n",
       "    </tr>\n",
       "    <tr>\n",
       "      <th>5</th>\n",
       "      <td>17841400270633216</td>\n",
       "      <td>michellegungoren</td>\n",
       "      <td>Sweden \\n⚡When a woman's stories are \\nremembe...</td>\n",
       "      <td>18337</td>\n",
       "      <td>60664</td>\n",
       "      <td>457365</td>\n",
       "      <td>157</td>\n",
       "      <td>MICHELLE 🌙</td>\n",
       "      <td>https://scontent.xx.fbcdn.net/v/t51.2885-15/36...</td>\n",
       "      <td>2018-09-04 22:20:30</td>\n",
       "      <td>28.250477</td>\n",
       "    </tr>\n",
       "    <tr>\n",
       "      <th>6</th>\n",
       "      <td>17841400560913493</td>\n",
       "      <td>maxmonterroso</td>\n",
       "      <td>⚓I've been a puppet, a pauper, a pirate, a poe...</td>\n",
       "      <td>6801</td>\n",
       "      <td>39919</td>\n",
       "      <td>483423</td>\n",
       "      <td>574</td>\n",
       "      <td>Max Monterroso</td>\n",
       "      <td>https://scontent.xx.fbcdn.net/v/t51.2885-15/39...</td>\n",
       "      <td>2018-09-04 22:20:35</td>\n",
       "      <td>76.950743</td>\n",
       "    </tr>\n",
       "    <tr>\n",
       "      <th>7</th>\n",
       "      <td>17841401775826181</td>\n",
       "      <td>awilou</td>\n",
       "      <td>↠ 21. she/her. ITA. \\n↠ snapchat: itsidax\\n↠ o...</td>\n",
       "      <td>15758</td>\n",
       "      <td>16726</td>\n",
       "      <td>816151</td>\n",
       "      <td>988</td>\n",
       "      <td>Ida🍂</td>\n",
       "      <td>https://scontent.xx.fbcdn.net/v/t51.2885-15/39...</td>\n",
       "      <td>2018-09-04 22:20:39</td>\n",
       "      <td>52.854233</td>\n",
       "    </tr>\n",
       "    <tr>\n",
       "      <th>8</th>\n",
       "      <td>17841406827898653</td>\n",
       "      <td>kelly_younique</td>\n",
       "      <td>☆ Compte professionnel ☆\\n• Maquillages et soi...</td>\n",
       "      <td>46</td>\n",
       "      <td>809</td>\n",
       "      <td>1636</td>\n",
       "      <td>38</td>\n",
       "      <td>Kelly Distributrice Younique ☄</td>\n",
       "      <td>https://scontent.xx.fbcdn.net/v/t51.2885-15/28...</td>\n",
       "      <td>2018-09-04 22:20:41</td>\n",
       "      <td>53.152174</td>\n",
       "    </tr>\n",
       "    <tr>\n",
       "      <th>9</th>\n",
       "      <td>17841401010512180</td>\n",
       "      <td>labricosmetics</td>\n",
       "      <td>Wear nothing but...\\nLa’Bri cosmetics💄\\nFounde...</td>\n",
       "      <td>138</td>\n",
       "      <td>3441</td>\n",
       "      <td>3494</td>\n",
       "      <td>79</td>\n",
       "      <td>La'Bri Cosmetics™️</td>\n",
       "      <td>https://scontent.xx.fbcdn.net/v/t51.2885-15/28...</td>\n",
       "      <td>2018-09-04 22:20:46</td>\n",
       "      <td>50.253623</td>\n",
       "    </tr>\n",
       "    <tr>\n",
       "      <th>10</th>\n",
       "      <td>17841401881723954</td>\n",
       "      <td>iuliiatravels</td>\n",
       "      <td>✑ My story on the pics\\n✰ From Kyiv, Ukraine\\n...</td>\n",
       "      <td>10659</td>\n",
       "      <td>12908</td>\n",
       "      <td>316153</td>\n",
       "      <td>1524</td>\n",
       "      <td>Iuliia TRAVELS</td>\n",
       "      <td>https://scontent.xx.fbcdn.net/v/t51.2885-15/30...</td>\n",
       "      <td>2018-09-04 22:20:51</td>\n",
       "      <td>30.871658</td>\n",
       "    </tr>\n",
       "    <tr>\n",
       "      <th>11</th>\n",
       "      <td>17841400324489273</td>\n",
       "      <td>leo_elham</td>\n",
       "      <td>More love less hate!!\\n- Fashion &amp; lifestyle b...</td>\n",
       "      <td>4354</td>\n",
       "      <td>54357</td>\n",
       "      <td>153153</td>\n",
       "      <td>93</td>\n",
       "      <td>Leo 👑💎</td>\n",
       "      <td>https://scontent.xx.fbcdn.net/v/t51.2885-15/30...</td>\n",
       "      <td>2018-09-04 22:20:53</td>\n",
       "      <td>47.659623</td>\n",
       "    </tr>\n",
       "    <tr>\n",
       "      <th>12</th>\n",
       "      <td>17841400380314826</td>\n",
       "      <td>zeenickster</td>\n",
       "      <td>🇮🇪🇯🇲🇰🇾\\nPremier Medical Billings 📄🏩\\nIslestyle...</td>\n",
       "      <td>2709</td>\n",
       "      <td>4791</td>\n",
       "      <td>95162</td>\n",
       "      <td>451</td>\n",
       "      <td>ᴢᴇᴇɴɪᴄᴋѕᴛᴇʀ™️ | Cayman Islands</td>\n",
       "      <td>https://scontent.xx.fbcdn.net/v/t51.2885-15/10...</td>\n",
       "      <td>2018-09-04 22:20:57</td>\n",
       "      <td>36.896641</td>\n",
       "    </tr>\n",
       "    <tr>\n",
       "      <th>13</th>\n",
       "      <td>17841401329548384</td>\n",
       "      <td>fabiananoman</td>\n",
       "      <td>🏃‍♀️Vida saudável, longa e feliz - @bioritmo 💥...</td>\n",
       "      <td>161385</td>\n",
       "      <td>118632</td>\n",
       "      <td>3635010</td>\n",
       "      <td>1085</td>\n",
       "      <td>Fabiana Noman</td>\n",
       "      <td>https://scontent.xx.fbcdn.net/v/t51.2885-15/31...</td>\n",
       "      <td>2018-09-04 22:21:02</td>\n",
       "      <td>23.258927</td>\n",
       "    </tr>\n",
       "    <tr>\n",
       "      <th>14</th>\n",
       "      <td>17841401129740486</td>\n",
       "      <td>rachelgeebee</td>\n",
       "      <td>💁🏼 Influencing friends and family for ages. \\n...</td>\n",
       "      <td>16211</td>\n",
       "      <td>12897</td>\n",
       "      <td>258533</td>\n",
       "      <td>3269</td>\n",
       "      <td>Rachel</td>\n",
       "      <td>https://scontent.xx.fbcdn.net/v/t51.2885-15/13...</td>\n",
       "      <td>2018-09-04 22:21:08</td>\n",
       "      <td>16.743569</td>\n",
       "    </tr>\n",
       "    <tr>\n",
       "      <th>15</th>\n",
       "      <td>17841400703180103</td>\n",
       "      <td>shantayaspeaks</td>\n",
       "      <td>CEO | Cali 🌞 | Author | Producer | Celebrity T...</td>\n",
       "      <td>1831</td>\n",
       "      <td>87170</td>\n",
       "      <td>120539</td>\n",
       "      <td>257</td>\n",
       "      <td>S H A N T A Y A</td>\n",
       "      <td>https://scontent.xx.fbcdn.net/v/t51.2885-15/22...</td>\n",
       "      <td>2018-09-04 22:21:10</td>\n",
       "      <td>113.440197</td>\n",
       "    </tr>\n",
       "    <tr>\n",
       "      <th>16</th>\n",
       "      <td>17841401801650432</td>\n",
       "      <td>jufprado</td>\n",
       "      <td>🦄Meiga, pero no mucho - XXII</td>\n",
       "      <td>1924</td>\n",
       "      <td>57581</td>\n",
       "      <td>79460</td>\n",
       "      <td>54</td>\n",
       "      <td>J U L I A</td>\n",
       "      <td>https://scontent.xx.fbcdn.net/v/t51.2885-15/27...</td>\n",
       "      <td>2018-09-04 22:21:13</td>\n",
       "      <td>71.227131</td>\n",
       "    </tr>\n",
       "    <tr>\n",
       "      <th>17</th>\n",
       "      <td>17841400157983230</td>\n",
       "      <td>thelionoffashion</td>\n",
       "      <td>💎Mummy💙⭐🧚‍♀️✨♌ 👑LA @bloomingdales Men’s Stylis...</td>\n",
       "      <td>202</td>\n",
       "      <td>5004</td>\n",
       "      <td>22987</td>\n",
       "      <td>32</td>\n",
       "      <td>R A C H E L  H I L L</td>\n",
       "      <td>https://scontent.xx.fbcdn.net/v/t51.2885-15/38...</td>\n",
       "      <td>2018-09-04 22:21:17</td>\n",
       "      <td>138.569307</td>\n",
       "    </tr>\n",
       "    <tr>\n",
       "      <th>18</th>\n",
       "      <td>17841401080813112</td>\n",
       "      <td>gallucks</td>\n",
       "      <td>∅ London \\n◊ gallucks@insanityhq.com\\nΩ #gallu...</td>\n",
       "      <td>101649</td>\n",
       "      <td>134559</td>\n",
       "      <td>7083685</td>\n",
       "      <td>3138</td>\n",
       "      <td>𝕵𝖔𝖊𝖑</td>\n",
       "      <td>https://scontent.xx.fbcdn.net/v/t51.2885-15/36...</td>\n",
       "      <td>2018-09-04 22:21:55</td>\n",
       "      <td>71.011461</td>\n",
       "    </tr>\n",
       "    <tr>\n",
       "      <th>19</th>\n",
       "      <td>17841400196770286</td>\n",
       "      <td>aprelplayer</td>\n",
       "      <td>nan</td>\n",
       "      <td>1399</td>\n",
       "      <td>15711</td>\n",
       "      <td>119287</td>\n",
       "      <td>160</td>\n",
       "      <td>Aprel Player</td>\n",
       "      <td>https://scontent.xx.fbcdn.net/v/t51.2885-15/35...</td>\n",
       "      <td>2018-08-23 14:14:15</td>\n",
       "      <td>96.496069</td>\n",
       "    </tr>\n",
       "    <tr>\n",
       "      <th>20</th>\n",
       "      <td>17841401875396026</td>\n",
       "      <td>danielleyen_official</td>\n",
       "      <td>📍 World citizen \\n🎬 Actress💃🏻 Fashion Model 🇬🇧...</td>\n",
       "      <td>1974</td>\n",
       "      <td>23546</td>\n",
       "      <td>43757</td>\n",
       "      <td>1236</td>\n",
       "      <td>顏卉婕 Danielle Yen / Actress</td>\n",
       "      <td>https://scontent.xx.fbcdn.net/v/t51.2885-15/35...</td>\n",
       "      <td>2018-09-04 22:22:35</td>\n",
       "      <td>34.094732</td>\n",
       "    </tr>\n",
       "    <tr>\n",
       "      <th>21</th>\n",
       "      <td>17841400071014572</td>\n",
       "      <td>__clairemac</td>\n",
       "      <td>🐦 @__clairemac\\n📍 Leeds\\n📧 ClaireMacBlog@gmail...</td>\n",
       "      <td>2785</td>\n",
       "      <td>753</td>\n",
       "      <td>32001</td>\n",
       "      <td>1174</td>\n",
       "      <td>Claire Mac</td>\n",
       "      <td>https://scontent.xx.fbcdn.net/v/t51.2885-15/38...</td>\n",
       "      <td>2018-09-04 22:22:39</td>\n",
       "      <td>11.760862</td>\n",
       "    </tr>\n",
       "    <tr>\n",
       "      <th>22</th>\n",
       "      <td>17841400589580479</td>\n",
       "      <td>heynatureindonesia</td>\n",
       "      <td>KOREAN ORIGINAL KOSMETIK\\nWA 082298670750 RESE...</td>\n",
       "      <td>1207</td>\n",
       "      <td>14624</td>\n",
       "      <td>21793</td>\n",
       "      <td>625</td>\n",
       "      <td>STORE PERTAMA DI INDONESIA</td>\n",
       "      <td>https://scontent.xx.fbcdn.net/v/t51.2885-15/38...</td>\n",
       "      <td>2018-09-04 22:22:47</td>\n",
       "      <td>30.171500</td>\n",
       "    </tr>\n",
       "    <tr>\n",
       "      <th>23</th>\n",
       "      <td>17841400105111710</td>\n",
       "      <td>picfromparis</td>\n",
       "      <td>📍 Paris\\n✉ Shoot and collaboration mp</td>\n",
       "      <td>23000</td>\n",
       "      <td>84886</td>\n",
       "      <td>2134720</td>\n",
       "      <td>1142</td>\n",
       "      <td>Sébastien</td>\n",
       "      <td>https://scontent.xx.fbcdn.net/v/t51.2885-15/22...</td>\n",
       "      <td>2018-09-04 22:23:03</td>\n",
       "      <td>96.504609</td>\n",
       "    </tr>\n",
       "    <tr>\n",
       "      <th>24</th>\n",
       "      <td>17841401032183670</td>\n",
       "      <td>bradcanning</td>\n",
       "      <td>let’s be friends✨\\n📍 melbourne • australia \\n📧...</td>\n",
       "      <td>3832</td>\n",
       "      <td>10583</td>\n",
       "      <td>68141</td>\n",
       "      <td>740</td>\n",
       "      <td>BRAD CANNING</td>\n",
       "      <td>https://scontent.xx.fbcdn.net/v/t51.2885-15/39...</td>\n",
       "      <td>2018-09-04 22:23:10</td>\n",
       "      <td>20.543841</td>\n",
       "    </tr>\n",
       "    <tr>\n",
       "      <th>25</th>\n",
       "      <td>17841400071554638</td>\n",
       "      <td>theburguesinha</td>\n",
       "      <td>nan</td>\n",
       "      <td>6845</td>\n",
       "      <td>8901</td>\n",
       "      <td>259133</td>\n",
       "      <td>1287</td>\n",
       "      <td>INGRID ♡</td>\n",
       "      <td>https://scontent.xx.fbcdn.net/v/t51.2885-15/36...</td>\n",
       "      <td>2018-01-01 00:00:00</td>\n",
       "      <td>39.157633</td>\n",
       "    </tr>\n",
       "    <tr>\n",
       "      <th>26</th>\n",
       "      <td>17841400576457916</td>\n",
       "      <td>lindaotiende</td>\n",
       "      <td>Content Creator\\nCollaborations ✉ info@lindasw...</td>\n",
       "      <td>3095</td>\n",
       "      <td>9522</td>\n",
       "      <td>55213</td>\n",
       "      <td>269</td>\n",
       "      <td>Linda Otiende</td>\n",
       "      <td>https://scontent.xx.fbcdn.net/v/t51.2885-15/39...</td>\n",
       "      <td>2018-09-04 22:23:18</td>\n",
       "      <td>20.915994</td>\n",
       "    </tr>\n",
       "    <tr>\n",
       "      <th>27</th>\n",
       "      <td>17841400285273063</td>\n",
       "      <td>sarahdegheselle</td>\n",
       "      <td>🙋🏼 Making memories all over the 🌏\\n✈️ 🔜: #lond...</td>\n",
       "      <td>25793</td>\n",
       "      <td>48631</td>\n",
       "      <td>372704</td>\n",
       "      <td>317</td>\n",
       "      <td>Sarah De Gheselle</td>\n",
       "      <td>https://scontent.xx.fbcdn.net/v/t51.2885-15/30...</td>\n",
       "      <td>2018-09-04 22:23:20</td>\n",
       "      <td>16.335246</td>\n",
       "    </tr>\n",
       "    <tr>\n",
       "      <th>28</th>\n",
       "      <td>17841400051573969</td>\n",
       "      <td>badandclassyy</td>\n",
       "      <td>\"Be the designer of your own destiny.\"\\n👠 Fash...</td>\n",
       "      <td>1233</td>\n",
       "      <td>4361</td>\n",
       "      <td>54247</td>\n",
       "      <td>365</td>\n",
       "      <td>Ilaria Senatore</td>\n",
       "      <td>https://scontent.xx.fbcdn.net/v/t51.2885-15/39...</td>\n",
       "      <td>2018-09-04 22:23:25</td>\n",
       "      <td>47.532847</td>\n",
       "    </tr>\n",
       "    <tr>\n",
       "      <th>29</th>\n",
       "      <td>17841401504920075</td>\n",
       "      <td>jasminelhr</td>\n",
       "      <td>🐚 1995 Chinese Filipino ⠀ ⠀ ⠀⠀⠀ ⠀⠀⠀ ⠀ ⠀⠀⠀ ⠀ ⠀ ...</td>\n",
       "      <td>7074</td>\n",
       "      <td>84216</td>\n",
       "      <td>947930</td>\n",
       "      <td>865</td>\n",
       "      <td>✨ J A S M I N E  L E E</td>\n",
       "      <td>https://scontent.xx.fbcdn.net/v/t51.2885-15/39...</td>\n",
       "      <td>2018-09-04 22:23:30</td>\n",
       "      <td>145.906983</td>\n",
       "    </tr>\n",
       "    <tr>\n",
       "      <th>...</th>\n",
       "      <td>...</td>\n",
       "      <td>...</td>\n",
       "      <td>...</td>\n",
       "      <td>...</td>\n",
       "      <td>...</td>\n",
       "      <td>...</td>\n",
       "      <td>...</td>\n",
       "      <td>...</td>\n",
       "      <td>...</td>\n",
       "      <td>...</td>\n",
       "      <td>...</td>\n",
       "    </tr>\n",
       "    <tr>\n",
       "      <th>5735</th>\n",
       "      <td>17841401217073564</td>\n",
       "      <td>kaoir</td>\n",
       "      <td>OFFICIAL Instagram for KA'OIR Cosmetics. Lipst...</td>\n",
       "      <td>56081</td>\n",
       "      <td>237244</td>\n",
       "      <td>4035873</td>\n",
       "      <td>4029</td>\n",
       "      <td>KA'OIR COSMETICS</td>\n",
       "      <td>https://scontent.xx.fbcdn.net/v/t51.2885-15/22...</td>\n",
       "      <td>2018-08-25 05:02:09</td>\n",
       "      <td>76.195449</td>\n",
       "    </tr>\n",
       "    <tr>\n",
       "      <th>5736</th>\n",
       "      <td>17841401540917977</td>\n",
       "      <td>hdacle</td>\n",
       "      <td>Bay Area ➡️ San Diego ➡️ LA\\r\\n•\\r\\nEvent Plan...</td>\n",
       "      <td>145</td>\n",
       "      <td>12176</td>\n",
       "      <td>26921</td>\n",
       "      <td>68</td>\n",
       "      <td>Jet Le</td>\n",
       "      <td>https://scontent.xx.fbcdn.net/v/t51.2885-15/37...</td>\n",
       "      <td>2018-01-01 00:00:00</td>\n",
       "      <td>269.634483</td>\n",
       "    </tr>\n",
       "    <tr>\n",
       "      <th>5737</th>\n",
       "      <td>17841401379100209</td>\n",
       "      <td>meganbrigette</td>\n",
       "      <td>A journalist and fashion/travel blogger from V...</td>\n",
       "      <td>1342</td>\n",
       "      <td>262</td>\n",
       "      <td>15505</td>\n",
       "      <td>1695</td>\n",
       "      <td>meganbrigette</td>\n",
       "      <td>https://scontent.xx.fbcdn.net/v/t51.2885-15/28...</td>\n",
       "      <td>2018-01-01 00:00:00</td>\n",
       "      <td>11.748882</td>\n",
       "    </tr>\n",
       "    <tr>\n",
       "      <th>5738</th>\n",
       "      <td>17841401916394851</td>\n",
       "      <td>universalhairandmakeup</td>\n",
       "      <td>Dedicated to ALL MUA's\\n❤️|NO Discrimination/H...</td>\n",
       "      <td>47364</td>\n",
       "      <td>118234</td>\n",
       "      <td>2104571</td>\n",
       "      <td>3934</td>\n",
       "      <td>🎀 Universal Hair &amp; Makeup 🎀</td>\n",
       "      <td>https://scontent.xx.fbcdn.net/v/t51.2885-15/28...</td>\n",
       "      <td>2018-08-23 22:24:52</td>\n",
       "      <td>46.930263</td>\n",
       "    </tr>\n",
       "    <tr>\n",
       "      <th>5739</th>\n",
       "      <td>17841401179276310</td>\n",
       "      <td>tan_jie_yee</td>\n",
       "      <td>🌏Kedah,Malaysia🇲🇾 \\n🍽️Vegetarian🍎🍵\\n🛍 Shop onl...</td>\n",
       "      <td>427</td>\n",
       "      <td>2125</td>\n",
       "      <td>12261</td>\n",
       "      <td>39</td>\n",
       "      <td>Jie Yee (Mabel)</td>\n",
       "      <td>https://scontent.xx.fbcdn.net/v/t51.2885-15/35...</td>\n",
       "      <td>2018-01-01 00:00:00</td>\n",
       "      <td>33.690867</td>\n",
       "    </tr>\n",
       "    <tr>\n",
       "      <th>5740</th>\n",
       "      <td>17841401249680770</td>\n",
       "      <td>abood_shwaimeh</td>\n",
       "      <td>Hi , I'm Abood • Jordan •\\n- a.shwaimeh@gmail....</td>\n",
       "      <td>12769</td>\n",
       "      <td>366249</td>\n",
       "      <td>1712319</td>\n",
       "      <td>618</td>\n",
       "      <td>Abood Shwaimeh Official</td>\n",
       "      <td>https://scontent.xx.fbcdn.net/v/t51.2885-15/21...</td>\n",
       "      <td>2018-08-23 20:54:10</td>\n",
       "      <td>162.782364</td>\n",
       "    </tr>\n",
       "    <tr>\n",
       "      <th>5741</th>\n",
       "      <td>17841400682833434</td>\n",
       "      <td>anamnesia_</td>\n",
       "      <td>🌸Decepcionando pessoas desde 1993🌸\\n📍SP • Arte...</td>\n",
       "      <td>1649</td>\n",
       "      <td>7927</td>\n",
       "      <td>83748</td>\n",
       "      <td>398</td>\n",
       "      <td>𝔸𝕟𝕒 𝔾.</td>\n",
       "      <td>https://scontent.xx.fbcdn.net/v/t51.2885-15/36...</td>\n",
       "      <td>2018-08-26 18:47:24</td>\n",
       "      <td>55.594300</td>\n",
       "    </tr>\n",
       "    <tr>\n",
       "      <th>5742</th>\n",
       "      <td>17841400456447084</td>\n",
       "      <td>threadsnbreads</td>\n",
       "      <td>Foodie who ❤️s fashion \\n🌴 OC/LA Daily IGStory...</td>\n",
       "      <td>28491</td>\n",
       "      <td>11972</td>\n",
       "      <td>181421</td>\n",
       "      <td>1089</td>\n",
       "      <td>MINDY 🎀🍞 threads &amp; breads</td>\n",
       "      <td>https://scontent.xx.fbcdn.net/v/t51.2885-15/32...</td>\n",
       "      <td>2018-08-23 01:54:20</td>\n",
       "      <td>6.787863</td>\n",
       "    </tr>\n",
       "    <tr>\n",
       "      <th>5743</th>\n",
       "      <td>17841400832806420</td>\n",
       "      <td>brittanyccampbell</td>\n",
       "      <td>Come thrive with me. http://bcamp28.le-vel.com...</td>\n",
       "      <td>816</td>\n",
       "      <td>1331</td>\n",
       "      <td>12711</td>\n",
       "      <td>517</td>\n",
       "      <td>brittanyccampbell</td>\n",
       "      <td>https://scontent.xx.fbcdn.net/v/t51.2885-15/31...</td>\n",
       "      <td>2018-01-01 00:00:00</td>\n",
       "      <td>17.208333</td>\n",
       "    </tr>\n",
       "    <tr>\n",
       "      <th>5744</th>\n",
       "      <td>17841401019862294</td>\n",
       "      <td>missjazminad</td>\n",
       "      <td>⠀⠀⠀⠀⠀ ⠀⠀⠀ ⠀⠀⠀⠀⠀⠀\\nAussie in LA 🌴\\nBusiness inq...</td>\n",
       "      <td>385825</td>\n",
       "      <td>1242856</td>\n",
       "      <td>23303716</td>\n",
       "      <td>880</td>\n",
       "      <td>Jazmina Daniel</td>\n",
       "      <td>https://scontent.xx.fbcdn.net/v/t51.2885-15/27...</td>\n",
       "      <td>2018-01-01 00:00:00</td>\n",
       "      <td>63.620999</td>\n",
       "    </tr>\n",
       "    <tr>\n",
       "      <th>5745</th>\n",
       "      <td>17841401764693004</td>\n",
       "      <td>stylebyaarika</td>\n",
       "      <td>Live. ♡. Style\\nTransatlantic Published #Fashi...</td>\n",
       "      <td>1008</td>\n",
       "      <td>1284</td>\n",
       "      <td>23407</td>\n",
       "      <td>451</td>\n",
       "      <td>Aarika Lauryn • Fashion</td>\n",
       "      <td>https://scontent.xx.fbcdn.net/v/t51.2885-15/38...</td>\n",
       "      <td>2018-08-23 20:14:03</td>\n",
       "      <td>24.495040</td>\n",
       "    </tr>\n",
       "    <tr>\n",
       "      <th>5746</th>\n",
       "      <td>17841402289593448</td>\n",
       "      <td>wanderlust_and_travels</td>\n",
       "      <td>Physiotherapist and dancer consumed by wanderl...</td>\n",
       "      <td>5215</td>\n",
       "      <td>17293</td>\n",
       "      <td>169132</td>\n",
       "      <td>257</td>\n",
       "      <td>Amy Bruen</td>\n",
       "      <td>https://scontent.xx.fbcdn.net/v/t51.2885-15/19...</td>\n",
       "      <td>2018-08-23 12:41:45</td>\n",
       "      <td>35.747843</td>\n",
       "    </tr>\n",
       "    <tr>\n",
       "      <th>5747</th>\n",
       "      <td>17841401218054706</td>\n",
       "      <td>yogasearcher</td>\n",
       "      <td>French yoga brand from Biarritz - Hossegor\\n🌀 ...</td>\n",
       "      <td>1775</td>\n",
       "      <td>6284</td>\n",
       "      <td>58797</td>\n",
       "      <td>784</td>\n",
       "      <td>Yoga Searcher - Yogi Wear</td>\n",
       "      <td>https://scontent.xx.fbcdn.net/v/t51.2885-15/18...</td>\n",
       "      <td>2018-08-26 15:01:14</td>\n",
       "      <td>36.665352</td>\n",
       "    </tr>\n",
       "    <tr>\n",
       "      <th>5748</th>\n",
       "      <td>17841401370904694</td>\n",
       "      <td>emelinreyes1</td>\n",
       "      <td>Model | Singer | Fashion \\nAccount Managed by ...</td>\n",
       "      <td>2822</td>\n",
       "      <td>14897</td>\n",
       "      <td>155953</td>\n",
       "      <td>314</td>\n",
       "      <td>Fashion Model 💟</td>\n",
       "      <td>https://scontent.xx.fbcdn.net/v/t51.2885-15/20...</td>\n",
       "      <td>2018-08-23 12:40:44</td>\n",
       "      <td>60.542169</td>\n",
       "    </tr>\n",
       "    <tr>\n",
       "      <th>5749</th>\n",
       "      <td>17841400954450417</td>\n",
       "      <td>hollylollipoppins</td>\n",
       "      <td>Makeup | Hair | Dancer | Model | Motives Cosme...</td>\n",
       "      <td>2005</td>\n",
       "      <td>2066</td>\n",
       "      <td>40186</td>\n",
       "      <td>1144</td>\n",
       "      <td>Hollylollipoppins</td>\n",
       "      <td>https://scontent.xx.fbcdn.net/v/t51.2885-15/13...</td>\n",
       "      <td>2018-08-25 22:17:08</td>\n",
       "      <td>21.073317</td>\n",
       "    </tr>\n",
       "    <tr>\n",
       "      <th>5750</th>\n",
       "      <td>17841401272291807</td>\n",
       "      <td>indianstreetfashion</td>\n",
       "      <td>•Fashion•Weddings•Beauty\\n•Honeymoon Travel •L...</td>\n",
       "      <td>117354</td>\n",
       "      <td>721335</td>\n",
       "      <td>21770033</td>\n",
       "      <td>7253</td>\n",
       "      <td>Indianstreetfashion</td>\n",
       "      <td>https://scontent.xx.fbcdn.net/v/t51.2885-15/10...</td>\n",
       "      <td>2018-01-01 00:00:00</td>\n",
       "      <td>191.654038</td>\n",
       "    </tr>\n",
       "    <tr>\n",
       "      <th>5751</th>\n",
       "      <td>17841400847880157</td>\n",
       "      <td>inamora.pro</td>\n",
       "      <td>✏️ Блогер, колумнист.\\n💕 Пишу о мужчинах, брак...</td>\n",
       "      <td>8583</td>\n",
       "      <td>21551</td>\n",
       "      <td>216358</td>\n",
       "      <td>448</td>\n",
       "      <td>ЮЛЯ ИНАМОРА</td>\n",
       "      <td>https://scontent.xx.fbcdn.net/v/t51.2885-15/22...</td>\n",
       "      <td>2018-08-24 21:36:00</td>\n",
       "      <td>27.718630</td>\n",
       "    </tr>\n",
       "    <tr>\n",
       "      <th>5752</th>\n",
       "      <td>17841401008723288</td>\n",
       "      <td>arturogtz12</td>\n",
       "      <td>📍Mexico 🇲🇽 | GDL 👻arturogtz12 \\r\\n📩contacto: j...</td>\n",
       "      <td>2212</td>\n",
       "      <td>3125</td>\n",
       "      <td>29241</td>\n",
       "      <td>136</td>\n",
       "      <td>Arturo M. Gautier</td>\n",
       "      <td>https://scontent.xx.fbcdn.net/v/t51.2885-15/31...</td>\n",
       "      <td>2018-01-01 00:00:00</td>\n",
       "      <td>14.632007</td>\n",
       "    </tr>\n",
       "    <tr>\n",
       "      <th>5753</th>\n",
       "      <td>17841400614930936</td>\n",
       "      <td>catswiththeirtonguesout</td>\n",
       "      <td>TO SUBMIT:\\n▪️Follow us\\n▪️Tag #catswiththeirt...</td>\n",
       "      <td>290907</td>\n",
       "      <td>158235</td>\n",
       "      <td>6563982</td>\n",
       "      <td>2389</td>\n",
       "      <td>Cats With Their Tongues Out</td>\n",
       "      <td>https://scontent.xx.fbcdn.net/v/t51.2885-15/13...</td>\n",
       "      <td>2018-08-23 21:06:12</td>\n",
       "      <td>23.107787</td>\n",
       "    </tr>\n",
       "    <tr>\n",
       "      <th>5754</th>\n",
       "      <td>17841400980765724</td>\n",
       "      <td>shopsatlegacy</td>\n",
       "      <td>#shopsatlegacy | Urban Outfitters| The Keeper ...</td>\n",
       "      <td>3903</td>\n",
       "      <td>4992</td>\n",
       "      <td>19691</td>\n",
       "      <td>1028</td>\n",
       "      <td>The Shops at Legacy</td>\n",
       "      <td>https://scontent.xx.fbcdn.net/v/t51.2885-15/11...</td>\n",
       "      <td>2018-08-26 02:30:18</td>\n",
       "      <td>6.324110</td>\n",
       "    </tr>\n",
       "    <tr>\n",
       "      <th>5755</th>\n",
       "      <td>17841400432156097</td>\n",
       "      <td>thechicspell</td>\n",
       "      <td>FASHION STYLIST ❤YOUTUBER\\r\\n♊️GEMINI ♊️\\r\\n👻-...</td>\n",
       "      <td>301</td>\n",
       "      <td>3036</td>\n",
       "      <td>6466</td>\n",
       "      <td>212</td>\n",
       "      <td>DEEKSHA ♥ TheChicSpell</td>\n",
       "      <td>https://scontent.xx.fbcdn.net/v/t51.2885-15/15...</td>\n",
       "      <td>2018-01-01 00:00:00</td>\n",
       "      <td>31.568106</td>\n",
       "    </tr>\n",
       "    <tr>\n",
       "      <th>5756</th>\n",
       "      <td>17841401283733968</td>\n",
       "      <td>carlaburlamaqui</td>\n",
       "      <td>✝∞ ᴅᴇᴜs é ᴀᴍᴏʀ ♡\\n@domeeventos\\n@feiramodafrea...</td>\n",
       "      <td>1900</td>\n",
       "      <td>1964</td>\n",
       "      <td>21594</td>\n",
       "      <td>226</td>\n",
       "      <td>Carla Burlamaqui</td>\n",
       "      <td>https://scontent.xx.fbcdn.net/v/t51.2885-15/37...</td>\n",
       "      <td>2018-01-01 00:00:00</td>\n",
       "      <td>12.398947</td>\n",
       "    </tr>\n",
       "    <tr>\n",
       "      <th>5757</th>\n",
       "      <td>17841402384135035</td>\n",
       "      <td>chantelle_lajoy</td>\n",
       "      <td>Nothing Natural here sis 💁🏾‍♀️\\nDripping in Me...</td>\n",
       "      <td>2268</td>\n",
       "      <td>8204</td>\n",
       "      <td>27207</td>\n",
       "      <td>34</td>\n",
       "      <td>Chantelle La'Joy</td>\n",
       "      <td>https://scontent.xx.fbcdn.net/v/t51.2885-15/38...</td>\n",
       "      <td>2018-08-25 00:44:26</td>\n",
       "      <td>15.613316</td>\n",
       "    </tr>\n",
       "    <tr>\n",
       "      <th>5758</th>\n",
       "      <td>17841404450115172</td>\n",
       "      <td>thekarlibandura</td>\n",
       "      <td>Business Student\\nFashion &amp; Lifestyle</td>\n",
       "      <td>604</td>\n",
       "      <td>455</td>\n",
       "      <td>12446</td>\n",
       "      <td>208</td>\n",
       "      <td>Karli Bandura</td>\n",
       "      <td>https://scontent.xx.fbcdn.net/v/t51.2885-15/30...</td>\n",
       "      <td>2018-08-23 20:24:38</td>\n",
       "      <td>21.359272</td>\n",
       "    </tr>\n",
       "    <tr>\n",
       "      <th>5759</th>\n",
       "      <td>17841401916790057</td>\n",
       "      <td>elizabethmarte</td>\n",
       "      <td>Founder @fashionclimaxx2\\nMom of a Champion @i...</td>\n",
       "      <td>8845</td>\n",
       "      <td>38914</td>\n",
       "      <td>103178</td>\n",
       "      <td>209</td>\n",
       "      <td>Social Media &amp; Style Expert</td>\n",
       "      <td>https://scontent.xx.fbcdn.net/v/t51.2885-15/12...</td>\n",
       "      <td>2018-08-22 20:37:59</td>\n",
       "      <td>16.064669</td>\n",
       "    </tr>\n",
       "    <tr>\n",
       "      <th>5760</th>\n",
       "      <td>17841400877209922</td>\n",
       "      <td>_jakemorris__</td>\n",
       "      <td>尊重</td>\n",
       "      <td>2</td>\n",
       "      <td>991</td>\n",
       "      <td>125</td>\n",
       "      <td>5</td>\n",
       "      <td>J17🇬🇧🇨🇳</td>\n",
       "      <td>https://scontent.xx.fbcdn.net/v/t51.2885-15/36...</td>\n",
       "      <td>2018-08-23 00:42:58</td>\n",
       "      <td>558.000000</td>\n",
       "    </tr>\n",
       "    <tr>\n",
       "      <th>5761</th>\n",
       "      <td>17841400821370088</td>\n",
       "      <td>thiagobiagi</td>\n",
       "      <td>Fashion Stylist  | SP | 🇧🇷 |\\n✉️ thiago.biagi1...</td>\n",
       "      <td>21024</td>\n",
       "      <td>54900</td>\n",
       "      <td>1129445</td>\n",
       "      <td>5254</td>\n",
       "      <td>Thiago Biagi</td>\n",
       "      <td>https://scontent.xx.fbcdn.net/v/t51.2885-15/26...</td>\n",
       "      <td>2018-08-22 23:30:31</td>\n",
       "      <td>56.333000</td>\n",
       "    </tr>\n",
       "    <tr>\n",
       "      <th>5762</th>\n",
       "      <td>17841400925126395</td>\n",
       "      <td>mariandthecity</td>\n",
       "      <td>🌎 Travel &amp; Lifestyle.\\n🇬🇧 Brazilian based in U...</td>\n",
       "      <td>19068</td>\n",
       "      <td>59380</td>\n",
       "      <td>792235</td>\n",
       "      <td>1162</td>\n",
       "      <td>Mariana Martins (Mari)</td>\n",
       "      <td>https://scontent.xx.fbcdn.net/v/t51.2885-15/16...</td>\n",
       "      <td>2018-08-23 01:25:02</td>\n",
       "      <td>44.661999</td>\n",
       "    </tr>\n",
       "    <tr>\n",
       "      <th>5763</th>\n",
       "      <td>17841401337250786</td>\n",
       "      <td>minimagazine</td>\n",
       "      <td>Digital lifestyle publication for the modern p...</td>\n",
       "      <td>17262</td>\n",
       "      <td>40680</td>\n",
       "      <td>344515</td>\n",
       "      <td>1770</td>\n",
       "      <td>Mini Magazine</td>\n",
       "      <td>https://scontent.xx.fbcdn.net/v/t51.2885-15/12...</td>\n",
       "      <td>2018-08-24 21:17:22</td>\n",
       "      <td>22.314622</td>\n",
       "    </tr>\n",
       "    <tr>\n",
       "      <th>5764</th>\n",
       "      <td>17841400220818918</td>\n",
       "      <td>lunycherry</td>\n",
       "      <td>☾ nyc☽</td>\n",
       "      <td>6743</td>\n",
       "      <td>100329</td>\n",
       "      <td>1090405</td>\n",
       "      <td>179</td>\n",
       "      <td>Luna Serena</td>\n",
       "      <td>https://scontent.xx.fbcdn.net/v/t51.2885-15/25...</td>\n",
       "      <td>2018-08-24 12:13:08</td>\n",
       "      <td>176.588166</td>\n",
       "    </tr>\n",
       "  </tbody>\n",
       "</table>\n",
       "<p>5765 rows × 11 columns</p>\n",
       "</div>"
      ],
      "text/plain": [
       "                     id                 username  \\\n",
       "0     17841403192351597                 __twinkl   \n",
       "1     17841404101386592            sabrinamakeup   \n",
       "2     17841401557150231               asylumstar   \n",
       "3     17841400793636038       bonjour_beauty2020   \n",
       "4     17841402159001280     hanskincarecosmetics   \n",
       "5     17841400270633216         michellegungoren   \n",
       "6     17841400560913493            maxmonterroso   \n",
       "7     17841401775826181                   awilou   \n",
       "8     17841406827898653           kelly_younique   \n",
       "9     17841401010512180           labricosmetics   \n",
       "10    17841401881723954            iuliiatravels   \n",
       "11    17841400324489273                leo_elham   \n",
       "12    17841400380314826              zeenickster   \n",
       "13    17841401329548384             fabiananoman   \n",
       "14    17841401129740486             rachelgeebee   \n",
       "15    17841400703180103           shantayaspeaks   \n",
       "16    17841401801650432                 jufprado   \n",
       "17    17841400157983230         thelionoffashion   \n",
       "18    17841401080813112                 gallucks   \n",
       "19    17841400196770286              aprelplayer   \n",
       "20    17841401875396026     danielleyen_official   \n",
       "21    17841400071014572              __clairemac   \n",
       "22    17841400589580479       heynatureindonesia   \n",
       "23    17841400105111710             picfromparis   \n",
       "24    17841401032183670              bradcanning   \n",
       "25    17841400071554638           theburguesinha   \n",
       "26    17841400576457916             lindaotiende   \n",
       "27    17841400285273063          sarahdegheselle   \n",
       "28    17841400051573969            badandclassyy   \n",
       "29    17841401504920075               jasminelhr   \n",
       "...                 ...                      ...   \n",
       "5735  17841401217073564                    kaoir   \n",
       "5736  17841401540917977                   hdacle   \n",
       "5737  17841401379100209            meganbrigette   \n",
       "5738  17841401916394851   universalhairandmakeup   \n",
       "5739  17841401179276310              tan_jie_yee   \n",
       "5740  17841401249680770           abood_shwaimeh   \n",
       "5741  17841400682833434               anamnesia_   \n",
       "5742  17841400456447084           threadsnbreads   \n",
       "5743  17841400832806420        brittanyccampbell   \n",
       "5744  17841401019862294             missjazminad   \n",
       "5745  17841401764693004            stylebyaarika   \n",
       "5746  17841402289593448   wanderlust_and_travels   \n",
       "5747  17841401218054706             yogasearcher   \n",
       "5748  17841401370904694             emelinreyes1   \n",
       "5749  17841400954450417        hollylollipoppins   \n",
       "5750  17841401272291807      indianstreetfashion   \n",
       "5751  17841400847880157              inamora.pro   \n",
       "5752  17841401008723288              arturogtz12   \n",
       "5753  17841400614930936  catswiththeirtonguesout   \n",
       "5754  17841400980765724            shopsatlegacy   \n",
       "5755  17841400432156097             thechicspell   \n",
       "5756  17841401283733968          carlaburlamaqui   \n",
       "5757  17841402384135035          chantelle_lajoy   \n",
       "5758  17841404450115172          thekarlibandura   \n",
       "5759  17841401916790057           elizabethmarte   \n",
       "5760  17841400877209922            _jakemorris__   \n",
       "5761  17841400821370088              thiagobiagi   \n",
       "5762  17841400925126395           mariandthecity   \n",
       "5763  17841401337250786             minimagazine   \n",
       "5764  17841400220818918               lunycherry   \n",
       "\n",
       "                                              biography  comments_count  \\\n",
       "0     𖥸  Self Taught #MUE | 27 \\n𖥸 #beautyinfluencer...            6331   \n",
       "1     🔸Make up 💄💋\\n 🔸Atendemos  em domicílio     \\n ...              35   \n",
       "2     Pro MUA. Performer. Cosplayer. Content Creator...            5164   \n",
       "3     See What's Within \\nNC 👒 GA\\nCosmetologist| Ma...             353   \n",
       "4     🌿 HAN: Healthy And Natural. \\n💄 Helping you lo...            6130   \n",
       "5     Sweden \\n⚡When a woman's stories are \\nremembe...           18337   \n",
       "6     ⚓I've been a puppet, a pauper, a pirate, a poe...            6801   \n",
       "7     ↠ 21. she/her. ITA. \\n↠ snapchat: itsidax\\n↠ o...           15758   \n",
       "8     ☆ Compte professionnel ☆\\n• Maquillages et soi...              46   \n",
       "9     Wear nothing but...\\nLa’Bri cosmetics💄\\nFounde...             138   \n",
       "10    ✑ My story on the pics\\n✰ From Kyiv, Ukraine\\n...           10659   \n",
       "11    More love less hate!!\\n- Fashion & lifestyle b...            4354   \n",
       "12    🇮🇪🇯🇲🇰🇾\\nPremier Medical Billings 📄🏩\\nIslestyle...            2709   \n",
       "13    🏃‍♀️Vida saudável, longa e feliz - @bioritmo 💥...          161385   \n",
       "14    💁🏼 Influencing friends and family for ages. \\n...           16211   \n",
       "15    CEO | Cali 🌞 | Author | Producer | Celebrity T...            1831   \n",
       "16                         🦄Meiga, pero no mucho - XXII            1924   \n",
       "17    💎Mummy💙⭐🧚‍♀️✨♌ 👑LA @bloomingdales Men’s Stylis...             202   \n",
       "18    ∅ London \\n◊ gallucks@insanityhq.com\\nΩ #gallu...          101649   \n",
       "19                                                  nan            1399   \n",
       "20    📍 World citizen \\n🎬 Actress💃🏻 Fashion Model 🇬🇧...            1974   \n",
       "21    🐦 @__clairemac\\n📍 Leeds\\n📧 ClaireMacBlog@gmail...            2785   \n",
       "22    KOREAN ORIGINAL KOSMETIK\\nWA 082298670750 RESE...            1207   \n",
       "23                📍 Paris\\n✉ Shoot and collaboration mp           23000   \n",
       "24    let’s be friends✨\\n📍 melbourne • australia \\n📧...            3832   \n",
       "25                                                  nan            6845   \n",
       "26    Content Creator\\nCollaborations ✉ info@lindasw...            3095   \n",
       "27    🙋🏼 Making memories all over the 🌏\\n✈️ 🔜: #lond...           25793   \n",
       "28    \"Be the designer of your own destiny.\"\\n👠 Fash...            1233   \n",
       "29    🐚 1995 Chinese Filipino ⠀ ⠀ ⠀⠀⠀ ⠀⠀⠀ ⠀ ⠀⠀⠀ ⠀ ⠀ ...            7074   \n",
       "...                                                 ...             ...   \n",
       "5735  OFFICIAL Instagram for KA'OIR Cosmetics. Lipst...           56081   \n",
       "5736  Bay Area ➡️ San Diego ➡️ LA\\r\\n•\\r\\nEvent Plan...             145   \n",
       "5737  A journalist and fashion/travel blogger from V...            1342   \n",
       "5738  Dedicated to ALL MUA's\\n❤️|NO Discrimination/H...           47364   \n",
       "5739  🌏Kedah,Malaysia🇲🇾 \\n🍽️Vegetarian🍎🍵\\n🛍 Shop onl...             427   \n",
       "5740  Hi , I'm Abood • Jordan •\\n- a.shwaimeh@gmail....           12769   \n",
       "5741  🌸Decepcionando pessoas desde 1993🌸\\n📍SP • Arte...            1649   \n",
       "5742  Foodie who ❤️s fashion \\n🌴 OC/LA Daily IGStory...           28491   \n",
       "5743  Come thrive with me. http://bcamp28.le-vel.com...             816   \n",
       "5744  ⠀⠀⠀⠀⠀ ⠀⠀⠀ ⠀⠀⠀⠀⠀⠀\\nAussie in LA 🌴\\nBusiness inq...          385825   \n",
       "5745  Live. ♡. Style\\nTransatlantic Published #Fashi...            1008   \n",
       "5746  Physiotherapist and dancer consumed by wanderl...            5215   \n",
       "5747  French yoga brand from Biarritz - Hossegor\\n🌀 ...            1775   \n",
       "5748  Model | Singer | Fashion \\nAccount Managed by ...            2822   \n",
       "5749  Makeup | Hair | Dancer | Model | Motives Cosme...            2005   \n",
       "5750  •Fashion•Weddings•Beauty\\n•Honeymoon Travel •L...          117354   \n",
       "5751  ✏️ Блогер, колумнист.\\n💕 Пишу о мужчинах, брак...            8583   \n",
       "5752  📍Mexico 🇲🇽 | GDL 👻arturogtz12 \\r\\n📩contacto: j...            2212   \n",
       "5753  TO SUBMIT:\\n▪️Follow us\\n▪️Tag #catswiththeirt...          290907   \n",
       "5754  #shopsatlegacy | Urban Outfitters| The Keeper ...            3903   \n",
       "5755  FASHION STYLIST ❤YOUTUBER\\r\\n♊️GEMINI ♊️\\r\\n👻-...             301   \n",
       "5756  ✝∞ ᴅᴇᴜs é ᴀᴍᴏʀ ♡\\n@domeeventos\\n@feiramodafrea...            1900   \n",
       "5757  Nothing Natural here sis 💁🏾‍♀️\\nDripping in Me...            2268   \n",
       "5758              Business Student\\nFashion & Lifestyle             604   \n",
       "5759  Founder @fashionclimaxx2\\nMom of a Champion @i...            8845   \n",
       "5760                                                 尊重               2   \n",
       "5761  Fashion Stylist  | SP | 🇧🇷 |\\n✉️ thiago.biagi1...           21024   \n",
       "5762  🌎 Travel & Lifestyle.\\n🇬🇧 Brazilian based in U...           19068   \n",
       "5763  Digital lifestyle publication for the modern p...           17262   \n",
       "5764                                             ☾ nyc☽            6743   \n",
       "\n",
       "      followers_count  likes_count  media_count  \\\n",
       "0                5712        59383          675   \n",
       "1                 268          823           37   \n",
       "2                3868       133686         2639   \n",
       "3                 613         3909          131   \n",
       "4                7092        90044          873   \n",
       "5               60664       457365          157   \n",
       "6               39919       483423          574   \n",
       "7               16726       816151          988   \n",
       "8                 809         1636           38   \n",
       "9                3441         3494           79   \n",
       "10              12908       316153         1524   \n",
       "11              54357       153153           93   \n",
       "12               4791        95162          451   \n",
       "13             118632      3635010         1085   \n",
       "14              12897       258533         3269   \n",
       "15              87170       120539          257   \n",
       "16              57581        79460           54   \n",
       "17               5004        22987           32   \n",
       "18             134559      7083685         3138   \n",
       "19              15711       119287          160   \n",
       "20              23546        43757         1236   \n",
       "21                753        32001         1174   \n",
       "22              14624        21793          625   \n",
       "23              84886      2134720         1142   \n",
       "24              10583        68141          740   \n",
       "25               8901       259133         1287   \n",
       "26               9522        55213          269   \n",
       "27              48631       372704          317   \n",
       "28               4361        54247          365   \n",
       "29              84216       947930          865   \n",
       "...               ...          ...          ...   \n",
       "5735           237244      4035873         4029   \n",
       "5736            12176        26921           68   \n",
       "5737              262        15505         1695   \n",
       "5738           118234      2104571         3934   \n",
       "5739             2125        12261           39   \n",
       "5740           366249      1712319          618   \n",
       "5741             7927        83748          398   \n",
       "5742            11972       181421         1089   \n",
       "5743             1331        12711          517   \n",
       "5744          1242856     23303716          880   \n",
       "5745             1284        23407          451   \n",
       "5746            17293       169132          257   \n",
       "5747             6284        58797          784   \n",
       "5748            14897       155953          314   \n",
       "5749             2066        40186         1144   \n",
       "5750           721335     21770033         7253   \n",
       "5751            21551       216358          448   \n",
       "5752             3125        29241          136   \n",
       "5753           158235      6563982         2389   \n",
       "5754             4992        19691         1028   \n",
       "5755             3036         6466          212   \n",
       "5756             1964        21594          226   \n",
       "5757             8204        27207           34   \n",
       "5758              455        12446          208   \n",
       "5759            38914       103178          209   \n",
       "5760              991          125            5   \n",
       "5761            54900      1129445         5254   \n",
       "5762            59380       792235         1162   \n",
       "5763            40680       344515         1770   \n",
       "5764           100329      1090405          179   \n",
       "\n",
       "                                name  \\\n",
       "0                        Kristen💄MUE   \n",
       "1       Make up por Sabrina Matos 💋💄   \n",
       "2           N O T  U R  W A I F U  🎀   \n",
       "3                            Diamond   \n",
       "4            HAN SKIN CARE COSMETICS   \n",
       "5                         MICHELLE 🌙   \n",
       "6                     Max Monterroso   \n",
       "7                               Ida🍂   \n",
       "8     Kelly Distributrice Younique ☄   \n",
       "9                 La'Bri Cosmetics™️   \n",
       "10                    Iuliia TRAVELS   \n",
       "11                            Leo 👑💎   \n",
       "12    ᴢᴇᴇɴɪᴄᴋѕᴛᴇʀ™️ | Cayman Islands   \n",
       "13                     Fabiana Noman   \n",
       "14                            Rachel   \n",
       "15                   S H A N T A Y A   \n",
       "16                         J U L I A   \n",
       "17              R A C H E L  H I L L   \n",
       "18                              𝕵𝖔𝖊𝖑   \n",
       "19                      Aprel Player   \n",
       "20        顏卉婕 Danielle Yen / Actress   \n",
       "21                        Claire Mac   \n",
       "22        STORE PERTAMA DI INDONESIA   \n",
       "23                         Sébastien   \n",
       "24                      BRAD CANNING   \n",
       "25                          INGRID ♡   \n",
       "26                     Linda Otiende   \n",
       "27                 Sarah De Gheselle   \n",
       "28                   Ilaria Senatore   \n",
       "29            ✨ J A S M I N E  L E E   \n",
       "...                              ...   \n",
       "5735                KA'OIR COSMETICS   \n",
       "5736                          Jet Le   \n",
       "5737                   meganbrigette   \n",
       "5738     🎀 Universal Hair & Makeup 🎀   \n",
       "5739                 Jie Yee (Mabel)   \n",
       "5740         Abood Shwaimeh Official   \n",
       "5741                          𝔸𝕟𝕒 𝔾.   \n",
       "5742       MINDY 🎀🍞 threads & breads   \n",
       "5743               brittanyccampbell   \n",
       "5744                  Jazmina Daniel   \n",
       "5745         Aarika Lauryn • Fashion   \n",
       "5746                       Amy Bruen   \n",
       "5747       Yoga Searcher - Yogi Wear   \n",
       "5748                 Fashion Model 💟   \n",
       "5749               Hollylollipoppins   \n",
       "5750             Indianstreetfashion   \n",
       "5751                     ЮЛЯ ИНАМОРА   \n",
       "5752               Arturo M. Gautier   \n",
       "5753     Cats With Their Tongues Out   \n",
       "5754             The Shops at Legacy   \n",
       "5755          DEEKSHA ♥ TheChicSpell   \n",
       "5756                Carla Burlamaqui   \n",
       "5757                Chantelle La'Joy   \n",
       "5758                   Karli Bandura   \n",
       "5759     Social Media & Style Expert   \n",
       "5760                         J17🇬🇧🇨🇳   \n",
       "5761                    Thiago Biagi   \n",
       "5762          Mariana Martins (Mari)   \n",
       "5763                   Mini Magazine   \n",
       "5764                     Luna Serena   \n",
       "\n",
       "                                    profile_picture_url        updated_date  \\\n",
       "0     https://scontent.xx.fbcdn.net/v/t51.2885-15/39... 2018-09-04 22:19:55   \n",
       "1     https://scontent.xx.fbcdn.net/v/t51.2885-15/28... 2018-09-04 22:19:58   \n",
       "2     https://scontent.xx.fbcdn.net/v/t51.2885-15/35... 2018-09-04 22:20:02   \n",
       "3     https://scontent.xx.fbcdn.net/v/t51.2885-15/27... 2018-09-04 22:20:05   \n",
       "4     https://scontent.xx.fbcdn.net/v/t51.2885-15/17... 2018-09-04 22:20:27   \n",
       "5     https://scontent.xx.fbcdn.net/v/t51.2885-15/36... 2018-09-04 22:20:30   \n",
       "6     https://scontent.xx.fbcdn.net/v/t51.2885-15/39... 2018-09-04 22:20:35   \n",
       "7     https://scontent.xx.fbcdn.net/v/t51.2885-15/39... 2018-09-04 22:20:39   \n",
       "8     https://scontent.xx.fbcdn.net/v/t51.2885-15/28... 2018-09-04 22:20:41   \n",
       "9     https://scontent.xx.fbcdn.net/v/t51.2885-15/28... 2018-09-04 22:20:46   \n",
       "10    https://scontent.xx.fbcdn.net/v/t51.2885-15/30... 2018-09-04 22:20:51   \n",
       "11    https://scontent.xx.fbcdn.net/v/t51.2885-15/30... 2018-09-04 22:20:53   \n",
       "12    https://scontent.xx.fbcdn.net/v/t51.2885-15/10... 2018-09-04 22:20:57   \n",
       "13    https://scontent.xx.fbcdn.net/v/t51.2885-15/31... 2018-09-04 22:21:02   \n",
       "14    https://scontent.xx.fbcdn.net/v/t51.2885-15/13... 2018-09-04 22:21:08   \n",
       "15    https://scontent.xx.fbcdn.net/v/t51.2885-15/22... 2018-09-04 22:21:10   \n",
       "16    https://scontent.xx.fbcdn.net/v/t51.2885-15/27... 2018-09-04 22:21:13   \n",
       "17    https://scontent.xx.fbcdn.net/v/t51.2885-15/38... 2018-09-04 22:21:17   \n",
       "18    https://scontent.xx.fbcdn.net/v/t51.2885-15/36... 2018-09-04 22:21:55   \n",
       "19    https://scontent.xx.fbcdn.net/v/t51.2885-15/35... 2018-08-23 14:14:15   \n",
       "20    https://scontent.xx.fbcdn.net/v/t51.2885-15/35... 2018-09-04 22:22:35   \n",
       "21    https://scontent.xx.fbcdn.net/v/t51.2885-15/38... 2018-09-04 22:22:39   \n",
       "22    https://scontent.xx.fbcdn.net/v/t51.2885-15/38... 2018-09-04 22:22:47   \n",
       "23    https://scontent.xx.fbcdn.net/v/t51.2885-15/22... 2018-09-04 22:23:03   \n",
       "24    https://scontent.xx.fbcdn.net/v/t51.2885-15/39... 2018-09-04 22:23:10   \n",
       "25    https://scontent.xx.fbcdn.net/v/t51.2885-15/36... 2018-01-01 00:00:00   \n",
       "26    https://scontent.xx.fbcdn.net/v/t51.2885-15/39... 2018-09-04 22:23:18   \n",
       "27    https://scontent.xx.fbcdn.net/v/t51.2885-15/30... 2018-09-04 22:23:20   \n",
       "28    https://scontent.xx.fbcdn.net/v/t51.2885-15/39... 2018-09-04 22:23:25   \n",
       "29    https://scontent.xx.fbcdn.net/v/t51.2885-15/39... 2018-09-04 22:23:30   \n",
       "...                                                 ...                 ...   \n",
       "5735  https://scontent.xx.fbcdn.net/v/t51.2885-15/22... 2018-08-25 05:02:09   \n",
       "5736  https://scontent.xx.fbcdn.net/v/t51.2885-15/37... 2018-01-01 00:00:00   \n",
       "5737  https://scontent.xx.fbcdn.net/v/t51.2885-15/28... 2018-01-01 00:00:00   \n",
       "5738  https://scontent.xx.fbcdn.net/v/t51.2885-15/28... 2018-08-23 22:24:52   \n",
       "5739  https://scontent.xx.fbcdn.net/v/t51.2885-15/35... 2018-01-01 00:00:00   \n",
       "5740  https://scontent.xx.fbcdn.net/v/t51.2885-15/21... 2018-08-23 20:54:10   \n",
       "5741  https://scontent.xx.fbcdn.net/v/t51.2885-15/36... 2018-08-26 18:47:24   \n",
       "5742  https://scontent.xx.fbcdn.net/v/t51.2885-15/32... 2018-08-23 01:54:20   \n",
       "5743  https://scontent.xx.fbcdn.net/v/t51.2885-15/31... 2018-01-01 00:00:00   \n",
       "5744  https://scontent.xx.fbcdn.net/v/t51.2885-15/27... 2018-01-01 00:00:00   \n",
       "5745  https://scontent.xx.fbcdn.net/v/t51.2885-15/38... 2018-08-23 20:14:03   \n",
       "5746  https://scontent.xx.fbcdn.net/v/t51.2885-15/19... 2018-08-23 12:41:45   \n",
       "5747  https://scontent.xx.fbcdn.net/v/t51.2885-15/18... 2018-08-26 15:01:14   \n",
       "5748  https://scontent.xx.fbcdn.net/v/t51.2885-15/20... 2018-08-23 12:40:44   \n",
       "5749  https://scontent.xx.fbcdn.net/v/t51.2885-15/13... 2018-08-25 22:17:08   \n",
       "5750  https://scontent.xx.fbcdn.net/v/t51.2885-15/10... 2018-01-01 00:00:00   \n",
       "5751  https://scontent.xx.fbcdn.net/v/t51.2885-15/22... 2018-08-24 21:36:00   \n",
       "5752  https://scontent.xx.fbcdn.net/v/t51.2885-15/31... 2018-01-01 00:00:00   \n",
       "5753  https://scontent.xx.fbcdn.net/v/t51.2885-15/13... 2018-08-23 21:06:12   \n",
       "5754  https://scontent.xx.fbcdn.net/v/t51.2885-15/11... 2018-08-26 02:30:18   \n",
       "5755  https://scontent.xx.fbcdn.net/v/t51.2885-15/15... 2018-01-01 00:00:00   \n",
       "5756  https://scontent.xx.fbcdn.net/v/t51.2885-15/37... 2018-01-01 00:00:00   \n",
       "5757  https://scontent.xx.fbcdn.net/v/t51.2885-15/38... 2018-08-25 00:44:26   \n",
       "5758  https://scontent.xx.fbcdn.net/v/t51.2885-15/30... 2018-08-23 20:24:38   \n",
       "5759  https://scontent.xx.fbcdn.net/v/t51.2885-15/12... 2018-08-22 20:37:59   \n",
       "5760  https://scontent.xx.fbcdn.net/v/t51.2885-15/36... 2018-08-23 00:42:58   \n",
       "5761  https://scontent.xx.fbcdn.net/v/t51.2885-15/26... 2018-08-22 23:30:31   \n",
       "5762  https://scontent.xx.fbcdn.net/v/t51.2885-15/16... 2018-08-23 01:25:02   \n",
       "5763  https://scontent.xx.fbcdn.net/v/t51.2885-15/12... 2018-08-24 21:17:22   \n",
       "5764  https://scontent.xx.fbcdn.net/v/t51.2885-15/25... 2018-08-24 12:13:08   \n",
       "\n",
       "      engagement  \n",
       "0      10.281946  \n",
       "1      31.171429  \n",
       "2      26.637103  \n",
       "3      12.810198  \n",
       "4      15.846003  \n",
       "5      28.250477  \n",
       "6      76.950743  \n",
       "7      52.854233  \n",
       "8      53.152174  \n",
       "9      50.253623  \n",
       "10     30.871658  \n",
       "11     47.659623  \n",
       "12     36.896641  \n",
       "13     23.258927  \n",
       "14     16.743569  \n",
       "15    113.440197  \n",
       "16     71.227131  \n",
       "17    138.569307  \n",
       "18     71.011461  \n",
       "19     96.496069  \n",
       "20     34.094732  \n",
       "21     11.760862  \n",
       "22     30.171500  \n",
       "23     96.504609  \n",
       "24     20.543841  \n",
       "25     39.157633  \n",
       "26     20.915994  \n",
       "27     16.335246  \n",
       "28     47.532847  \n",
       "29    145.906983  \n",
       "...          ...  \n",
       "5735   76.195449  \n",
       "5736  269.634483  \n",
       "5737   11.748882  \n",
       "5738   46.930263  \n",
       "5739   33.690867  \n",
       "5740  162.782364  \n",
       "5741   55.594300  \n",
       "5742    6.787863  \n",
       "5743   17.208333  \n",
       "5744   63.620999  \n",
       "5745   24.495040  \n",
       "5746   35.747843  \n",
       "5747   36.665352  \n",
       "5748   60.542169  \n",
       "5749   21.073317  \n",
       "5750  191.654038  \n",
       "5751   27.718630  \n",
       "5752   14.632007  \n",
       "5753   23.107787  \n",
       "5754    6.324110  \n",
       "5755   31.568106  \n",
       "5756   12.398947  \n",
       "5757   15.613316  \n",
       "5758   21.359272  \n",
       "5759   16.064669  \n",
       "5760  558.000000  \n",
       "5761   56.333000  \n",
       "5762   44.661999  \n",
       "5763   22.314622  \n",
       "5764  176.588166  \n",
       "\n",
       "[5765 rows x 11 columns]"
      ]
     },
     "execution_count": 420,
     "metadata": {},
     "output_type": "execute_result"
    }
   ],
   "source": [
    "df"
   ]
  },
  {
   "cell_type": "code",
   "execution_count": 58,
   "metadata": {},
   "outputs": [],
   "source": [
    "business_discovery_all = fb_graph.get_business_discovery_all(media_count = constants.MAX_MEDIA, username = 'sabrinamakeup')"
   ]
  },
  {
   "cell_type": "code",
   "execution_count": 60,
   "metadata": {},
   "outputs": [],
   "source": [
    "dict_result = fb_graph.parser_influencer_data(business_discovery_all)"
   ]
  },
  {
   "cell_type": "code",
   "execution_count": 61,
   "metadata": {},
   "outputs": [
    {
     "data": {
      "text/plain": [
       "{'id': '17841404101386592',\n",
       " 'biography': '🔸Make up 💄💋\\n 🔸Atendemos  em domicílio     \\n               informações: 991345989 wpp 📞',\n",
       " 'followers_count': 268,\n",
       " 'media_count': 37,\n",
       " 'name': 'Make up por Sabrina Matos 💋💄',\n",
       " 'username': 'sabrinamakeup',\n",
       " 'profile_picture_url': 'https://scontent.xx.fbcdn.net/v/t51.2885-15/28152978_221577878388720_6592099119399960576_n.jpg?_nc_cat=0&oh=2c621cbdef18387f5c8e5f746e28bba8&oe=5C2663F6',\n",
       " 'comments_count': 35,\n",
       " 'likes_count': 823}"
      ]
     },
     "execution_count": 61,
     "metadata": {},
     "output_type": "execute_result"
    }
   ],
   "source": [
    "dict_result"
   ]
  },
  {
   "cell_type": "code",
   "execution_count": 62,
   "metadata": {},
   "outputs": [
    {
     "data": {
      "text/plain": [
       "'17841404101386592'"
      ]
     },
     "execution_count": 62,
     "metadata": {},
     "output_type": "execute_result"
    }
   ],
   "source": [
    "dict_result['id']"
   ]
  },
  {
   "cell_type": "code",
   "execution_count": 55,
   "metadata": {},
   "outputs": [
    {
     "data": {
      "text/html": [
       "<div>\n",
       "<style scoped>\n",
       "    .dataframe tbody tr th:only-of-type {\n",
       "        vertical-align: middle;\n",
       "    }\n",
       "\n",
       "    .dataframe tbody tr th {\n",
       "        vertical-align: top;\n",
       "    }\n",
       "\n",
       "    .dataframe thead th {\n",
       "        text-align: right;\n",
       "    }\n",
       "</style>\n",
       "<table border=\"1\" class=\"dataframe\">\n",
       "  <thead>\n",
       "    <tr style=\"text-align: right;\">\n",
       "      <th></th>\n",
       "      <th>id</th>\n",
       "      <th>username</th>\n",
       "      <th>biography</th>\n",
       "      <th>comments_count</th>\n",
       "      <th>followers_count</th>\n",
       "      <th>likes_count</th>\n",
       "      <th>media_count</th>\n",
       "      <th>name</th>\n",
       "      <th>profile_picture_url</th>\n",
       "      <th>updated_date</th>\n",
       "    </tr>\n",
       "  </thead>\n",
       "  <tbody>\n",
       "    <tr>\n",
       "      <th>1</th>\n",
       "      <td>17841404101386592</td>\n",
       "      <td>sabrinamakeup</td>\n",
       "      <td>updated</td>\n",
       "      <td>0</td>\n",
       "      <td>0</td>\n",
       "      <td>0</td>\n",
       "      <td>0</td>\n",
       "      <td>updated</td>\n",
       "      <td></td>\n",
       "      <td>2018-09-03 15:02:20.402</td>\n",
       "    </tr>\n",
       "  </tbody>\n",
       "</table>\n",
       "</div>"
      ],
      "text/plain": [
       "                  id       username biography  comments_count  \\\n",
       "1  17841404101386592  sabrinamakeup   updated               0   \n",
       "\n",
       "   followers_count  likes_count  media_count     name profile_picture_url  \\\n",
       "1                0            0            0  updated                       \n",
       "\n",
       "             updated_date  \n",
       "1 2018-09-03 15:02:20.402  "
      ]
     },
     "execution_count": 55,
     "metadata": {},
     "output_type": "execute_result"
    }
   ],
   "source": [
    "df[df['username'] == 'sabrinamakeup']"
   ]
  },
  {
   "cell_type": "code",
   "execution_count": 63,
   "metadata": {},
   "outputs": [],
   "source": [
    "# UserBusinessDiscovery.objects(id = 17841404101386592, username = 'sabrinamakeup').update(biography='updated', comments_count=0, followers_count=0, likes_count=0, media_count = 0, name = 'updated', profile_picture_url = \"\", updated_date = datetime.now())\n",
    "\n",
    "UserBusinessDiscovery.objects(id = dict_result['id'], username = dict_result['username']).update(biography=dict_result['biography'], comments_count=dict_result['comments_count'], followers_count=dict_result['followers_count'], likes_count=dict_result['likes_count'], media_count = dict_result['media_count'], name = dict_result['name'], profile_picture_url = dict_result['profile_picture_url'], updated_date = datetime.now())"
   ]
  },
  {
   "cell_type": "code",
   "execution_count": 24,
   "metadata": {},
   "outputs": [],
   "source": [
    "UserBusinessDiscovery.objects(id = 17841404101386592,username = 'sabrinamakeup').update(account_type = 0, categories = ['Fashion','Hairstyles','Makeup','Skincare','Beauty Blogger'])\n"
   ]
  },
  {
   "cell_type": "code",
   "execution_count": 192,
   "metadata": {},
   "outputs": [],
   "source": [
    "rows = db.session.execute(\"select id, username from test.test;\")\n",
    "df = rows._current_rows"
   ]
  },
  {
   "cell_type": "code",
   "execution_count": 193,
   "metadata": {},
   "outputs": [
    {
     "data": {
      "text/html": [
       "<div>\n",
       "<style scoped>\n",
       "    .dataframe tbody tr th:only-of-type {\n",
       "        vertical-align: middle;\n",
       "    }\n",
       "\n",
       "    .dataframe tbody tr th {\n",
       "        vertical-align: top;\n",
       "    }\n",
       "\n",
       "    .dataframe thead th {\n",
       "        text-align: right;\n",
       "    }\n",
       "</style>\n",
       "<table border=\"1\" class=\"dataframe\">\n",
       "  <thead>\n",
       "    <tr style=\"text-align: right;\">\n",
       "      <th></th>\n",
       "      <th>id</th>\n",
       "      <th>username</th>\n",
       "    </tr>\n",
       "  </thead>\n",
       "  <tbody>\n",
       "  </tbody>\n",
       "</table>\n",
       "</div>"
      ],
      "text/plain": [
       "Empty DataFrame\n",
       "Columns: [id, username]\n",
       "Index: []"
      ]
     },
     "execution_count": 193,
     "metadata": {},
     "output_type": "execute_result"
    }
   ],
   "source": [
    "df.head()"
   ]
  },
  {
   "cell_type": "code",
   "execution_count": 195,
   "metadata": {},
   "outputs": [
    {
     "data": {
      "text/plain": [
       "0"
      ]
     },
     "execution_count": 195,
     "metadata": {},
     "output_type": "execute_result"
    }
   ],
   "source": [
    "df.shape[0]"
   ]
  },
  {
   "cell_type": "code",
   "execution_count": 139,
   "metadata": {},
   "outputs": [],
   "source": [
    "df.to_csv('data_users_business_discovery.csv', header=True, sep='\\t', index=False)"
   ]
  },
  {
   "cell_type": "code",
   "execution_count": 140,
   "metadata": {},
   "outputs": [],
   "source": [
    "df1 = pd.read_csv('data_users_business_discovery.csv', header=0, sep='\\t')"
   ]
  },
  {
   "cell_type": "code",
   "execution_count": 38,
   "metadata": {},
   "outputs": [
    {
     "data": {
      "text/plain": [
       "recommend_influencer(influencer_name='Nguyen Van A', bio=None, categories=['Travel', 'Foods', 'Fashion'], commentPerPost=None, demographics=None, engagementRate=None, follower=None, account_type=None, likePerPost=None, location=None, path=None, reach=None, website=None, posts_starting=None, currency=None, socialAccounts=[], created=datetime.datetime(2018, 9, 3, 7, 13, 1, 576642), updated=datetime.datetime(2018, 9, 3, 7, 13, 1, 576655), activate=datetime.datetime(2018, 9, 3, 7, 13, 1, 576663), influencer_id=112233, img_url=None, ts=UUID('28286fbc-af49-11e8-bd49-10948a00e8b7'))"
      ]
     },
     "execution_count": 38,
     "metadata": {},
     "output_type": "execute_result"
    }
   ],
   "source": [
    "rein = recommend_influencer(influencer_id=112233, ts = uuid_from_time(time.time()), influencer_name = 'Nguyen Van A', categories = ['Travel', 'Foods', 'Fashion'])\n",
    "rein.save()"
   ]
  },
  {
   "cell_type": "code",
   "execution_count": 55,
   "metadata": {},
   "outputs": [],
   "source": [
    "info_1 = fb_graph.get_business_info(username = 'emmaparkerandco')\n",
    "info_2 = fb_graph.get_business_info(username = 'natje_9999')"
   ]
  },
  {
   "cell_type": "code",
   "execution_count": 56,
   "metadata": {},
   "outputs": [],
   "source": [
    "info_1['new_post'] = 0\n",
    "info_2['new_post'] = 0"
   ]
  },
  {
   "cell_type": "code",
   "execution_count": 57,
   "metadata": {},
   "outputs": [],
   "source": [
    "a1 = type_business_info(**info_1)\n",
    "a2 = type_business_info(**info_2)"
   ]
  },
  {
   "cell_type": "code",
   "execution_count": 58,
   "metadata": {},
   "outputs": [
    {
     "data": {
      "text/plain": [
       "watch_list(user_id='anhlbt', watch_user_list={'natje_9999': <__main__.type_business_info object at 0x7fd7f74f8198>, 'emmaparkerandco': <__main__.type_business_info object at 0x7fd7f74f8d68>}, viewed_time=datetime.datetime(2018, 9, 4, 2, 5, 36, 941062), updated_time=datetime.datetime(2018, 9, 4, 2, 5, 36, 941064))"
      ]
     },
     "execution_count": 58,
     "metadata": {},
     "output_type": "execute_result"
    }
   ],
   "source": [
    "wl = watch_list(user_id = 'anhlbt',watch_user_list= {'natje_9999': a2, 'emmaparkerandco': a1}, viewed_time = datetime.utcnow(),updated_time = datetime.utcnow())\n",
    "wl.save()"
   ]
  },
  {
   "cell_type": "code",
   "execution_count": 59,
   "metadata": {},
   "outputs": [],
   "source": [
    "query_string=\"select * from %s.watch_list where user_id = 'anhlbt'\"%constants.KEYSPACE_NAME\n",
    "# query_string = 'truncate aify_recommend.watch_list_'\n",
    "re = _session.execute(query_string)\n",
    "# re.current_rows[0]"
   ]
  },
  {
   "cell_type": "code",
   "execution_count": 60,
   "metadata": {},
   "outputs": [
    {
     "data": {
      "text/plain": [
       "[{'user_id': 'anhlbt',\n",
       "  'updated_time': datetime.datetime(2018, 9, 4, 2, 5, 36, 941000),\n",
       "  'viewed_time': datetime.datetime(2018, 9, 4, 2, 5, 36, 941000),\n",
       "  'watch_user_list': OrderedMapSerializedKey([('emmaparkerandco', <__main__.type_business_info object at 0x7fd7f74f8390>), ('natje_9999', <__main__.type_business_info object at 0x7fd81c4106d8>)])}]"
      ]
     },
     "execution_count": 60,
     "metadata": {},
     "output_type": "execute_result"
    }
   ],
   "source": [
    "re.current_rows"
   ]
  },
  {
   "cell_type": "code",
   "execution_count": 173,
   "metadata": {},
   "outputs": [],
   "source": [
    "test = type_business_info(id = 'id_test',\n",
    "    website = 'link web',\n",
    "    media_count = 12,\n",
    "    followers_count = 100,\n",
    "    name = 'Tuan Anh',\n",
    "    username = 'anhlbt',\n",
    "    profile_picture_url = 'url_picture')"
   ]
  },
  {
   "cell_type": "markdown",
   "metadata": {},
   "source": [
    "# watch_list"
   ]
  },
  {
   "cell_type": "code",
   "execution_count": 61,
   "metadata": {},
   "outputs": [],
   "source": [
    "def get_wl_by_user_id(user_id):\n",
    "    result = {}\n",
    "    try:\n",
    "        query_string=\"select * from watch_list where user_id = '%s'\"%user_id\n",
    "        re = _session.execute(query_string)\n",
    "        list_dict_ = map_to_dict_factory_1(re.current_rows)#data get from db, list have only one item\n",
    "    #     list_dict_ = re.current_rows\n",
    "        result['status'] = 'True'\n",
    "        result['data'] = convert_info_objects_to_json(list_dict_[0])\n",
    "        return result\n",
    "    except Exception as ex:\n",
    "        result['status'] = 'False'\n",
    "        return result\n",
    "\n",
    "    \n",
    "def convert_info_objects_to_json(info_object):\n",
    "    tmp_dict = info_object['watch_user_list']\n",
    "    for k, v in tmp_dict.items():\n",
    "        print(k)\n",
    "        tmp_dict[k] = dict(tmp_dict[k])\n",
    "    return info_object    \n",
    "    \n",
    "def wl_add(user_id, ig_id, fb_graph):\n",
    "    result = {}\n",
    "    try:\n",
    "        wl_item = fb_graph.get_business_info(username = ig_id)\n",
    "        wl_item['new_post'] = 0\n",
    "        wl = get_wl_by_user_id(user_id)\n",
    "        print(wl)\n",
    "        if wl['status'] == 'True':\n",
    "            wl = wl['data']\n",
    "            if wl is None:\n",
    "                wl = watch_list(user_id = user_id, watch_user_list = {ig_id:type_business_info(**wl_item)}, viewed_time = datetime.utcnow(),updated_time = datetime.utcnow())\n",
    "                wl.save()\n",
    "                result['status'] = True\n",
    "                result['data'] = wl_item # try catch here\n",
    "            else:\n",
    "                if wl['watch_user_list'] is None:\n",
    "                    watch_list.objects(user_id = user_id).update(watch_user_list= {ig_id:type_business_info(**wl_item)})\n",
    "                    result['status'] = True\n",
    "                    result['data'] = wl_item\n",
    "                else:   \n",
    "                    if ig_id in wl['watch_user_list']:\n",
    "                        print(\"user %s already in watch list\"%ig_id)\n",
    "                        result['status'] = False\n",
    "                    else:\n",
    "                        wl['watch_user_list'][ig_id] = type_business_info(**wl_item)     \n",
    "                        watch_list.objects(user_id = user_id).update(watch_user_list= wl['watch_user_list'])\n",
    "                        result['status'] = True\n",
    "                        result['data'] = wl_item # try catch here\n",
    "        \n",
    "    except Exception as ex:\n",
    "        print(ex)\n",
    "        result['status'] = False\n",
    "    return result    \n",
    "\n",
    "def wl_remove(user_id, ig_id, fb_graph):\n",
    "    try:\n",
    "        wl = get_wl_by_user_id(user_id)\n",
    "        if wl is None:\n",
    "            return False\n",
    "        elif wl['watch_user_list'] is not None and ig_id in wl['watch_user_list']:\n",
    "            #print('remove %s '%ig_id)\n",
    "            del wl['watch_user_list'][ig_id]\n",
    "            watch_list.objects(user_id = user_id).update(watch_user_list= None)\n",
    "            watch_list.objects(user_id = user_id).update(watch_user_list= wl['watch_user_list'])\n",
    "            return True\n",
    "        else:\n",
    "            print('no see %s in database'%ig_id)\n",
    "            return False\n",
    "    except Exception as ex:\n",
    "        print(ex)\n",
    "        return False    \n",
    "    \n",
    "    \n",
    "\n",
    "def wl_update_new_post(user_id, fb_graph):\n",
    "#     list_infos = []\n",
    "    try:\n",
    "        wl = get_wl_by_user_id(user_id)\n",
    "        if wl is None:\n",
    "            return False\n",
    "        elif wl['watch_user_list'] is not None and (datetime.now() - wl['updated_time']).total_seconds() > constants.TOTAL_SECONDS_TO_REFRESH_WATCH_LIST:\n",
    "            for k, username in enumerate(wl['watch_user_list']):\n",
    "        #     for k, v in list_dict_[0]['watch_user_list'].items(): # iter dictionary\n",
    "                print(username)\n",
    "                request_data = fb_graph.get_business_info(username = username)\n",
    "    #             list_infos.append(request_data)viewed_time\n",
    "                #\n",
    "                num_new_post = request_data['media_count'] - int(wl['watch_user_list'][username].media_count)\n",
    "                request_data['new_post'] = num_new_post\n",
    "                if num_new_post != 0:\n",
    "                    #update db\n",
    "                    wl['watch_user_list'][username] = type_business_info(**request_data) #update item in watch list user\n",
    "                    print('you have %s new post'%num_new_post)\n",
    "                    \n",
    "        else:\n",
    "            print('no have any user in watch list or user request greater than 2 time in an hour ...')\n",
    "            return False\n",
    "                \n",
    "        watch_list.objects(user_id = user_id).update(watch_user_list= wl['watch_user_list'])      \n",
    "\n",
    "    except Exception as ex:\n",
    "        print(ex)\n",
    "        \n",
    "# watch_list.objects(user_id = 'anhlbt').update(watch_user_list= {'natje_9999': a2, 'emmaparkerandco': a2})   \n",
    "\n",
    "# update_string = \"update watch_list set watch_user_list= {'natje_9999': 'a2', 'emmaparkerandco': 'a1'} where user_id = 'anhlbt' if exists\"\n",
    "# _session.execute(update_string)\n",
    "\n",
    "# wl = watch_list(user_id = 'anhlbt3',watch_user_list= a['watch_user_list'], viewed_time = datetime.utcnow(),updated_time = datetime.utcnow())\n",
    "# wl.save()"
   ]
  },
  {
   "cell_type": "code",
   "execution_count": 158,
   "metadata": {},
   "outputs": [],
   "source": [
    "query_string=\"select * from test\"\n",
    "re = _session.execute(query_string)\n",
    "list_dict_ = map_to_dict_factory_1(re.current_rows)#data get from db, list have only one item"
   ]
  },
  {
   "cell_type": "code",
   "execution_count": 159,
   "metadata": {},
   "outputs": [
    {
     "data": {
      "text/plain": [
       "[]"
      ]
     },
     "execution_count": 159,
     "metadata": {},
     "output_type": "execute_result"
    }
   ],
   "source": [
    "list_dict_"
   ]
  },
  {
   "cell_type": "code",
   "execution_count": 163,
   "metadata": {},
   "outputs": [],
   "source": [
    "# user_id = 'anhlbt'\n",
    "# query_string=\"select * from watch_list where user_id = '%s'\"%user_id\n",
    "# re = _session.execute(query_string)\n",
    "# list_dict_ = map_to_dict_factory_1(re.current_rows)#data get from db, list have only one item\n",
    "\n",
    "\n",
    "# query_string = \"COPY test(id , biography , comments_count , followers_count , likes_count , media_count , name , profile_picture_url , updated_date , username ) FROM users_bussiness_dicsovery.csv\"\n",
    "# COPY users_business_discovery (id , biography , comments_count , followers_count , likes_count , media_count , name , profile_picture_url , updated_date , username ) FROM 'users_bussiness_dicsovery.csv'\n",
    "\n"
   ]
  },
  {
   "cell_type": "code",
   "execution_count": null,
   "metadata": {},
   "outputs": [],
   "source": [
    "COPY users_business_discovery (id , biography , comments_count , followers_count , likes_count , media_count , name , profile_picture_url , updated_date , username ) FROM 'users_bussiness_dicsovery.csv'\n"
   ]
  },
  {
   "cell_type": "code",
   "execution_count": 187,
   "metadata": {},
   "outputs": [],
   "source": [
    "a = pd.read_csv('users_business_discovery_201809051046.csv', header=0, sep = '\\t', index_col = None)"
   ]
  },
  {
   "cell_type": "code",
   "execution_count": 191,
   "metadata": {},
   "outputs": [
    {
     "name": "stdout",
     "output_type": "stream",
     "text": [
      "id <class 'numpy.int64'>\n",
      "username <class 'str'>\n",
      "biography <class 'str'>\n",
      "comments_count <class 'numpy.int64'>\n",
      "followers_count <class 'numpy.int64'>\n",
      "likes_count <class 'numpy.int64'>\n",
      "media_count <class 'numpy.int64'>\n",
      "name <class 'str'>\n",
      "profile_picture_url <class 'str'>\n",
      "updated_date <class 'str'>\n"
     ]
    }
   ],
   "source": [
    "for col in a.columns:\n",
    "    print(col, type(a.iloc[1][col]))"
   ]
  },
  {
   "cell_type": "code",
   "execution_count": 165,
   "metadata": {},
   "outputs": [],
   "source": [
    "wl_item = fb_graph.get_business_info(username = 'emmaparkerandco')"
   ]
  },
  {
   "cell_type": "code",
   "execution_count": 166,
   "metadata": {},
   "outputs": [
    {
     "data": {
      "text/plain": [
       "{'id': '17841401690883742',\n",
       " 'website': 'https://www.emmaparkerdiamonds.com/',\n",
       " 'followers_count': 649,\n",
       " 'media_count': 331,\n",
       " 'name': 'Emma Parker & Co.',\n",
       " 'username': 'emmaparkerandco',\n",
       " 'profile_picture_url': 'https://scontent.xx.fbcdn.net/v/t51.2885-15/12393747_142605859440768_1709991462_a.jpg?_nc_cat=0&_nc_ad=z-m&_nc_cid=0&oh=f2d635c5b36f4a70850d961564c3503d&oe=5BF30F51'}"
      ]
     },
     "execution_count": 166,
     "metadata": {},
     "output_type": "execute_result"
    }
   ],
   "source": [
    "wl_item"
   ]
  },
  {
   "cell_type": "code",
   "execution_count": 63,
   "metadata": {},
   "outputs": [
    {
     "name": "stdout",
     "output_type": "stream",
     "text": [
      "emmaparkerandco\n",
      "natje_9999\n"
     ]
    }
   ],
   "source": [
    "wl = get_wl_by_user_id('anhlbt')"
   ]
  },
  {
   "cell_type": "code",
   "execution_count": 18,
   "metadata": {},
   "outputs": [
    {
     "name": "stdout",
     "output_type": "stream",
     "text": [
      "emmaparkerandco\n",
      "natje_9999\n",
      "{'status': 'True', 'data': {'user_id': 'anhlbt', 'updated_time': datetime.datetime(2018, 8, 24, 7, 6, 46, 555000), 'viewed_time': datetime.datetime(2018, 8, 24, 7, 6, 46, 555000), 'watch_user_list': {'emmaparkerandco': {'id': '17841401690883742', 'website': 'https://www.emmaparkerdiamonds.com/', 'media_count': 330, 'followers_count': 647, 'name': 'Emma Parker & Co.', 'username': 'emmaparkerandco', 'profile_picture_url': 'https://scontent.xx.fbcdn.net/v/t51.2885-15/12393747_142605859440768_1709991462_a.jpg?_nc_cat=0&oh=8b7b47ecf00a2e0e865d2c0d06993e63&oe=5BF30F51', 'new_post': 0}, 'natje_9999': {'id': '17841401660142798', 'website': 'https://bit.ly/2v0yJDU', 'media_count': 805, 'followers_count': 1696, 'name': 'Nathalie Madsen', 'username': 'natje_9999', 'profile_picture_url': 'https://scontent.xx.fbcdn.net/v/t51.2885-15/33933220_493197567763039_6170514771826180096_n.jpg?_nc_cat=0&oh=4d09397c07c3f0d0667f8688d02a4e65&oe=5BF17C73', 'new_post': 0}}}}\n",
      "user natje_9999 already in watch list\n"
     ]
    },
    {
     "data": {
      "text/plain": [
       "{'status': False}"
      ]
     },
     "execution_count": 18,
     "metadata": {},
     "output_type": "execute_result"
    }
   ],
   "source": [
    "wl_add('anhlbt', 'natje_9999', fb_graph)"
   ]
  },
  {
   "cell_type": "code",
   "execution_count": 112,
   "metadata": {},
   "outputs": [
    {
     "name": "stdout",
     "output_type": "stream",
     "text": [
      "emmaparkerandco\n",
      "natje_9999\n",
      "'watch_user_list'\n"
     ]
    },
    {
     "data": {
      "text/plain": [
       "False"
      ]
     },
     "execution_count": 112,
     "metadata": {},
     "output_type": "execute_result"
    }
   ],
   "source": [
    "wl_remove('anhlbt', 'natje_9999', fb_graph)"
   ]
  },
  {
   "cell_type": "code",
   "execution_count": 75,
   "metadata": {},
   "outputs": [
    {
     "name": "stdout",
     "output_type": "stream",
     "text": [
      "emmaparkerandco\n",
      "natje_9999\n"
     ]
    }
   ],
   "source": [
    "a = get_wl_by_user_id('anhlbt')"
   ]
  },
  {
   "cell_type": "code",
   "execution_count": 76,
   "metadata": {},
   "outputs": [
    {
     "data": {
      "text/plain": [
       "{'status': 'True',\n",
       " 'data': {'user_id': 'anhlbt',\n",
       "  'updated_time': datetime.datetime(2018, 9, 4, 2, 5, 36, 941000),\n",
       "  'viewed_time': datetime.datetime(2018, 9, 4, 2, 5, 36, 941000),\n",
       "  'watch_user_list': {'emmaparkerandco': {'id': '17841401690883742',\n",
       "    'website': 'https://www.emmaparkerdiamonds.com/',\n",
       "    'media_count': 331,\n",
       "    'followers_count': 650,\n",
       "    'name': 'Emma Parker & Co.',\n",
       "    'username': 'emmaparkerandco',\n",
       "    'profile_picture_url': 'https://scontent.xx.fbcdn.net/v/t51.2885-15/12393747_142605859440768_1709991462_a.jpg?_nc_cat=0&oh=8b7b47ecf00a2e0e865d2c0d06993e63&oe=5BF30F51',\n",
       "    'new_post': -476},\n",
       "   'natje_9999': {'id': '17841401660142798',\n",
       "    'website': 'https://bit.ly/2v0yJDU',\n",
       "    'media_count': 807,\n",
       "    'followers_count': 1675,\n",
       "    'name': 'Nathalie Madsen',\n",
       "    'username': 'natje_9999',\n",
       "    'profile_picture_url': 'https://scontent.xx.fbcdn.net/v/t51.2885-15/33933220_493197567763039_6170514771826180096_n.jpg?_nc_cat=0&oh=4d09397c07c3f0d0667f8688d02a4e65&oe=5BF17C73',\n",
       "    'new_post': 0}}}}"
      ]
     },
     "execution_count": 76,
     "metadata": {},
     "output_type": "execute_result"
    }
   ],
   "source": [
    "a"
   ]
  },
  {
   "cell_type": "code",
   "execution_count": 77,
   "metadata": {},
   "outputs": [
    {
     "data": {
      "text/plain": [
       "'Nathalie Madsen'"
      ]
     },
     "execution_count": 77,
     "metadata": {},
     "output_type": "execute_result"
    }
   ],
   "source": [
    "a2.name"
   ]
  },
  {
   "cell_type": "code",
   "execution_count": 78,
   "metadata": {},
   "outputs": [
    {
     "data": {
      "text/plain": [
       "'Emma Parker & Co.'"
      ]
     },
     "execution_count": 78,
     "metadata": {},
     "output_type": "execute_result"
    }
   ],
   "source": [
    "a1.name"
   ]
  },
  {
   "cell_type": "code",
   "execution_count": 70,
   "metadata": {},
   "outputs": [],
   "source": [
    "watch_list.objects(user_id = 'anhlbt').update(watch_user_list= {'natje_9999': a2, 'emmaparkerandco': a2})   \n"
   ]
  },
  {
   "cell_type": "code",
   "execution_count": 19,
   "metadata": {},
   "outputs": [
    {
     "name": "stdout",
     "output_type": "stream",
     "text": [
      "no have any user in watch list or user request greater than 2 time in an hour, please add first...\n"
     ]
    },
    {
     "data": {
      "text/plain": [
       "False"
      ]
     },
     "execution_count": 19,
     "metadata": {},
     "output_type": "execute_result"
    }
   ],
   "source": [
    "wl_update_new_post('anhlbt', fb_graph)"
   ]
  },
  {
   "cell_type": "code",
   "execution_count": 81,
   "metadata": {},
   "outputs": [
    {
     "data": {
      "text/plain": [
       "True"
      ]
     },
     "execution_count": 81,
     "metadata": {},
     "output_type": "execute_result"
    }
   ],
   "source": [
    "(datetime.now()-a['updated_time']).total_seconds() > 3600\n"
   ]
  },
  {
   "cell_type": "code",
   "execution_count": 73,
   "metadata": {},
   "outputs": [
    {
     "data": {
      "text/plain": [
       "datetime.datetime(2018, 9, 3, 13, 38, 42, 57535)"
      ]
     },
     "execution_count": 73,
     "metadata": {},
     "output_type": "execute_result"
    }
   ],
   "source": [
    "a1"
   ]
  },
  {
   "cell_type": "code",
   "execution_count": 67,
   "metadata": {},
   "outputs": [
    {
     "data": {
      "text/plain": [
       "datetime.datetime(2018, 8, 24, 7, 6, 46, 555000)"
      ]
     },
     "execution_count": 67,
     "metadata": {},
     "output_type": "execute_result"
    }
   ],
   "source": [
    "a2"
   ]
  },
  {
   "cell_type": "code",
   "execution_count": 75,
   "metadata": {},
   "outputs": [],
   "source": [
    "a3 = a1 - a2"
   ]
  },
  {
   "cell_type": "code",
   "execution_count": 76,
   "metadata": {},
   "outputs": [
    {
     "name": "stdout",
     "output_type": "stream",
     "text": [
      "10 days, 6:31:55.502535\n"
     ]
    }
   ],
   "source": [
    "print(a3)"
   ]
  },
  {
   "cell_type": "code",
   "execution_count": 78,
   "metadata": {},
   "outputs": [
    {
     "data": {
      "text/plain": [
       "887515.502535"
      ]
     },
     "execution_count": 78,
     "metadata": {},
     "output_type": "execute_result"
    }
   ],
   "source": [
    "a3.total_seconds()\n"
   ]
  },
  {
   "cell_type": "code",
   "execution_count": 182,
   "metadata": {},
   "outputs": [
    {
     "data": {
      "text/plain": [
       "0"
      ]
     },
     "execution_count": 182,
     "metadata": {},
     "output_type": "execute_result"
    }
   ],
   "source": [
    "a['watch_user_list']['natje_9999'].new_post"
   ]
  },
  {
   "cell_type": "code",
   "execution_count": 395,
   "metadata": {},
   "outputs": [],
   "source": [
    "# prepared = _session.prepare(\"\"\"\n",
    "#         INSERT INTO aify_recommend.watch_list_ (user_id, watch_user_list, updated_time, viewed_time) \n",
    "#         VALUES(?, ?, ?, ?)\n",
    "#         \"\"\")\n",
    "\n",
    "# _session.execute(prepared.bind((\"emmaparkerandco\", {'annieverywhere':watch_list[0]}, datetime.utcnow(), datetime.utcnow() )))\n",
    "\n",
    "# _session.execute(prepared.bind((\"emmaparkerandco\", datetime.utcnow(), datetime.utcnow(),\\\n",
    "#                                 {\"natje_9999\":{\"media_count\":\"30\", \"followers_count\": \"65\"}, \"annieverywhere\":{\"media_count\":\"50\", \"followers_count\": \"65\"}})))\n",
    "\n",
    "#update map\n",
    "update_string = \"update watch_list_ set updated_time= %s, viewed_time = %s where user_id = 'emmaparkerandco' if exists\"%(datetime.utcnow(), datetime.utcnow())\n",
    "_session.execute(update_string)"
   ]
  },
  {
   "cell_type": "code",
   "execution_count": null,
   "metadata": {},
   "outputs": [],
   "source": []
  },
  {
   "cell_type": "code",
   "execution_count": 61,
   "metadata": {},
   "outputs": [
    {
     "name": "stdout",
     "output_type": "stream",
     "text": [
      "/home/anh_lbt/atvn/sw_follou/recommender_api/test\n",
      "{'id': '17841401690883742', 'website': 'https://www.emmaparkerdiamonds.com/', 'followers_count': 650, 'media_count': 330, 'name': 'Emma Parker & Co.', 'username': 'emmaparkerandco', 'profile_picture_url': 'https://scontent.xx.fbcdn.net/v/t51.2885-15/12393747_142605859440768_1709991462_a.jpg?_nc_cat=0&oh=8b7b47ecf00a2e0e865d2c0d06993e63&oe=5BF30F51'}\n",
      "0.596560001373291\n"
     ]
    }
   ],
   "source": [
    "#calculate num new post:\n",
    "#first, select from db, we have: [{'anhlbt': 19}, {'longld': 100}]\n",
    "#second, call api to get current data (up to date)\n",
    "#then, calculate new post and update db,\n",
    "fb_graph = facebook_graph_api.FacebookGraphApi('../FacebookCrawler/instagram_token.csv')\n",
    "s_time = time.time()\n",
    "test = fb_graph.get_business_info(username = 'emmaparkerandco')#17841401610104138, 17841407517779759\n",
    "print(test)\n",
    "print(time.time() - s_time)"
   ]
  },
  {
   "cell_type": "code",
   "execution_count": 53,
   "metadata": {},
   "outputs": [
    {
     "data": {
      "text/plain": [
       "330"
      ]
     },
     "execution_count": 53,
     "metadata": {},
     "output_type": "execute_result"
    }
   ],
   "source": [
    "test['media_count']"
   ]
  },
  {
   "cell_type": "code",
   "execution_count": 242,
   "metadata": {},
   "outputs": [
    {
     "data": {
      "text/plain": [
       "<cassandra.cluster.Session at 0x7f27cebb7128>"
      ]
     },
     "execution_count": 242,
     "metadata": {},
     "output_type": "execute_result"
    }
   ],
   "source": [
    "_session"
   ]
  },
  {
   "cell_type": "code",
   "execution_count": 259,
   "metadata": {},
   "outputs": [
    {
     "name": "stdout",
     "output_type": "stream",
     "text": [
      "update Person set last_name= 'Anh updated', first_name = 'Lesdfa' where id=81833564-a5bd-11e8-a36c-67d94cf8123f and user_name ='anhlbt' if exists\n"
     ]
    },
    {
     "data": {
      "text/plain": [
       "<cassandra.cluster.ResultSet at 0x7f27cebf9908>"
      ]
     },
     "execution_count": 259,
     "metadata": {},
     "output_type": "execute_result"
    }
   ],
   "source": [
    "# ['id', 'biography', 'followers_count', 'media_count', 'name', 'username', 'profile_picture_url', 'comments_count', 'likes_count']\n",
    "\n",
    "\n",
    "first_name = 'Anh updated'\n",
    "last_name = 'Lesdfa'\n",
    "table = 'Person'\n",
    "# _session.execute(\"update Person set last_name=%s, first_name =%s where id=b9595ecc-a51e-11e8-aff2-c1049a4e205f if exists\", (last_name,first_name))\n",
    "# insert_string = \"insert into Person (id, first_name, last_name) values (uuid_from_time(time.time()), 'Anh', 'le')\"\n",
    "\n",
    "update_string = \"update Person set last_name= '%s', first_name = '%s' where id=81833564-a5bd-11e8-a36c-67d94cf8123f and user_name ='anhlbt' if exists\"%(first_name, last_name)\n",
    "print(update_string)\n",
    "_session.execute(update_string)\n",
    "\n"
   ]
  },
  {
   "cell_type": "code",
   "execution_count": 14,
   "metadata": {},
   "outputs": [
    {
     "data": {
      "text/plain": [
       "\"INSERT INTO aify_recommend.watch_list (user_id, newest_num_post, viewed_time, watch_user_list) VALUES('emmaparkerandco', 0, '2018-08-22 10:47:11.309934', ?);\""
      ]
     },
     "execution_count": 14,
     "metadata": {},
     "output_type": "execute_result"
    }
   ],
   "source": [
    "insert_string"
   ]
  },
  {
   "cell_type": "code",
   "execution_count": 133,
   "metadata": {},
   "outputs": [
    {
     "data": {
      "text/plain": [
       "datetime.datetime(2018, 8, 22, 3, 34, 6, 812638)"
      ]
     },
     "execution_count": 133,
     "metadata": {},
     "output_type": "execute_result"
    }
   ],
   "source": [
    "from datetime import datetime\n",
    "datetime.utcnow()"
   ]
  },
  {
   "cell_type": "code",
   "execution_count": 107,
   "metadata": {},
   "outputs": [],
   "source": [
    "id1 = uuid_from_time(time.time())\n",
    "id2 = uuid_from_time(time.time())"
   ]
  },
  {
   "cell_type": "code",
   "execution_count": 108,
   "metadata": {},
   "outputs": [],
   "source": [
    "from cassandra.util import datetime_from_uuid1, unix_time_from_uuid1"
   ]
  },
  {
   "cell_type": "code",
   "execution_count": 110,
   "metadata": {},
   "outputs": [
    {
     "name": "stdout",
     "output_type": "stream",
     "text": [
      "1534845616.599598\n",
      "1534845616.599598\n"
     ]
    }
   ],
   "source": [
    "print(unix_time_from_uuid1(id1))\n",
    "print(unix_time_from_uuid1(id2))"
   ]
  },
  {
   "cell_type": "code",
   "execution_count": 104,
   "metadata": {},
   "outputs": [
    {
     "ename": "AttributeError",
     "evalue": "module 'cassandra.util' has no attribute 'toUnixTimestamp'",
     "output_type": "error",
     "traceback": [
      "\u001b[1;31m---------------------------------------------------------------------------\u001b[0m",
      "\u001b[1;31mAttributeError\u001b[0m                            Traceback (most recent call last)",
      "\u001b[1;32m<ipython-input-104-4f263f26d359>\u001b[0m in \u001b[0;36m<module>\u001b[1;34m()\u001b[0m\n\u001b[1;32m----> 1\u001b[1;33m \u001b[0mcassandra\u001b[0m\u001b[1;33m.\u001b[0m\u001b[0mutil\u001b[0m\u001b[1;33m.\u001b[0m\u001b[0mtoUnixTimestamp\u001b[0m\u001b[1;33m(\u001b[0m\u001b[0mtimeuuid\u001b[0m\u001b[1;33m)\u001b[0m\u001b[1;33m\u001b[0m\u001b[0m\n\u001b[0m",
      "\u001b[1;31mAttributeError\u001b[0m: module 'cassandra.util' has no attribute 'toUnixTimestamp'"
     ]
    }
   ],
   "source": [
    "toUnixTimestamp(timeuuid)"
   ]
  },
  {
   "cell_type": "code",
   "execution_count": 112,
   "metadata": {},
   "outputs": [],
   "source": [
    "rnd = random.randint(0,12)\n",
    "set_business_word = ['Entertainment', 'Fashion', 'Lifestyle', 'Food And Drinks', 'Travel And Tourism','Travel','clothing','Gym Fashion','Photography','Modeling','Fitness Photography','Comercial']\n",
    "set_business_word[rnd]"
   ]
  },
  {
   "cell_type": "code",
   "execution_count": null,
   "metadata": {},
   "outputs": [],
   "source": [
    "social_user('external_id', 'username', 'post_cnt', 'avatar_url', 'post_cnt', 'followers_cnt')\n",
    "\n",
    "user_hashtag_setting('categories')"
   ]
  },
  {
   "cell_type": "markdown",
   "metadata": {},
   "source": [
    "# onl recommend "
   ]
  },
  {
   "cell_type": "code",
   "execution_count": 407,
   "metadata": {},
   "outputs": [],
   "source": [
    "rows = db.session.execute(\"select * from %s.social_user;\"%(constants.KEYSPACE_NAME))\n",
    "rows2 = db.session.execute(\"select * from %s.user_hashtag_setting;\"%(constants.KEYSPACE_NAME))\n",
    "df1 = rows._current_rows\n",
    "df2 = rows2._current_rows"
   ]
  },
  {
   "cell_type": "code",
   "execution_count": 408,
   "metadata": {},
   "outputs": [],
   "source": [
    "df = df1.merge(df2[['owner_id','categories']],left_on='id', right_on='owner_id')\n"
   ]
  },
  {
   "cell_type": "code",
   "execution_count": 412,
   "metadata": {},
   "outputs": [],
   "source": [
    "df.loc[df['id'] == '17841400363002924', 'categories'] = 'Fashion, Travel, clothes'\n",
    "df.loc[df['id'] == '17841400488056752', 'categories'] = 'Fashion, Travel, Beauty'\n",
    "df.loc[df['id'] == '17841403916959140', 'categories'] = 'accessories, Beauty'\n",
    "df.loc[df['external_id'] == '17841400363002924', 'home_link'] = 'Fashion, Travel, clothes'"
   ]
  },
  {
   "cell_type": "code",
   "execution_count": null,
   "metadata": {},
   "outputs": [],
   "source": []
  },
  {
   "cell_type": "code",
   "execution_count": 413,
   "metadata": {},
   "outputs": [
    {
     "data": {
      "text/html": [
       "<div>\n",
       "<style scoped>\n",
       "    .dataframe tbody tr th:only-of-type {\n",
       "        vertical-align: middle;\n",
       "    }\n",
       "\n",
       "    .dataframe tbody tr th {\n",
       "        vertical-align: top;\n",
       "    }\n",
       "\n",
       "    .dataframe thead th {\n",
       "        text-align: right;\n",
       "    }\n",
       "</style>\n",
       "<table border=\"1\" class=\"dataframe\">\n",
       "  <thead>\n",
       "    <tr style=\"text-align: right;\">\n",
       "      <th></th>\n",
       "      <th>social_type</th>\n",
       "      <th>external_id</th>\n",
       "      <th>access_token</th>\n",
       "      <th>account_id</th>\n",
       "      <th>avatar_url</th>\n",
       "      <th>created</th>\n",
       "      <th>followers_cnt</th>\n",
       "      <th>follows_cnt</th>\n",
       "      <th>fullname</th>\n",
       "      <th>id</th>\n",
       "      <th>post_cnt</th>\n",
       "      <th>updated</th>\n",
       "      <th>username</th>\n",
       "      <th>owner_id</th>\n",
       "      <th>categories</th>\n",
       "      <th>home_link</th>\n",
       "    </tr>\n",
       "  </thead>\n",
       "  <tbody>\n",
       "    <tr>\n",
       "      <th>0</th>\n",
       "      <td>instagram_business</td>\n",
       "      <td>17841400363002924</td>\n",
       "      <td>EAACLXTuiZBKkBADl1XmuR4gsNuSIGwQtTLaKcXUU9o34x...</td>\n",
       "      <td>nctam@atvn.com</td>\n",
       "      <td>https://scontent.xx.fbcdn.net/v/t51.2885-15/22...</td>\n",
       "      <td>2018-08-28 02:57:09</td>\n",
       "      <td>831760</td>\n",
       "      <td>10</td>\n",
       "      <td>Book Smarter</td>\n",
       "      <td>ba5ee910-aaa8-11e8-a25d-bbf697a6eaed</td>\n",
       "      <td>436</td>\n",
       "      <td>2018-08-28 02:57:09</td>\n",
       "      <td>booksmartertravel</td>\n",
       "      <td>ba5ee910-aaa8-11e8-a25d-bbf697a6eaed</td>\n",
       "      <td>None</td>\n",
       "      <td>Fashion, Travel, clothes</td>\n",
       "    </tr>\n",
       "    <tr>\n",
       "      <th>1</th>\n",
       "      <td>instagram_business</td>\n",
       "      <td>17841400488056752</td>\n",
       "      <td>EAACLXTuiZBKkBAIDkSQUvWSlm7ILTKMxTkpOn10T8ZB6D...</td>\n",
       "      <td>nctam@atvn.com</td>\n",
       "      <td>https://scontent.xx.fbcdn.net/v/t51.2885-15/12...</td>\n",
       "      <td>2018-08-28 02:57:09</td>\n",
       "      <td>211431</td>\n",
       "      <td>44</td>\n",
       "      <td>Luxury Travel Media</td>\n",
       "      <td>ba5f1020-aaa8-11e8-a25d-bbf697a6eaed</td>\n",
       "      <td>680</td>\n",
       "      <td>2018-08-28 02:57:09</td>\n",
       "      <td>luxwtprime</td>\n",
       "      <td>ba5f1020-aaa8-11e8-a25d-bbf697a6eaed</td>\n",
       "      <td>None</td>\n",
       "      <td>NaN</td>\n",
       "    </tr>\n",
       "    <tr>\n",
       "      <th>2</th>\n",
       "      <td>instagram_business</td>\n",
       "      <td>17841400835466221</td>\n",
       "      <td>EAACLXTuiZBKkBACTE19k2ZASZA2jKqTukG9uVMDZBqd5G...</td>\n",
       "      <td>test@test.vn</td>\n",
       "      <td>https://scontent.xx.fbcdn.net/v/t51.2885-15/18...</td>\n",
       "      <td>2018-08-30 06:21:35</td>\n",
       "      <td>89</td>\n",
       "      <td>361</td>\n",
       "      <td>Huynh Trung Thong</td>\n",
       "      <td>f1d72270-ac1c-11e8-9f0a-f5dca0620c08</td>\n",
       "      <td>6</td>\n",
       "      <td>2018-08-30 06:21:35</td>\n",
       "      <td>trungthong95d</td>\n",
       "      <td>f1d72270-ac1c-11e8-9f0a-f5dca0620c08</td>\n",
       "      <td>[\"hot great\",\"Vehicle service and accessories\"...</td>\n",
       "      <td>NaN</td>\n",
       "    </tr>\n",
       "    <tr>\n",
       "      <th>3</th>\n",
       "      <td>instagram_business</td>\n",
       "      <td>17841401610104138</td>\n",
       "      <td>EAACLXTuiZBKkBALZCbVrZBpkptC5tJHaDZCWxZAZBFSI2...</td>\n",
       "      <td>nctam@atvn.com</td>\n",
       "      <td>https://scontent.xx.fbcdn.net/v/t51.2885-15/35...</td>\n",
       "      <td>2018-08-28 02:57:09</td>\n",
       "      <td>2784507</td>\n",
       "      <td>450</td>\n",
       "      <td>Luxury Travel Community</td>\n",
       "      <td>ba54d6f0-aaa8-11e8-a25d-bbf697a6eaed</td>\n",
       "      <td>4426</td>\n",
       "      <td>2018-08-28 02:57:09</td>\n",
       "      <td>luxuryworldtraveler</td>\n",
       "      <td>ba54d6f0-aaa8-11e8-a25d-bbf697a6eaed</td>\n",
       "      <td>[\"Travel\"]</td>\n",
       "      <td>NaN</td>\n",
       "    </tr>\n",
       "    <tr>\n",
       "      <th>4</th>\n",
       "      <td>instagram_business</td>\n",
       "      <td>17841403916959140</td>\n",
       "      <td>EAACLXTuiZBKkBAKOYWdHtqJ6J3Q3eTZC3FEZCDUVUxPHZ...</td>\n",
       "      <td>john@gmail.com</td>\n",
       "      <td>https://scontent.xx.fbcdn.net/v/t51.2885-15/14...</td>\n",
       "      <td>2018-08-30 14:18:48</td>\n",
       "      <td>50</td>\n",
       "      <td>36</td>\n",
       "      <td>John Schell</td>\n",
       "      <td>9ccf9300-ac5f-11e8-80f4-eb836fc406ca</td>\n",
       "      <td>7</td>\n",
       "      <td>2018-08-30 14:18:48</td>\n",
       "      <td>schell.je</td>\n",
       "      <td>9ccf9300-ac5f-11e8-80f4-eb836fc406ca</td>\n",
       "      <td>None</td>\n",
       "      <td>NaN</td>\n",
       "    </tr>\n",
       "    <tr>\n",
       "      <th>5</th>\n",
       "      <td>instagram_business</td>\n",
       "      <td>17841404755455889</td>\n",
       "      <td>EAACLXTuiZBKkBAEU0tmMoHySR8n3tUGZA7lY5zpXjePgo...</td>\n",
       "      <td>nctam@atvn.com</td>\n",
       "      <td>https://scontent.xx.fbcdn.net/v/t51.2885-15/16...</td>\n",
       "      <td>2018-08-28 02:57:09</td>\n",
       "      <td>9</td>\n",
       "      <td>6</td>\n",
       "      <td>IG Steps</td>\n",
       "      <td>ba5f1021-aaa8-11e8-a25d-bbf697a6eaed</td>\n",
       "      <td>8</td>\n",
       "      <td>2018-08-28 02:57:09</td>\n",
       "      <td>stepbystepinsta</td>\n",
       "      <td>ba5f1021-aaa8-11e8-a25d-bbf697a6eaed</td>\n",
       "      <td>None</td>\n",
       "      <td>NaN</td>\n",
       "    </tr>\n",
       "    <tr>\n",
       "      <th>6</th>\n",
       "      <td>instagram_business</td>\n",
       "      <td>17841406553883197</td>\n",
       "      <td>EAACLXTuiZBKkBAFdfQwPj1Wf7puhcRZB2iHQZA5kyUcUP...</td>\n",
       "      <td>arrive21@gmail.com</td>\n",
       "      <td>https://scontent.xx.fbcdn.net/v/t51.2885-15/26...</td>\n",
       "      <td>2018-08-30 04:11:08</td>\n",
       "      <td>18</td>\n",
       "      <td>46</td>\n",
       "      <td>Arrive Technologies</td>\n",
       "      <td>b8c94a10-ac0a-11e8-b3a2-63161aac83ec</td>\n",
       "      <td>16</td>\n",
       "      <td>2018-08-30 04:11:08</td>\n",
       "      <td>arrivetechnologiesvietnam</td>\n",
       "      <td>b8c94a10-ac0a-11e8-b3a2-63161aac83ec</td>\n",
       "      <td>None</td>\n",
       "      <td>NaN</td>\n",
       "    </tr>\n",
       "    <tr>\n",
       "      <th>7</th>\n",
       "      <td>instagram_business</td>\n",
       "      <td>17841406950952588</td>\n",
       "      <td>EAACLXTuiZBKkBAD0u5VagMY2I2fW1TtjTYLv2FrgOCGcm...</td>\n",
       "      <td>arrive22@gmail.com</td>\n",
       "      <td>https://scontent.xx.fbcdn.net/v/t51.2885-15/26...</td>\n",
       "      <td>2018-08-30 04:07:58</td>\n",
       "      <td>7</td>\n",
       "      <td>0</td>\n",
       "      <td>arrivetechnologiesvietnam2</td>\n",
       "      <td>478885a0-ac0a-11e8-b3a2-63161aac83ec</td>\n",
       "      <td>2</td>\n",
       "      <td>2018-08-30 04:07:58</td>\n",
       "      <td>arrivetechnologiesvietnam2</td>\n",
       "      <td>478885a0-ac0a-11e8-b3a2-63161aac83ec</td>\n",
       "      <td>None</td>\n",
       "      <td>NaN</td>\n",
       "    </tr>\n",
       "    <tr>\n",
       "      <th>8</th>\n",
       "      <td>instagram_business</td>\n",
       "      <td>17841407517779759</td>\n",
       "      <td>EAACLXTuiZBKkBAAlltLcfBBky8XGlwO7JSzDGAZCUeEDP...</td>\n",
       "      <td>arrive21@gmail.com</td>\n",
       "      <td>https://scontent.xx.fbcdn.net/v/t51.2885-15/30...</td>\n",
       "      <td>2018-08-30 04:11:08</td>\n",
       "      <td>222</td>\n",
       "      <td>815</td>\n",
       "      <td>undefined</td>\n",
       "      <td>b8cf6490-ac0a-11e8-b3a2-63161aac83ec</td>\n",
       "      <td>42</td>\n",
       "      <td>2018-08-30 04:11:08</td>\n",
       "      <td>vnbeachhotel</td>\n",
       "      <td>b8cf6490-ac0a-11e8-b3a2-63161aac83ec</td>\n",
       "      <td>None</td>\n",
       "      <td>NaN</td>\n",
       "    </tr>\n",
       "    <tr>\n",
       "      <th>9</th>\n",
       "      <td>instagram_business</td>\n",
       "      <td>17841407886728175</td>\n",
       "      <td>EAACLXTuiZBKkBAJtbRgxWzq6URjWzRL4xFfEZBQv5OfXS...</td>\n",
       "      <td>john@gmail.com</td>\n",
       "      <td>https://scontent.xx.fbcdn.net/v/t51.2885-15/32...</td>\n",
       "      <td>2018-08-30 14:18:48</td>\n",
       "      <td>2</td>\n",
       "      <td>2</td>\n",
       "      <td>FolloU Application</td>\n",
       "      <td>9c88c600-ac5f-11e8-80f4-eb836fc406ca</td>\n",
       "      <td>1</td>\n",
       "      <td>2018-08-30 14:18:48</td>\n",
       "      <td>follouapp</td>\n",
       "      <td>9c88c600-ac5f-11e8-80f4-eb836fc406ca</td>\n",
       "      <td>None</td>\n",
       "      <td>NaN</td>\n",
       "    </tr>\n",
       "  </tbody>\n",
       "</table>\n",
       "</div>"
      ],
      "text/plain": [
       "          social_type        external_id  \\\n",
       "0  instagram_business  17841400363002924   \n",
       "1  instagram_business  17841400488056752   \n",
       "2  instagram_business  17841400835466221   \n",
       "3  instagram_business  17841401610104138   \n",
       "4  instagram_business  17841403916959140   \n",
       "5  instagram_business  17841404755455889   \n",
       "6  instagram_business  17841406553883197   \n",
       "7  instagram_business  17841406950952588   \n",
       "8  instagram_business  17841407517779759   \n",
       "9  instagram_business  17841407886728175   \n",
       "\n",
       "                                        access_token          account_id  \\\n",
       "0  EAACLXTuiZBKkBADl1XmuR4gsNuSIGwQtTLaKcXUU9o34x...      nctam@atvn.com   \n",
       "1  EAACLXTuiZBKkBAIDkSQUvWSlm7ILTKMxTkpOn10T8ZB6D...      nctam@atvn.com   \n",
       "2  EAACLXTuiZBKkBACTE19k2ZASZA2jKqTukG9uVMDZBqd5G...        test@test.vn   \n",
       "3  EAACLXTuiZBKkBALZCbVrZBpkptC5tJHaDZCWxZAZBFSI2...      nctam@atvn.com   \n",
       "4  EAACLXTuiZBKkBAKOYWdHtqJ6J3Q3eTZC3FEZCDUVUxPHZ...      john@gmail.com   \n",
       "5  EAACLXTuiZBKkBAEU0tmMoHySR8n3tUGZA7lY5zpXjePgo...      nctam@atvn.com   \n",
       "6  EAACLXTuiZBKkBAFdfQwPj1Wf7puhcRZB2iHQZA5kyUcUP...  arrive21@gmail.com   \n",
       "7  EAACLXTuiZBKkBAD0u5VagMY2I2fW1TtjTYLv2FrgOCGcm...  arrive22@gmail.com   \n",
       "8  EAACLXTuiZBKkBAAlltLcfBBky8XGlwO7JSzDGAZCUeEDP...  arrive21@gmail.com   \n",
       "9  EAACLXTuiZBKkBAJtbRgxWzq6URjWzRL4xFfEZBQv5OfXS...      john@gmail.com   \n",
       "\n",
       "                                          avatar_url             created  \\\n",
       "0  https://scontent.xx.fbcdn.net/v/t51.2885-15/22... 2018-08-28 02:57:09   \n",
       "1  https://scontent.xx.fbcdn.net/v/t51.2885-15/12... 2018-08-28 02:57:09   \n",
       "2  https://scontent.xx.fbcdn.net/v/t51.2885-15/18... 2018-08-30 06:21:35   \n",
       "3  https://scontent.xx.fbcdn.net/v/t51.2885-15/35... 2018-08-28 02:57:09   \n",
       "4  https://scontent.xx.fbcdn.net/v/t51.2885-15/14... 2018-08-30 14:18:48   \n",
       "5  https://scontent.xx.fbcdn.net/v/t51.2885-15/16... 2018-08-28 02:57:09   \n",
       "6  https://scontent.xx.fbcdn.net/v/t51.2885-15/26... 2018-08-30 04:11:08   \n",
       "7  https://scontent.xx.fbcdn.net/v/t51.2885-15/26... 2018-08-30 04:07:58   \n",
       "8  https://scontent.xx.fbcdn.net/v/t51.2885-15/30... 2018-08-30 04:11:08   \n",
       "9  https://scontent.xx.fbcdn.net/v/t51.2885-15/32... 2018-08-30 14:18:48   \n",
       "\n",
       "   followers_cnt  follows_cnt                    fullname  \\\n",
       "0         831760           10                Book Smarter   \n",
       "1         211431           44         Luxury Travel Media   \n",
       "2             89          361           Huynh Trung Thong   \n",
       "3        2784507          450     Luxury Travel Community   \n",
       "4             50           36                 John Schell   \n",
       "5              9            6                    IG Steps   \n",
       "6             18           46         Arrive Technologies   \n",
       "7              7            0  arrivetechnologiesvietnam2   \n",
       "8            222          815                   undefined   \n",
       "9              2            2          FolloU Application   \n",
       "\n",
       "                                     id  post_cnt             updated  \\\n",
       "0  ba5ee910-aaa8-11e8-a25d-bbf697a6eaed       436 2018-08-28 02:57:09   \n",
       "1  ba5f1020-aaa8-11e8-a25d-bbf697a6eaed       680 2018-08-28 02:57:09   \n",
       "2  f1d72270-ac1c-11e8-9f0a-f5dca0620c08         6 2018-08-30 06:21:35   \n",
       "3  ba54d6f0-aaa8-11e8-a25d-bbf697a6eaed      4426 2018-08-28 02:57:09   \n",
       "4  9ccf9300-ac5f-11e8-80f4-eb836fc406ca         7 2018-08-30 14:18:48   \n",
       "5  ba5f1021-aaa8-11e8-a25d-bbf697a6eaed         8 2018-08-28 02:57:09   \n",
       "6  b8c94a10-ac0a-11e8-b3a2-63161aac83ec        16 2018-08-30 04:11:08   \n",
       "7  478885a0-ac0a-11e8-b3a2-63161aac83ec         2 2018-08-30 04:07:58   \n",
       "8  b8cf6490-ac0a-11e8-b3a2-63161aac83ec        42 2018-08-30 04:11:08   \n",
       "9  9c88c600-ac5f-11e8-80f4-eb836fc406ca         1 2018-08-30 14:18:48   \n",
       "\n",
       "                     username                              owner_id  \\\n",
       "0           booksmartertravel  ba5ee910-aaa8-11e8-a25d-bbf697a6eaed   \n",
       "1                  luxwtprime  ba5f1020-aaa8-11e8-a25d-bbf697a6eaed   \n",
       "2               trungthong95d  f1d72270-ac1c-11e8-9f0a-f5dca0620c08   \n",
       "3         luxuryworldtraveler  ba54d6f0-aaa8-11e8-a25d-bbf697a6eaed   \n",
       "4                   schell.je  9ccf9300-ac5f-11e8-80f4-eb836fc406ca   \n",
       "5             stepbystepinsta  ba5f1021-aaa8-11e8-a25d-bbf697a6eaed   \n",
       "6   arrivetechnologiesvietnam  b8c94a10-ac0a-11e8-b3a2-63161aac83ec   \n",
       "7  arrivetechnologiesvietnam2  478885a0-ac0a-11e8-b3a2-63161aac83ec   \n",
       "8                vnbeachhotel  b8cf6490-ac0a-11e8-b3a2-63161aac83ec   \n",
       "9                   follouapp  9c88c600-ac5f-11e8-80f4-eb836fc406ca   \n",
       "\n",
       "                                          categories                 home_link  \n",
       "0                                               None  Fashion, Travel, clothes  \n",
       "1                                               None                       NaN  \n",
       "2  [\"hot great\",\"Vehicle service and accessories\"...                       NaN  \n",
       "3                                         [\"Travel\"]                       NaN  \n",
       "4                                               None                       NaN  \n",
       "5                                               None                       NaN  \n",
       "6                                               None                       NaN  \n",
       "7                                               None                       NaN  \n",
       "8                                               None                       NaN  \n",
       "9                                               None                       NaN  "
      ]
     },
     "execution_count": 413,
     "metadata": {},
     "output_type": "execute_result"
    }
   ],
   "source": [
    "df.head(10)"
   ]
  },
  {
   "cell_type": "code",
   "execution_count": 332,
   "metadata": {},
   "outputs": [],
   "source": [
    "from sklearn.feature_extraction.text import TfidfVectorizer\n",
    "from sklearn.metrics.pairwise import cosine_similarity\n",
    "from nltk.stem import PorterStemmer\n",
    "from nltk.corpus import stopwords\n",
    "from nltk.tokenize import word_tokenize\n",
    "stemmer = PorterStemmer()\n",
    "\n",
    "def train_matrix(df, other_format = True): #build matrix to calculate distance between vector\n",
    "        \n",
    "    list_business = list()\n",
    "    for x in range(len(df['categories'])):\n",
    "        try:\n",
    "            if len(df['categories'].iloc[x])> 0:\n",
    "                if other_format == True:\n",
    "                    list_business.append(' '.join([stemmer.stem(word) for word in df['categories'].iloc[x]]))\n",
    "                else:\n",
    "                    #column categories with type text (ex: '[\"hot great\",\"Vehicle service and accessories\",\"Toys and hobbies\",\"Sports and outdoors\",\"Vehicle sales\"]')\n",
    "                    list_business.append(' '.join([stemmer.stem(word) for word in re.sub(r'[\\[\\]\\\"]', \"\", df['categories'].iloc[x]).split(',')]))     \n",
    "            else:\n",
    "                print(len(df['categories'][x]))\n",
    "        except Exception as ex:\n",
    "            print(ex)\n",
    "            pass\n",
    "    tfidf_vectorizer = TfidfVectorizer(stop_words='english')\n",
    "    tfidf_matrix = tfidf_vectorizer.fit_transform(list_business)\n",
    "\n",
    "    return tfidf_matrix, tfidf_vectorizer, list_business"
   ]
  },
  {
   "cell_type": "code",
   "execution_count": 333,
   "metadata": {},
   "outputs": [
    {
     "name": "stdout",
     "output_type": "stream",
     "text": [
      "object of type 'NoneType' has no len()\n",
      "object of type 'NoneType' has no len()\n",
      "object of type 'NoneType' has no len()\n",
      "object of type 'NoneType' has no len()\n",
      "object of type 'NoneType' has no len()\n",
      "object of type 'NoneType' has no len()\n",
      "object of type 'NoneType' has no len()\n",
      "object of type 'NoneType' has no len()\n",
      "object of type 'NoneType' has no len()\n",
      "object of type 'NoneType' has no len()\n",
      "object of type 'NoneType' has no len()\n",
      "object of type 'NoneType' has no len()\n",
      "object of type 'NoneType' has no len()\n",
      "object of type 'NoneType' has no len()\n"
     ]
    }
   ],
   "source": [
    "tfidf_matrix, tfidf_vectorizer, list_business = train_matrix(df, False)"
   ]
  },
  {
   "cell_type": "code",
   "execution_count": 334,
   "metadata": {},
   "outputs": [
    {
     "data": {
      "text/plain": [
       "{'fashion': 3,\n",
       " 'travel': 12,\n",
       " 'cloth': 2,\n",
       " 'beauti': 1,\n",
       " 'hot': 6,\n",
       " 'great': 4,\n",
       " 'vehicle': 13,\n",
       " 'service': 9,\n",
       " 'accessori': 0,\n",
       " 'toys': 11,\n",
       " 'hobbi': 5,\n",
       " 'sports': 10,\n",
       " 'outdoor': 7,\n",
       " 'sal': 8}"
      ]
     },
     "execution_count": 334,
     "metadata": {},
     "output_type": "execute_result"
    }
   ],
   "source": [
    "tfidf_vectorizer.vocabulary_"
   ]
  },
  {
   "cell_type": "code",
   "execution_count": 367,
   "metadata": {},
   "outputs": [],
   "source": [
    "#predict \n",
    "list_business_word = 'travel'\n",
    "\n",
    "list_text = []\n",
    "list_text= [stemmer.stem(x) for x in list_business_word.split(',')]\n",
    "list_text = ' '.join(list_text)\n",
    "\n",
    "\n",
    "sentence_to_vector = tfidf_vectorizer.transform([list_text])#toarray()\n",
    "arr = cosine_similarity(sentence_to_vector, tfidf_matrix)\n",
    "preds = arr[0, 0:]\n",
    "\n",
    "sorted_inds = [i[0] for i in sorted(enumerate(-preds), key=lambda x:x[1])]"
   ]
  },
  {
   "cell_type": "code",
   "execution_count": 380,
   "metadata": {},
   "outputs": [
    {
     "data": {
      "text/plain": [
       "[3, 1, 0, 2, 4]"
      ]
     },
     "execution_count": 380,
     "metadata": {},
     "output_type": "execute_result"
    }
   ],
   "source": [
    "sorted_inds"
   ]
  },
  {
   "cell_type": "code",
   "execution_count": 381,
   "metadata": {},
   "outputs": [
    {
     "data": {
      "text/plain": [
       "[3, 1]"
      ]
     },
     "execution_count": 381,
     "metadata": {},
     "output_type": "execute_result"
    }
   ],
   "source": [
    "[item for item in sorted_inds if preds[item]> 0.5]"
   ]
  },
  {
   "cell_type": "code",
   "execution_count": 371,
   "metadata": {},
   "outputs": [
    {
     "name": "stdout",
     "output_type": "stream",
     "text": [
      "(0, -0.5062044059286201)\n",
      "(1, -1.0)\n"
     ]
    }
   ],
   "source": [
    "import numpy as np\n",
    "a = sorted(i for i in preds if i >= 0.5)\n",
    "for i in enumerate(-np.array(a)):\n",
    "    print(i)"
   ]
  },
  {
   "cell_type": "code",
   "execution_count": 373,
   "metadata": {},
   "outputs": [
    {
     "data": {
      "text/plain": [
       "array([0.4622077 , 0.50620441, 0.        , 1.        , 0.        ])"
      ]
     },
     "execution_count": 373,
     "metadata": {},
     "output_type": "execute_result"
    }
   ],
   "source": [
    "preds"
   ]
  },
  {
   "cell_type": "code",
   "execution_count": 354,
   "metadata": {},
   "outputs": [
    {
     "data": {
      "text/plain": [
       "[0.5062044059286201, 1.0]"
      ]
     },
     "execution_count": 354,
     "metadata": {},
     "output_type": "execute_result"
    }
   ],
   "source": []
  },
  {
   "cell_type": "code",
   "execution_count": 351,
   "metadata": {},
   "outputs": [
    {
     "data": {
      "text/plain": [
       "[3, 1, 0, 2, 4]"
      ]
     },
     "execution_count": 351,
     "metadata": {},
     "output_type": "execute_result"
    }
   ],
   "source": [
    "sorted_inds"
   ]
  },
  {
   "cell_type": "code",
   "execution_count": 338,
   "metadata": {},
   "outputs": [
    {
     "data": {
      "text/plain": [
       "array([False,  True, False,  True, False])"
      ]
     },
     "execution_count": 338,
     "metadata": {},
     "output_type": "execute_result"
    }
   ],
   "source": [
    "preds > 0.5"
   ]
  },
  {
   "cell_type": "code",
   "execution_count": 312,
   "metadata": {},
   "outputs": [],
   "source": [
    "tmp_df = df.iloc[sorted_inds]"
   ]
  },
  {
   "cell_type": "code",
   "execution_count": 329,
   "metadata": {},
   "outputs": [],
   "source": [
    "tmp_df = tmp_df.loc[:, tmp_df.columns !='social_type']"
   ]
  },
  {
   "cell_type": "code",
   "execution_count": 386,
   "metadata": {},
   "outputs": [
    {
     "data": {
      "text/html": [
       "<div>\n",
       "<style scoped>\n",
       "    .dataframe tbody tr th:only-of-type {\n",
       "        vertical-align: middle;\n",
       "    }\n",
       "\n",
       "    .dataframe tbody tr th {\n",
       "        vertical-align: top;\n",
       "    }\n",
       "\n",
       "    .dataframe thead th {\n",
       "        text-align: right;\n",
       "    }\n",
       "</style>\n",
       "<table border=\"1\" class=\"dataframe\">\n",
       "  <thead>\n",
       "    <tr style=\"text-align: right;\">\n",
       "      <th></th>\n",
       "      <th>id</th>\n",
       "      <th>access_token</th>\n",
       "      <th>account_id</th>\n",
       "      <th>profile_picture_url</th>\n",
       "      <th>created</th>\n",
       "      <th>followers_count</th>\n",
       "      <th>follows_cnt</th>\n",
       "      <th>name</th>\n",
       "      <th>id_</th>\n",
       "      <th>media_count</th>\n",
       "      <th>updated_date</th>\n",
       "      <th>username</th>\n",
       "      <th>owner_id</th>\n",
       "      <th>categories</th>\n",
       "      <th>biography</th>\n",
       "      <th>comments_count</th>\n",
       "      <th>likes_count</th>\n",
       "      <th>account_type</th>\n",
       "    </tr>\n",
       "  </thead>\n",
       "  <tbody>\n",
       "    <tr>\n",
       "      <th>3</th>\n",
       "      <td>17841401610104138</td>\n",
       "      <td>EAACLXTuiZBKkBALZCbVrZBpkptC5tJHaDZCWxZAZBFSI2...</td>\n",
       "      <td>nctam@atvn.com</td>\n",
       "      <td>https://scontent.xx.fbcdn.net/v/t51.2885-15/35...</td>\n",
       "      <td>2018-08-28 02:57:09</td>\n",
       "      <td>2784507</td>\n",
       "      <td>450</td>\n",
       "      <td>Luxury Travel Community</td>\n",
       "      <td>ba54d6f0-aaa8-11e8-a25d-bbf697a6eaed</td>\n",
       "      <td>4426</td>\n",
       "      <td>2018-08-28 02:57:09</td>\n",
       "      <td>luxuryworldtraveler</td>\n",
       "      <td>ba54d6f0-aaa8-11e8-a25d-bbf697a6eaed</td>\n",
       "      <td>[\"Travel\"]</td>\n",
       "      <td></td>\n",
       "      <td></td>\n",
       "      <td></td>\n",
       "      <td></td>\n",
       "    </tr>\n",
       "  </tbody>\n",
       "</table>\n",
       "</div>"
      ],
      "text/plain": [
       "                  id                                       access_token  \\\n",
       "3  17841401610104138  EAACLXTuiZBKkBALZCbVrZBpkptC5tJHaDZCWxZAZBFSI2...   \n",
       "\n",
       "       account_id                                profile_picture_url  \\\n",
       "3  nctam@atvn.com  https://scontent.xx.fbcdn.net/v/t51.2885-15/35...   \n",
       "\n",
       "              created  followers_count  follows_cnt                     name  \\\n",
       "3 2018-08-28 02:57:09          2784507          450  Luxury Travel Community   \n",
       "\n",
       "                                    id_  media_count        updated_date  \\\n",
       "3  ba54d6f0-aaa8-11e8-a25d-bbf697a6eaed         4426 2018-08-28 02:57:09   \n",
       "\n",
       "              username                              owner_id  categories  \\\n",
       "3  luxuryworldtraveler  ba54d6f0-aaa8-11e8-a25d-bbf697a6eaed  [\"Travel\"]   \n",
       "\n",
       "  biography comments_count likes_count account_type  \n",
       "3                                                    "
      ]
     },
     "execution_count": 386,
     "metadata": {},
     "output_type": "execute_result"
    }
   ],
   "source": [
    "tmp_df[:1]"
   ]
  },
  {
   "cell_type": "code",
   "execution_count": 387,
   "metadata": {},
   "outputs": [],
   "source": [
    "df = tmp_df"
   ]
  },
  {
   "cell_type": "code",
   "execution_count": 392,
   "metadata": {},
   "outputs": [],
   "source": [
    "df = df.reindex(sorted(df.columns), axis=1)"
   ]
  },
  {
   "cell_type": "code",
   "execution_count": 396,
   "metadata": {},
   "outputs": [
    {
     "data": {
      "text/plain": [
       "3    EAACLXTuiZBKkBALZCbVrZBpkptC5tJHaDZCWxZAZBFSI2...\n",
       "1    EAACLXTuiZBKkBAIDkSQUvWSlm7ILTKMxTkpOn10T8ZB6D...\n",
       "0    EAACLXTuiZBKkBADl1XmuR4gsNuSIGwQtTLaKcXUU9o34x...\n",
       "Name: access_token, dtype: object"
      ]
     },
     "execution_count": 396,
     "metadata": {},
     "output_type": "execute_result"
    }
   ],
   "source": [
    "df['access_token'][df['account_id'] == 'nctam@atvn.com'] = 'aaa'"
   ]
  },
  {
   "cell_type": "code",
   "execution_count": 276,
   "metadata": {},
   "outputs": [
    {
     "data": {
      "text/plain": [
       "array([[0.2773501, 0.2773501, 0.2773501, 0.2773501, 0.2773501, 0.2773501,\n",
       "        0.2773501, 0.2773501, 0.2773501, 0.5547002]])"
      ]
     },
     "execution_count": 276,
     "metadata": {},
     "output_type": "execute_result"
    }
   ],
   "source": [
    "tfidf_matrix.toarray()"
   ]
  },
  {
   "cell_type": "code",
   "execution_count": 331,
   "metadata": {},
   "outputs": [
    {
     "data": {
      "text/plain": [
       "True"
      ]
     },
     "execution_count": 331,
     "metadata": {},
     "output_type": "execute_result"
    }
   ],
   "source": [
    "a = [3]\n",
    "isinstance(a, list)"
   ]
  },
  {
   "cell_type": "code",
   "execution_count": 277,
   "metadata": {},
   "outputs": [
    {
     "data": {
      "text/plain": [
       "{'hot': 3,\n",
       " 'great': 1,\n",
       " 'vehicle': 9,\n",
       " 'service': 6,\n",
       " 'accessories': 0,\n",
       " 'toys': 8,\n",
       " 'hobbies': 2,\n",
       " 'sports': 7,\n",
       " 'outdoors': 4,\n",
       " 'sales': 5}"
      ]
     },
     "execution_count": 277,
     "metadata": {},
     "output_type": "execute_result"
    }
   ],
   "source": [
    "tfidf_vectorizer.vocabulary_"
   ]
  },
  {
   "cell_type": "code",
   "execution_count": 250,
   "metadata": {},
   "outputs": [
    {
     "ename": "SyntaxError",
     "evalue": "invalid syntax (<ipython-input-250-ef2cc8eff103>, line 25)",
     "output_type": "error",
     "traceback": [
      "\u001b[0;36m  File \u001b[0;32m\"<ipython-input-250-ef2cc8eff103>\"\u001b[0;36m, line \u001b[0;32m25\u001b[0m\n\u001b[0;31m    \"categories\": user_hashtag_setting.categories,\u001b[0m\n\u001b[0m               ^\u001b[0m\n\u001b[0;31mSyntaxError\u001b[0m\u001b[0;31m:\u001b[0m invalid syntax\n"
     ]
    }
   ],
   "source": [
    "\"\"\"\n",
    "id bigint,\n",
    "username text,\n",
    "biography text,\n",
    "comments_count int,\n",
    "followers_count int,\n",
    "likes_count int,\n",
    "media_count int,\n",
    "name text,\n",
    "profile_picture_url text,\n",
    "updated_date timestamp,\n",
    "\"\"\"   \n",
    "\n",
    "{\n",
    "    \"id\": social_user.external_id, \n",
    "    \"username\": social_user.username, \n",
    "    \"biography\": null, \n",
    "    \"comments_count\": null, \n",
    "    \"followers_count\": social_user.followers_cnt, \n",
    "    \"likes_count\": null, \n",
    "    \"media_count\": social_user.post_cnt, \n",
    "    \"name\": social_user.fullname, \n",
    "    \"profile_picture_url\": social_user.avatar_url, \n",
    "    \"updated_date\": 1535138885827, social_user.updated\n",
    "    \"categories\": user_hashtag_setting.categories, \n",
    "    \"instagram_id\": social_user.username, \n",
    "    \"account_type\": null\n",
    "}\n",
    "\n",
    "['id', 'username', 'biography', 'comments_count', 'followers_count',\n",
    "       'likes_count', 'media_count', 'name', 'profile_picture_url',\n",
    "       'updated_date', 'categories', 'instagram_id', 'account_type',\n",
    "       'type_resource']"
   ]
  },
  {
   "cell_type": "code",
   "execution_count": 268,
   "metadata": {},
   "outputs": [],
   "source": [
    "column_name = ['social_type', 'id', 'access_token', 'account_id',\n",
    "       'profile_picture_url', 'created', 'followers_count', 'follows_cnt', 'name',\n",
    "       'id_', 'media_count', 'updated_date', 'username', 'account_type', 'owner_id', 'categories']"
   ]
  },
  {
   "cell_type": "code",
   "execution_count": 266,
   "metadata": {},
   "outputs": [],
   "source": [
    "df.columns = column_name"
   ]
  },
  {
   "cell_type": "code",
   "execution_count": 267,
   "metadata": {},
   "outputs": [
    {
     "data": {
      "text/html": [
       "<div>\n",
       "<style scoped>\n",
       "    .dataframe tbody tr th:only-of-type {\n",
       "        vertical-align: middle;\n",
       "    }\n",
       "\n",
       "    .dataframe tbody tr th {\n",
       "        vertical-align: top;\n",
       "    }\n",
       "\n",
       "    .dataframe thead th {\n",
       "        text-align: right;\n",
       "    }\n",
       "</style>\n",
       "<table border=\"1\" class=\"dataframe\">\n",
       "  <thead>\n",
       "    <tr style=\"text-align: right;\">\n",
       "      <th></th>\n",
       "      <th>social_type</th>\n",
       "      <th>id</th>\n",
       "      <th>access_token</th>\n",
       "      <th>account_id</th>\n",
       "      <th>profile_picture_url</th>\n",
       "      <th>created</th>\n",
       "      <th>followers_count</th>\n",
       "      <th>follows_cnt</th>\n",
       "      <th>name</th>\n",
       "      <th>id_</th>\n",
       "      <th>media_count</th>\n",
       "      <th>updated_date</th>\n",
       "      <th>username</th>\n",
       "      <th>owner_id</th>\n",
       "      <th>categories</th>\n",
       "    </tr>\n",
       "  </thead>\n",
       "  <tbody>\n",
       "    <tr>\n",
       "      <th>0</th>\n",
       "      <td>instagram_business</td>\n",
       "      <td>17841400363002924</td>\n",
       "      <td>EAACLXTuiZBKkBADl1XmuR4gsNuSIGwQtTLaKcXUU9o34x...</td>\n",
       "      <td>nctam@atvn.com</td>\n",
       "      <td>https://scontent.xx.fbcdn.net/v/t51.2885-15/22...</td>\n",
       "      <td>2018-08-28 02:57:09</td>\n",
       "      <td>831760</td>\n",
       "      <td>10</td>\n",
       "      <td>Book Smarter</td>\n",
       "      <td>ba5ee910-aaa8-11e8-a25d-bbf697a6eaed</td>\n",
       "      <td>436</td>\n",
       "      <td>2018-08-28 02:57:09</td>\n",
       "      <td>booksmartertravel</td>\n",
       "      <td>ba5ee910-aaa8-11e8-a25d-bbf697a6eaed</td>\n",
       "      <td>None</td>\n",
       "    </tr>\n",
       "  </tbody>\n",
       "</table>\n",
       "</div>"
      ],
      "text/plain": [
       "          social_type                 id  \\\n",
       "0  instagram_business  17841400363002924   \n",
       "\n",
       "                                        access_token      account_id  \\\n",
       "0  EAACLXTuiZBKkBADl1XmuR4gsNuSIGwQtTLaKcXUU9o34x...  nctam@atvn.com   \n",
       "\n",
       "                                 profile_picture_url             created  \\\n",
       "0  https://scontent.xx.fbcdn.net/v/t51.2885-15/22... 2018-08-28 02:57:09   \n",
       "\n",
       "   followers_count  follows_cnt          name  \\\n",
       "0           831760           10  Book Smarter   \n",
       "\n",
       "                                    id_  media_count        updated_date  \\\n",
       "0  ba5ee910-aaa8-11e8-a25d-bbf697a6eaed          436 2018-08-28 02:57:09   \n",
       "\n",
       "            username                              owner_id categories  \n",
       "0  booksmartertravel  ba5ee910-aaa8-11e8-a25d-bbf697a6eaed       None  "
      ]
     },
     "execution_count": 267,
     "metadata": {},
     "output_type": "execute_result"
    }
   ],
   "source": [
    "df.head(1)"
   ]
  },
  {
   "cell_type": "code",
   "execution_count": 269,
   "metadata": {},
   "outputs": [],
   "source": [
    "df['biography'] = ''\n",
    "df['comments_count'] = ''\n",
    "df['likes_count'] = ''\n",
    "df['account_type'] = ''"
   ]
  },
  {
   "cell_type": "code",
   "execution_count": 320,
   "metadata": {},
   "outputs": [],
   "source": [
    "df = df[['id',\n",
    "       'profile_picture_url', 'created', 'followers_count', 'follows_cnt', 'name',\n",
    "        'media_count', 'updated_date', 'username', 'account_type', 'categories']]"
   ]
  },
  {
   "cell_type": "code",
   "execution_count": 315,
   "metadata": {},
   "outputs": [],
   "source": [
    "column_name = ['social_type', 'id', 'access_token', 'account_id',\n",
    "            'profile_picture_url', 'created', 'followers_count', 'follows_cnt', 'name',\n",
    "            'id_', 'media_count', 'updated_date', 'username', 'owner_id', 'categories']"
   ]
  },
  {
   "cell_type": "code",
   "execution_count": 316,
   "metadata": {},
   "outputs": [
    {
     "data": {
      "text/plain": [
       "['social_type',\n",
       " 'id',\n",
       " 'access_token',\n",
       " 'account_id',\n",
       " 'profile_picture_url',\n",
       " 'created',\n",
       " 'followers_count',\n",
       " 'follows_cnt',\n",
       " 'name',\n",
       " 'id_',\n",
       " 'media_count',\n",
       " 'updated_date',\n",
       " 'username',\n",
       " 'owner_id',\n",
       " 'categories']"
      ]
     },
     "execution_count": 316,
     "metadata": {},
     "output_type": "execute_result"
    }
   ],
   "source": [
    "column_name"
   ]
  },
  {
   "cell_type": "code",
   "execution_count": 317,
   "metadata": {},
   "outputs": [
    {
     "data": {
      "text/plain": [
       "15"
      ]
     },
     "execution_count": 317,
     "metadata": {},
     "output_type": "execute_result"
    }
   ],
   "source": [
    "len(column_name)"
   ]
  },
  {
   "cell_type": "code",
   "execution_count": null,
   "metadata": {},
   "outputs": [],
   "source": []
  }
 ],
 "metadata": {
  "kernelspec": {
   "display_name": "Python [conda env:py36]",
   "language": "python",
   "name": "conda-env-py36-py"
  },
  "language_info": {
   "codemirror_mode": {
    "name": "ipython",
    "version": 3
   },
   "file_extension": ".py",
   "mimetype": "text/x-python",
   "name": "python",
   "nbconvert_exporter": "python",
   "pygments_lexer": "ipython3",
   "version": "3.6.7"
  },
  "widgets": {
   "state": {},
   "version": "1.1.2"
  }
 },
 "nbformat": 4,
 "nbformat_minor": 2
}
